{
 "cells": [
  {
   "cell_type": "markdown",
   "id": "61c33df1",
   "metadata": {},
   "source": [
    "## Hypothesis Testing\n",
    "Filzahanti Nuha Ramadhani"
   ]
  },
  {
   "cell_type": "markdown",
   "id": "d5dabd26",
   "metadata": {},
   "source": [
    "Dataset source: <a href=\"https://www.kaggle.com/datasets/rodsaldanha/arketing-campaign\">Marketing Campaign</a>"
   ]
  },
  {
   "cell_type": "markdown",
   "id": "9e5bdc22",
   "metadata": {},
   "source": [
    "# Apakah education berpengaruh terhadap income?"
   ]
  },
  {
   "cell_type": "code",
   "execution_count": 23,
   "id": "27c3d1e2",
   "metadata": {},
   "outputs": [],
   "source": [
    "import pandas as pd\n",
    "import numpy as np\n",
    "import scipy.stats as st\n",
    "import researchpy as rp\n",
    "import statistics\n",
    "import seaborn as sns\n",
    "import matplotlib.pyplot as plt"
   ]
  },
  {
   "cell_type": "code",
   "execution_count": 2,
   "id": "4045345f",
   "metadata": {},
   "outputs": [],
   "source": [
    "df = pd.read_csv('D:\\FILZA 1\\dibimbing\\dataset\\marketing customer analysis\\marketing_campaign.csv', sep='\\t')"
   ]
  },
  {
   "cell_type": "code",
   "execution_count": 3,
   "id": "b5fe774c",
   "metadata": {},
   "outputs": [
    {
     "data": {
      "text/html": [
       "<div>\n",
       "<style scoped>\n",
       "    .dataframe tbody tr th:only-of-type {\n",
       "        vertical-align: middle;\n",
       "    }\n",
       "\n",
       "    .dataframe tbody tr th {\n",
       "        vertical-align: top;\n",
       "    }\n",
       "\n",
       "    .dataframe thead th {\n",
       "        text-align: right;\n",
       "    }\n",
       "</style>\n",
       "<table border=\"1\" class=\"dataframe\">\n",
       "  <thead>\n",
       "    <tr style=\"text-align: right;\">\n",
       "      <th></th>\n",
       "      <th>ID</th>\n",
       "      <th>Year_Birth</th>\n",
       "      <th>Education</th>\n",
       "      <th>Marital_Status</th>\n",
       "      <th>Income</th>\n",
       "      <th>Kidhome</th>\n",
       "      <th>Teenhome</th>\n",
       "      <th>Dt_Customer</th>\n",
       "      <th>Recency</th>\n",
       "      <th>MntWines</th>\n",
       "      <th>...</th>\n",
       "      <th>NumWebVisitsMonth</th>\n",
       "      <th>AcceptedCmp3</th>\n",
       "      <th>AcceptedCmp4</th>\n",
       "      <th>AcceptedCmp5</th>\n",
       "      <th>AcceptedCmp1</th>\n",
       "      <th>AcceptedCmp2</th>\n",
       "      <th>Complain</th>\n",
       "      <th>Z_CostContact</th>\n",
       "      <th>Z_Revenue</th>\n",
       "      <th>Response</th>\n",
       "    </tr>\n",
       "  </thead>\n",
       "  <tbody>\n",
       "    <tr>\n",
       "      <th>0</th>\n",
       "      <td>5524</td>\n",
       "      <td>1957</td>\n",
       "      <td>Graduation</td>\n",
       "      <td>Single</td>\n",
       "      <td>58138.0</td>\n",
       "      <td>0</td>\n",
       "      <td>0</td>\n",
       "      <td>04-09-2012</td>\n",
       "      <td>58</td>\n",
       "      <td>635</td>\n",
       "      <td>...</td>\n",
       "      <td>7</td>\n",
       "      <td>0</td>\n",
       "      <td>0</td>\n",
       "      <td>0</td>\n",
       "      <td>0</td>\n",
       "      <td>0</td>\n",
       "      <td>0</td>\n",
       "      <td>3</td>\n",
       "      <td>11</td>\n",
       "      <td>1</td>\n",
       "    </tr>\n",
       "    <tr>\n",
       "      <th>1</th>\n",
       "      <td>2174</td>\n",
       "      <td>1954</td>\n",
       "      <td>Graduation</td>\n",
       "      <td>Single</td>\n",
       "      <td>46344.0</td>\n",
       "      <td>1</td>\n",
       "      <td>1</td>\n",
       "      <td>08-03-2014</td>\n",
       "      <td>38</td>\n",
       "      <td>11</td>\n",
       "      <td>...</td>\n",
       "      <td>5</td>\n",
       "      <td>0</td>\n",
       "      <td>0</td>\n",
       "      <td>0</td>\n",
       "      <td>0</td>\n",
       "      <td>0</td>\n",
       "      <td>0</td>\n",
       "      <td>3</td>\n",
       "      <td>11</td>\n",
       "      <td>0</td>\n",
       "    </tr>\n",
       "    <tr>\n",
       "      <th>2</th>\n",
       "      <td>4141</td>\n",
       "      <td>1965</td>\n",
       "      <td>Graduation</td>\n",
       "      <td>Together</td>\n",
       "      <td>71613.0</td>\n",
       "      <td>0</td>\n",
       "      <td>0</td>\n",
       "      <td>21-08-2013</td>\n",
       "      <td>26</td>\n",
       "      <td>426</td>\n",
       "      <td>...</td>\n",
       "      <td>4</td>\n",
       "      <td>0</td>\n",
       "      <td>0</td>\n",
       "      <td>0</td>\n",
       "      <td>0</td>\n",
       "      <td>0</td>\n",
       "      <td>0</td>\n",
       "      <td>3</td>\n",
       "      <td>11</td>\n",
       "      <td>0</td>\n",
       "    </tr>\n",
       "    <tr>\n",
       "      <th>3</th>\n",
       "      <td>6182</td>\n",
       "      <td>1984</td>\n",
       "      <td>Graduation</td>\n",
       "      <td>Together</td>\n",
       "      <td>26646.0</td>\n",
       "      <td>1</td>\n",
       "      <td>0</td>\n",
       "      <td>10-02-2014</td>\n",
       "      <td>26</td>\n",
       "      <td>11</td>\n",
       "      <td>...</td>\n",
       "      <td>6</td>\n",
       "      <td>0</td>\n",
       "      <td>0</td>\n",
       "      <td>0</td>\n",
       "      <td>0</td>\n",
       "      <td>0</td>\n",
       "      <td>0</td>\n",
       "      <td>3</td>\n",
       "      <td>11</td>\n",
       "      <td>0</td>\n",
       "    </tr>\n",
       "    <tr>\n",
       "      <th>4</th>\n",
       "      <td>5324</td>\n",
       "      <td>1981</td>\n",
       "      <td>PhD</td>\n",
       "      <td>Married</td>\n",
       "      <td>58293.0</td>\n",
       "      <td>1</td>\n",
       "      <td>0</td>\n",
       "      <td>19-01-2014</td>\n",
       "      <td>94</td>\n",
       "      <td>173</td>\n",
       "      <td>...</td>\n",
       "      <td>5</td>\n",
       "      <td>0</td>\n",
       "      <td>0</td>\n",
       "      <td>0</td>\n",
       "      <td>0</td>\n",
       "      <td>0</td>\n",
       "      <td>0</td>\n",
       "      <td>3</td>\n",
       "      <td>11</td>\n",
       "      <td>0</td>\n",
       "    </tr>\n",
       "  </tbody>\n",
       "</table>\n",
       "<p>5 rows × 29 columns</p>\n",
       "</div>"
      ],
      "text/plain": [
       "     ID  Year_Birth   Education Marital_Status   Income  Kidhome  Teenhome  \\\n",
       "0  5524        1957  Graduation         Single  58138.0        0         0   \n",
       "1  2174        1954  Graduation         Single  46344.0        1         1   \n",
       "2  4141        1965  Graduation       Together  71613.0        0         0   \n",
       "3  6182        1984  Graduation       Together  26646.0        1         0   \n",
       "4  5324        1981         PhD        Married  58293.0        1         0   \n",
       "\n",
       "  Dt_Customer  Recency  MntWines  ...  NumWebVisitsMonth  AcceptedCmp3  \\\n",
       "0  04-09-2012       58       635  ...                  7             0   \n",
       "1  08-03-2014       38        11  ...                  5             0   \n",
       "2  21-08-2013       26       426  ...                  4             0   \n",
       "3  10-02-2014       26        11  ...                  6             0   \n",
       "4  19-01-2014       94       173  ...                  5             0   \n",
       "\n",
       "   AcceptedCmp4  AcceptedCmp5  AcceptedCmp1  AcceptedCmp2  Complain  \\\n",
       "0             0             0             0             0         0   \n",
       "1             0             0             0             0         0   \n",
       "2             0             0             0             0         0   \n",
       "3             0             0             0             0         0   \n",
       "4             0             0             0             0         0   \n",
       "\n",
       "   Z_CostContact  Z_Revenue  Response  \n",
       "0              3         11         1  \n",
       "1              3         11         0  \n",
       "2              3         11         0  \n",
       "3              3         11         0  \n",
       "4              3         11         0  \n",
       "\n",
       "[5 rows x 29 columns]"
      ]
     },
     "execution_count": 3,
     "metadata": {},
     "output_type": "execute_result"
    }
   ],
   "source": [
    "df.head()"
   ]
  },
  {
   "cell_type": "markdown",
   "id": "b12b433f",
   "metadata": {},
   "source": [
    "Buat DataFrame baru dengan nama df1 yang isinya kolom Education dan Income dari df"
   ]
  },
  {
   "cell_type": "code",
   "execution_count": 4,
   "id": "54a94cba",
   "metadata": {},
   "outputs": [],
   "source": [
    "df1 = df[['Education', 'Income']].copy()"
   ]
  },
  {
   "cell_type": "code",
   "execution_count": 5,
   "id": "6f26cf76",
   "metadata": {
    "scrolled": true
   },
   "outputs": [
    {
     "data": {
      "text/plain": [
       "array(['Graduation', 'PhD', 'Master', 'Basic', '2n Cycle'], dtype=object)"
      ]
     },
     "execution_count": 5,
     "metadata": {},
     "output_type": "execute_result"
    }
   ],
   "source": [
    "#Lihat nilai unique di kolom Education\n",
    "df1['Education'].unique()"
   ]
  },
  {
   "cell_type": "code",
   "execution_count": 6,
   "id": "62cee438",
   "metadata": {},
   "outputs": [
    {
     "data": {
      "text/plain": [
       "2240"
      ]
     },
     "execution_count": 6,
     "metadata": {},
     "output_type": "execute_result"
    }
   ],
   "source": [
    "len(df1)"
   ]
  },
  {
   "cell_type": "markdown",
   "id": "f801599e",
   "metadata": {},
   "source": [
    "Hapus baris dengan nilai yang hilang"
   ]
  },
  {
   "cell_type": "code",
   "execution_count": 7,
   "id": "d9d2605c",
   "metadata": {
    "scrolled": true
   },
   "outputs": [
    {
     "name": "stdout",
     "output_type": "stream",
     "text": [
      "Jumlah baris setelah baris dengan nilai yang hilang dihapus: 2216\n"
     ]
    }
   ],
   "source": [
    "df1 = df1.dropna()\n",
    "print('Jumlah baris setelah baris dengan nilai yang hilang dihapus:', len(df1))"
   ]
  },
  {
   "cell_type": "markdown",
   "id": "46e95f06",
   "metadata": {},
   "source": [
    "Remove outliers"
   ]
  },
  {
   "cell_type": "code",
   "execution_count": 8,
   "id": "c1d0413f",
   "metadata": {
    "scrolled": true
   },
   "outputs": [
    {
     "data": {
      "text/plain": [
       "Text(0.5, 1.0, 'Sebelum outliers dihilangkan')"
      ]
     },
     "execution_count": 8,
     "metadata": {},
     "output_type": "execute_result"
    },
    {
     "data": {
      "image/png": "[encoded data removed]",
      "text/plain": [
       "<Figure size 432x288 with 1 Axes>"
      ]
     },
     "metadata": {
      "needs_background": "light"
     },
     "output_type": "display_data"
    }
   ],
   "source": [
    "plt.boxplot(df1['Income'])\n",
    "plt.title('Sebelum outliers dihilangkan')"
   ]
  },
  {
   "cell_type": "code",
   "execution_count": 9,
   "id": "1cf6b63b",
   "metadata": {},
   "outputs": [],
   "source": [
    "q1 = df1['Income'].quantile(0.25)\n",
    "q3 = df1['Income'].quantile(0.75)\n",
    "IQR = q3 - q1\n",
    "df1 = df1[~((df1['Income'] < (q1 - 1.5*IQR)) | (df1['Income'] > (q3 + 1.5*IQR)))]"
   ]
  },
  {
   "cell_type": "code",
   "execution_count": 10,
   "id": "4805ce8b",
   "metadata": {
    "scrolled": true
   },
   "outputs": [
    {
     "data": {
      "text/plain": [
       "Text(0.5, 1.0, 'Setelah outliers dihilangkan')"
      ]
     },
     "execution_count": 10,
     "metadata": {},
     "output_type": "execute_result"
    },
    {
     "data": {
      "image/png": "[encoded data removed]",
      "text/plain": [
       "<Figure size 432x288 with 1 Axes>"
      ]
     },
     "metadata": {
      "needs_background": "light"
     },
     "output_type": "display_data"
    }
   ],
   "source": [
    "plt.boxplot(df1['Income'])\n",
    "plt.title('Setelah outliers dihilangkan')"
   ]
  },
  {
   "cell_type": "code",
   "execution_count": 11,
   "id": "bd91265a",
   "metadata": {},
   "outputs": [
    {
     "name": "stdout",
     "output_type": "stream",
     "text": [
      "jumlah baris setelah outliers dihilangkan: 2208\n"
     ]
    }
   ],
   "source": [
    "print('jumlah baris setelah outliers dihilangkan:', len(df1))"
   ]
  },
  {
   "cell_type": "markdown",
   "id": "fa1881be",
   "metadata": {},
   "source": [
    "## Case 1  \n",
    "#### 'Graduation', 'PhD', 'Master', dan '2nd Cycle' diubah menjadi 'Postgraduate' dan 'Basic' diubah menjadi 'Undergraduate'"
   ]
  },
  {
   "cell_type": "markdown",
   "id": "0ba5ea92",
   "metadata": {},
   "source": [
    "Buat DataFrame baru yang isinya sama dengan kolom di df1"
   ]
  },
  {
   "cell_type": "code",
   "execution_count": 30,
   "id": "4fc02281",
   "metadata": {},
   "outputs": [],
   "source": [
    "df2 = df1.copy()"
   ]
  },
  {
   "cell_type": "code",
   "execution_count": 31,
   "id": "f0bc7f3b",
   "metadata": {},
   "outputs": [
    {
     "data": {
      "text/plain": [
       "array(['Postgraduate', 'Undergraduate'], dtype=object)"
      ]
     },
     "execution_count": 31,
     "metadata": {},
     "output_type": "execute_result"
    }
   ],
   "source": [
    "df2['Education']=df2['Education'].replace(['Graduation','PhD', 'Master','2n Cycle'],'Postgraduate')\n",
    "df2['Education']=df2['Education'].replace(['Basic'],'Undergraduate')\n",
    "df2['Education'].unique()"
   ]
  },
  {
   "cell_type": "markdown",
   "id": "f151f45d",
   "metadata": {},
   "source": [
    "Lihat distribusi Postgraduate dengan Undergraduate"
   ]
  },
  {
   "cell_type": "code",
   "execution_count": 32,
   "id": "e54fd8da",
   "metadata": {},
   "outputs": [
    {
     "name": "stdout",
     "output_type": "stream",
     "text": [
      "AxesSubplot(0.125,0.125;0.775x0.755)\n"
     ]
    },
    {
     "data": {
      "image/png": "[encoded data removed]",
      "text/plain": [
       "<Figure size 432x288 with 1 Axes>"
      ]
     },
     "metadata": {
      "needs_background": "light"
     },
     "output_type": "display_data"
    }
   ],
   "source": [
    "count=df2['Education'].value_counts()\n",
    "print(count.plot(kind='bar', title='Education', rot=0, color='lightsteelblue'))"
   ]
  },
  {
   "cell_type": "markdown",
   "id": "6b7d5cc0",
   "metadata": {},
   "source": [
    "H0: Rata-rata income undergraduate sama dengan income postgraduate <br>\n",
    "H1: Rata-rata income undergraduate tidak sama dengan income postgraduate"
   ]
  },
  {
   "cell_type": "code",
   "execution_count": 33,
   "id": "b01d8251",
   "metadata": {
    "scrolled": true
   },
   "outputs": [
    {
     "data": {
      "text/plain": [
       "10.639349426386605"
      ]
     },
     "execution_count": 33,
     "metadata": {},
     "output_type": "execute_result"
    }
   ],
   "source": [
    "ratio = df2['Income'][df2['Education'] == 'Postgraduate'].var()/df2['Income'][df2['Education'] == 'Undergraduate'].var()\n",
    "ratio"
   ]
  },
  {
   "cell_type": "markdown",
   "id": "55d56f9f",
   "metadata": {},
   "source": [
    "Pakai independent t-test (scipy.stats)"
   ]
  },
  {
   "cell_type": "code",
   "execution_count": 39,
   "id": "f3b461b9",
   "metadata": {},
   "outputs": [
    {
     "name": "stdout",
     "output_type": "stream",
     "text": [
      "stat: 33.627307240532793741749628679827 \n",
      "p value: 0.000000000000000000000000000000000000000000000000008\n"
     ]
    }
   ],
   "source": [
    "stat, pvalue = st.ttest_ind(df2['Income'][df2['Education'] == 'Postgraduate'],\n",
    "            df2['Income'][df2['Education'] == 'Undergraduate'], equal_var=False)\n",
    "print('stat:', f'{stat:.30f}', '\\np value:', f'{pvalue:.51f}')"
   ]
  },
  {
   "cell_type": "markdown",
   "id": "6d09efc7",
   "metadata": {},
   "source": [
    "Pakai researchpy"
   ]
  },
  {
   "cell_type": "code",
   "execution_count": 35,
   "id": "5f694494",
   "metadata": {},
   "outputs": [
    {
     "name": "stderr",
     "output_type": "stream",
     "text": [
      "C:\\Users\\Filzahanti\\anaconda3\\lib\\site-packages\\researchpy\\ttest.py:38: FutureWarning: The series.append method is deprecated and will be removed from pandas in a future version. Use pandas.concat instead.\n",
      "  groups = group1.append(group2, ignore_index= True)\n"
     ]
    }
   ],
   "source": [
    "summ, results = rp.ttest(group1=df2['Income'][df2['Education'] == 'Postgraduate'], group1_name='Postgraduate',\n",
    "         group2=df2['Income'][df2['Education'] == 'Undergraduate'], group2_name='Undergraduate', equal_variances=False)"
   ]
  },
  {
   "cell_type": "code",
   "execution_count": 36,
   "id": "1ad28f14",
   "metadata": {},
   "outputs": [
    {
     "data": {
      "text/html": [
       "<div>\n",
       "<style scoped>\n",
       "    .dataframe tbody tr th:only-of-type {\n",
       "        vertical-align: middle;\n",
       "    }\n",
       "\n",
       "    .dataframe tbody tr th {\n",
       "        vertical-align: top;\n",
       "    }\n",
       "\n",
       "    .dataframe thead th {\n",
       "        text-align: right;\n",
       "    }\n",
       "</style>\n",
       "<table border=\"1\" class=\"dataframe\">\n",
       "  <thead>\n",
       "    <tr style=\"text-align: right;\">\n",
       "      <th></th>\n",
       "      <th>Variable</th>\n",
       "      <th>N</th>\n",
       "      <th>Mean</th>\n",
       "      <th>SD</th>\n",
       "      <th>SE</th>\n",
       "      <th>95% Conf.</th>\n",
       "      <th>Interval</th>\n",
       "    </tr>\n",
       "  </thead>\n",
       "  <tbody>\n",
       "    <tr>\n",
       "      <th>0</th>\n",
       "      <td>Postgraduate</td>\n",
       "      <td>2154.0</td>\n",
       "      <td>52419.004178</td>\n",
       "      <td>20337.550537</td>\n",
       "      <td>438.203453</td>\n",
       "      <td>51559.658093</td>\n",
       "      <td>53278.350263</td>\n",
       "    </tr>\n",
       "    <tr>\n",
       "      <th>1</th>\n",
       "      <td>Undergraduate</td>\n",
       "      <td>54.0</td>\n",
       "      <td>20306.259259</td>\n",
       "      <td>6235.066773</td>\n",
       "      <td>848.485117</td>\n",
       "      <td>18604.413635</td>\n",
       "      <td>22008.104883</td>\n",
       "    </tr>\n",
       "    <tr>\n",
       "      <th>2</th>\n",
       "      <td>combined</td>\n",
       "      <td>2208.0</td>\n",
       "      <td>51633.638134</td>\n",
       "      <td>20713.376530</td>\n",
       "      <td>440.809926</td>\n",
       "      <td>50769.192479</td>\n",
       "      <td>52498.083789</td>\n",
       "    </tr>\n",
       "  </tbody>\n",
       "</table>\n",
       "</div>"
      ],
      "text/plain": [
       "        Variable       N          Mean            SD          SE  \\\n",
       "0   Postgraduate  2154.0  52419.004178  20337.550537  438.203453   \n",
       "1  Undergraduate    54.0  20306.259259   6235.066773  848.485117   \n",
       "2       combined  2208.0  51633.638134  20713.376530  440.809926   \n",
       "\n",
       "      95% Conf.      Interval  \n",
       "0  51559.658093  53278.350263  \n",
       "1  18604.413635  22008.104883  \n",
       "2  50769.192479  52498.083789  "
      ]
     },
     "execution_count": 36,
     "metadata": {},
     "output_type": "execute_result"
    }
   ],
   "source": [
    "summ"
   ]
  },
  {
   "cell_type": "code",
   "execution_count": 37,
   "id": "5ab93203",
   "metadata": {},
   "outputs": [
    {
     "data": {
      "text/html": [
       "<div>\n",
       "<style scoped>\n",
       "    .dataframe tbody tr th:only-of-type {\n",
       "        vertical-align: middle;\n",
       "    }\n",
       "\n",
       "    .dataframe tbody tr th {\n",
       "        vertical-align: top;\n",
       "    }\n",
       "\n",
       "    .dataframe thead th {\n",
       "        text-align: right;\n",
       "    }\n",
       "</style>\n",
       "<table border=\"1\" class=\"dataframe\">\n",
       "  <thead>\n",
       "    <tr style=\"text-align: right;\">\n",
       "      <th></th>\n",
       "      <th>Satterthwaite t-test</th>\n",
       "      <th>results</th>\n",
       "    </tr>\n",
       "  </thead>\n",
       "  <tbody>\n",
       "    <tr>\n",
       "      <th>0</th>\n",
       "      <td>Difference (Postgraduate - Undergraduate) =</td>\n",
       "      <td>32112.7449</td>\n",
       "    </tr>\n",
       "    <tr>\n",
       "      <th>1</th>\n",
       "      <td>Degrees of freedom =</td>\n",
       "      <td>84.8947</td>\n",
       "    </tr>\n",
       "    <tr>\n",
       "      <th>2</th>\n",
       "      <td>t =</td>\n",
       "      <td>33.6273</td>\n",
       "    </tr>\n",
       "    <tr>\n",
       "      <th>3</th>\n",
       "      <td>Two side test p value =</td>\n",
       "      <td>0.0000</td>\n",
       "    </tr>\n",
       "    <tr>\n",
       "      <th>4</th>\n",
       "      <td>Difference &lt; 0 p value =</td>\n",
       "      <td>1.0000</td>\n",
       "    </tr>\n",
       "    <tr>\n",
       "      <th>5</th>\n",
       "      <td>Difference &gt; 0 p value =</td>\n",
       "      <td>0.0000</td>\n",
       "    </tr>\n",
       "    <tr>\n",
       "      <th>6</th>\n",
       "      <td>Cohen's d =</td>\n",
       "      <td>1.5965</td>\n",
       "    </tr>\n",
       "    <tr>\n",
       "      <th>7</th>\n",
       "      <td>Hedge's g =</td>\n",
       "      <td>1.5959</td>\n",
       "    </tr>\n",
       "    <tr>\n",
       "      <th>8</th>\n",
       "      <td>Glass's delta1 =</td>\n",
       "      <td>1.5790</td>\n",
       "    </tr>\n",
       "    <tr>\n",
       "      <th>9</th>\n",
       "      <td>Point-Biserial r =</td>\n",
       "      <td>0.9645</td>\n",
       "    </tr>\n",
       "  </tbody>\n",
       "</table>\n",
       "</div>"
      ],
      "text/plain": [
       "                           Satterthwaite t-test     results\n",
       "0  Difference (Postgraduate - Undergraduate) =   32112.7449\n",
       "1                         Degrees of freedom =      84.8947\n",
       "2                                          t =      33.6273\n",
       "3                      Two side test p value =       0.0000\n",
       "4                     Difference < 0 p value =       1.0000\n",
       "5                     Difference > 0 p value =       0.0000\n",
       "6                                  Cohen's d =       1.5965\n",
       "7                                  Hedge's g =       1.5959\n",
       "8                             Glass's delta1 =       1.5790\n",
       "9                           Point-Biserial r =       0.9645"
      ]
     },
     "execution_count": 37,
     "metadata": {},
     "output_type": "execute_result"
    }
   ],
   "source": [
    "results"
   ]
  },
  {
   "cell_type": "markdown",
   "id": "2568dddb",
   "metadata": {},
   "source": [
    "P-value kurang dari alpha (0.05), berarti H0 seharusnya ditolak. Maka, rata-rata income undergraduate tidak sama dengan income postgraduate. Rata-rata income postgraduate lebih besar dari income undergraduate.\n",
    "Jawaban = berpengaruh"
   ]
  },
  {
   "cell_type": "markdown",
   "id": "27a0c475",
   "metadata": {},
   "source": [
    "## Case 2 \n",
    "#### 'Graduation', 'PhD', 'Master', dan '2n Cycle' dan 'Basic' tidak diubah"
   ]
  },
  {
   "cell_type": "markdown",
   "id": "7b10a606",
   "metadata": {},
   "source": [
    "Buat DataFrame baru yang isinya sama dengan kolom di df1"
   ]
  },
  {
   "cell_type": "code",
   "execution_count": 19,
   "id": "1cafa88b",
   "metadata": {},
   "outputs": [],
   "source": [
    "df3 = df1.copy()"
   ]
  },
  {
   "cell_type": "markdown",
   "id": "23feebbf",
   "metadata": {},
   "source": [
    "Lihat distribusi kelas di Education"
   ]
  },
  {
   "cell_type": "code",
   "execution_count": 20,
   "id": "3058fe9f",
   "metadata": {
    "scrolled": false
   },
   "outputs": [
    {
     "name": "stdout",
     "output_type": "stream",
     "text": [
      "AxesSubplot(0.125,0.125;0.775x0.755)\n"
     ]
    },
    {
     "data": {
      "image/png": "[encoded data removed]",
      "text/plain": [
       "<Figure size 432x288 with 1 Axes>"
      ]
     },
     "metadata": {
      "needs_background": "light"
     },
     "output_type": "display_data"
    }
   ],
   "source": [
    "count=df3['Education'].value_counts()\n",
    "print(count.plot(kind='bar', title='Education', rot=0, color='lightsteelblue'))"
   ]
  },
  {
   "cell_type": "markdown",
   "id": "5240ac65",
   "metadata": {},
   "source": [
    "Pakai One-way ANOVA"
   ]
  },
  {
   "cell_type": "markdown",
   "id": "a6a041ed",
   "metadata": {},
   "source": [
    "H0: Rata-rata income semua kelas di Education sama <br>\n",
    "H1: Paling tidak ada satu kelas yang memilki rata-rata yang berbeda"
   ]
  },
  {
   "cell_type": "code",
   "execution_count": 21,
   "id": "fbc57e00",
   "metadata": {},
   "outputs": [
    {
     "name": "stdout",
     "output_type": "stream",
     "text": [
      "stat: 39.27888353718497427280453848652541637 \n",
      "p value: 0.00000000000000000000000000000008234\n"
     ]
    }
   ],
   "source": [
    "stat1, pvalue1 = st.f_oneway(df3['Income'][df3['Education'] == 'Graduation'],\n",
    "        df3['Income'][df3['Education'] == 'PhD'],\n",
    "        df3['Income'][df3['Education'] == 'Master'],\n",
    "        df3['Income'][df3['Education'] == '2n Cycle'],\n",
    "        df3['Income'][df3['Education'] == 'Basic'])\n",
    "print('stat:', f'{stat1:.35f}', '\\np value:', f'{pvalue1:.35f}')"
   ]
  },
  {
   "cell_type": "markdown",
   "id": "17289364",
   "metadata": {},
   "source": [
    "P-value kurang dari alpha (0.05), berarti H0 seharusnya ditolak. Maka, ada rata-rata income kelas di Education yang berbeda. Jawaban = berpengaruh"
   ]
  }
 ],
 "metadata": {
  "kernelspec": {
   "display_name": "Python 3 (ipykernel)",
   "language": "python",
   "name": "python3"
  },
  "language_info": {
   "codemirror_mode": {
    "name": "ipython",
    "version": 3
   },
   "file_extension": ".py",
   "mimetype": "text/x-python",
   "name": "python",
   "nbconvert_exporter": "python",
   "pygments_lexer": "ipython3",
   "version": "3.9.12"
  }
 },
 "nbformat": 4,
 "nbformat_minor": 5
}

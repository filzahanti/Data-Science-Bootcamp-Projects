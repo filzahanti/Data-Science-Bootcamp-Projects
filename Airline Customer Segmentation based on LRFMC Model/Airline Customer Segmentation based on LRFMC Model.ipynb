{
 "cells": [
  {
   "cell_type": "markdown",
   "id": "2b5d94cb",
   "metadata": {},
   "source": [
    "# Airline Customer Segmentation based on LRFMC Model\n",
    "Filzahanti Nuha Ramadhani"
   ]
  },
  {
   "cell_type": "code",
   "execution_count": 1,
   "id": "283f01ec",
   "metadata": {},
   "outputs": [],
   "source": [
    "import numpy as np\n",
    "import pandas as pd\n",
    "import matplotlib.pyplot as plt\n",
    "import seaborn as sns\n",
    "from sklearn.preprocessing import StandardScaler, MinMaxScaler\n",
    "from sklearn.cluster import KMeans\n",
    "from sklearn.metrics import silhouette_score"
   ]
  },
  {
   "cell_type": "markdown",
   "id": "836c0724",
   "metadata": {},
   "source": [
    "Dataset source : https://www.programmersought.com/article/48113472881/<br>\n",
    "Customers are segmented based on membership length,  recency, frequency, monetary, and discount coefficient.\n",
    "- Membership length (L):\n",
    "The total months of membership of each customer\n",
    "- Recency (R):\n",
    "The number of months between the latest flight the customers took until the end of the observation\n",
    "- Frequency (F):\n",
    "The total flights taken by each customer\n",
    "- Monetary (M):\n",
    "In this case, the monetary is replaced by the total kilometers of the customers' flights\n",
    "- Discount coefficient (C):\n",
    "The average discount rate<br>"
   ]
  },
  {
   "cell_type": "markdown",
   "id": "d288d216",
   "metadata": {},
   "source": [
    "<b> Reference: </b><br>\n",
    "Tao, Y. (2020). Analysis Method for Customer Value of Aviation Big Data Based on LRFMC Model. ICPCSEE.<br>"
   ]
  },
  {
   "cell_type": "markdown",
   "id": "bc53b626",
   "metadata": {},
   "source": [
    "## Load Dataset"
   ]
  },
  {
   "cell_type": "code",
   "execution_count": 2,
   "id": "ee70ad1a",
   "metadata": {},
   "outputs": [],
   "source": [
    "df = pd.read_csv('1670425821097-flight.csv')"
   ]
  },
  {
   "cell_type": "code",
   "execution_count": 3,
   "id": "7a30e7de",
   "metadata": {
    "scrolled": true
   },
   "outputs": [
    {
     "data": {
      "text/html": [
       "<div>\n",
       "<style scoped>\n",
       "    .dataframe tbody tr th:only-of-type {\n",
       "        vertical-align: middle;\n",
       "    }\n",
       "\n",
       "    .dataframe tbody tr th {\n",
       "        vertical-align: top;\n",
       "    }\n",
       "\n",
       "    .dataframe thead th {\n",
       "        text-align: right;\n",
       "    }\n",
       "</style>\n",
       "<table border=\"1\" class=\"dataframe\">\n",
       "  <thead>\n",
       "    <tr style=\"text-align: right;\">\n",
       "      <th></th>\n",
       "      <th>7392</th>\n",
       "      <th>60510</th>\n",
       "      <th>36013</th>\n",
       "      <th>29073</th>\n",
       "      <th>51758</th>\n",
       "    </tr>\n",
       "  </thead>\n",
       "  <tbody>\n",
       "    <tr>\n",
       "      <th>MEMBER_NO</th>\n",
       "      <td>2500</td>\n",
       "      <td>54127</td>\n",
       "      <td>15620</td>\n",
       "      <td>979</td>\n",
       "      <td>30755</td>\n",
       "    </tr>\n",
       "    <tr>\n",
       "      <th>FFP_DATE</th>\n",
       "      <td>7/22/2007</td>\n",
       "      <td>11/1/2010</td>\n",
       "      <td>7/24/2012</td>\n",
       "      <td>12/21/2006</td>\n",
       "      <td>1/14/2011</td>\n",
       "    </tr>\n",
       "    <tr>\n",
       "      <th>FIRST_FLIGHT_DATE</th>\n",
       "      <td>7/22/2007</td>\n",
       "      <td>7/19/2013</td>\n",
       "      <td>7/24/2012</td>\n",
       "      <td>3/6/2007</td>\n",
       "      <td>3/20/2011</td>\n",
       "    </tr>\n",
       "    <tr>\n",
       "      <th>GENDER</th>\n",
       "      <td>Male</td>\n",
       "      <td>Male</td>\n",
       "      <td>Female</td>\n",
       "      <td>Male</td>\n",
       "      <td>Female</td>\n",
       "    </tr>\n",
       "    <tr>\n",
       "      <th>FFP_TIER</th>\n",
       "      <td>4</td>\n",
       "      <td>4</td>\n",
       "      <td>4</td>\n",
       "      <td>4</td>\n",
       "      <td>4</td>\n",
       "    </tr>\n",
       "    <tr>\n",
       "      <th>WORK_CITY</th>\n",
       "      <td>TEMPE AZ</td>\n",
       "      <td>guangzhou</td>\n",
       "      <td>shanghai</td>\n",
       "      <td>wuhan</td>\n",
       "      <td>SEOUL</td>\n",
       "    </tr>\n",
       "    <tr>\n",
       "      <th>WORK_PROVINCE</th>\n",
       "      <td>NaN</td>\n",
       "      <td>guangdong</td>\n",
       "      <td>shanghai</td>\n",
       "      <td>hubei</td>\n",
       "      <td>SEOUL</td>\n",
       "    </tr>\n",
       "    <tr>\n",
       "      <th>WORK_COUNTRY</th>\n",
       "      <td>US</td>\n",
       "      <td>CN</td>\n",
       "      <td>CN</td>\n",
       "      <td>CN</td>\n",
       "      <td>KR</td>\n",
       "    </tr>\n",
       "    <tr>\n",
       "      <th>AGE</th>\n",
       "      <td>56.0</td>\n",
       "      <td>58.0</td>\n",
       "      <td>34.0</td>\n",
       "      <td>41.0</td>\n",
       "      <td>41.0</td>\n",
       "    </tr>\n",
       "    <tr>\n",
       "      <th>LOAD_TIME</th>\n",
       "      <td>3/31/2014</td>\n",
       "      <td>3/31/2014</td>\n",
       "      <td>3/31/2014</td>\n",
       "      <td>3/31/2014</td>\n",
       "      <td>3/31/2014</td>\n",
       "    </tr>\n",
       "    <tr>\n",
       "      <th>FLIGHT_COUNT</th>\n",
       "      <td>3</td>\n",
       "      <td>2</td>\n",
       "      <td>7</td>\n",
       "      <td>11</td>\n",
       "      <td>5</td>\n",
       "    </tr>\n",
       "    <tr>\n",
       "      <th>BP_SUM</th>\n",
       "      <td>13956</td>\n",
       "      <td>1031</td>\n",
       "      <td>4329</td>\n",
       "      <td>6412</td>\n",
       "      <td>2036</td>\n",
       "    </tr>\n",
       "    <tr>\n",
       "      <th>SUM_YR_1</th>\n",
       "      <td>6100.0</td>\n",
       "      <td>0.0</td>\n",
       "      <td>3721.0</td>\n",
       "      <td>6923.0</td>\n",
       "      <td>2200.0</td>\n",
       "    </tr>\n",
       "    <tr>\n",
       "      <th>SUM_YR_2</th>\n",
       "      <td>3000.0</td>\n",
       "      <td>1236.0</td>\n",
       "      <td>0.0</td>\n",
       "      <td>0.0</td>\n",
       "      <td>6140.0</td>\n",
       "    </tr>\n",
       "    <tr>\n",
       "      <th>SEG_KM_SUM</th>\n",
       "      <td>36696</td>\n",
       "      <td>1942</td>\n",
       "      <td>10253</td>\n",
       "      <td>9690</td>\n",
       "      <td>3435</td>\n",
       "    </tr>\n",
       "    <tr>\n",
       "      <th>LAST_FLIGHT_DATE</th>\n",
       "      <td>4/3/2013</td>\n",
       "      <td>12/31/2013</td>\n",
       "      <td>6/26/2013</td>\n",
       "      <td>3/27/2013</td>\n",
       "      <td>2/23/2014</td>\n",
       "    </tr>\n",
       "    <tr>\n",
       "      <th>LAST_TO_END</th>\n",
       "      <td>364</td>\n",
       "      <td>92</td>\n",
       "      <td>280</td>\n",
       "      <td>371</td>\n",
       "      <td>38</td>\n",
       "    </tr>\n",
       "    <tr>\n",
       "      <th>AVG_INTERVAL</th>\n",
       "      <td>105.0</td>\n",
       "      <td>165.0</td>\n",
       "      <td>56.166667</td>\n",
       "      <td>35.0</td>\n",
       "      <td>134.75</td>\n",
       "    </tr>\n",
       "    <tr>\n",
       "      <th>MAX_INTERVAL</th>\n",
       "      <td>125</td>\n",
       "      <td>165</td>\n",
       "      <td>204</td>\n",
       "      <td>104</td>\n",
       "      <td>405</td>\n",
       "    </tr>\n",
       "    <tr>\n",
       "      <th>EXCHANGE_COUNT</th>\n",
       "      <td>0</td>\n",
       "      <td>0</td>\n",
       "      <td>0</td>\n",
       "      <td>0</td>\n",
       "      <td>0</td>\n",
       "    </tr>\n",
       "    <tr>\n",
       "      <th>avg_discount</th>\n",
       "      <td>0.733333</td>\n",
       "      <td>0.600947</td>\n",
       "      <td>0.5493</td>\n",
       "      <td>0.806512</td>\n",
       "      <td>0.723537</td>\n",
       "    </tr>\n",
       "    <tr>\n",
       "      <th>Points_Sum</th>\n",
       "      <td>13956</td>\n",
       "      <td>7232</td>\n",
       "      <td>4329</td>\n",
       "      <td>6412</td>\n",
       "      <td>2286</td>\n",
       "    </tr>\n",
       "    <tr>\n",
       "      <th>Point_NotFlight</th>\n",
       "      <td>0</td>\n",
       "      <td>24</td>\n",
       "      <td>0</td>\n",
       "      <td>0</td>\n",
       "      <td>1</td>\n",
       "    </tr>\n",
       "  </tbody>\n",
       "</table>\n",
       "</div>"
      ],
      "text/plain": [
       "                       7392        60510      36013       29073      51758\n",
       "MEMBER_NO               2500       54127      15620         979      30755\n",
       "FFP_DATE           7/22/2007   11/1/2010  7/24/2012  12/21/2006  1/14/2011\n",
       "FIRST_FLIGHT_DATE  7/22/2007   7/19/2013  7/24/2012    3/6/2007  3/20/2011\n",
       "GENDER                  Male        Male     Female        Male     Female\n",
       "FFP_TIER                   4           4          4           4          4\n",
       "WORK_CITY           TEMPE AZ   guangzhou   shanghai       wuhan      SEOUL\n",
       "WORK_PROVINCE            NaN   guangdong   shanghai       hubei      SEOUL\n",
       "WORK_COUNTRY              US          CN         CN          CN         KR\n",
       "AGE                     56.0        58.0       34.0        41.0       41.0\n",
       "LOAD_TIME          3/31/2014   3/31/2014  3/31/2014   3/31/2014  3/31/2014\n",
       "FLIGHT_COUNT               3           2          7          11          5\n",
       "BP_SUM                 13956        1031       4329        6412       2036\n",
       "SUM_YR_1              6100.0         0.0     3721.0      6923.0     2200.0\n",
       "SUM_YR_2              3000.0      1236.0        0.0         0.0     6140.0\n",
       "SEG_KM_SUM             36696        1942      10253        9690       3435\n",
       "LAST_FLIGHT_DATE    4/3/2013  12/31/2013  6/26/2013   3/27/2013  2/23/2014\n",
       "LAST_TO_END              364          92        280         371         38\n",
       "AVG_INTERVAL           105.0       165.0  56.166667        35.0     134.75\n",
       "MAX_INTERVAL             125         165        204         104        405\n",
       "EXCHANGE_COUNT             0           0          0           0          0\n",
       "avg_discount        0.733333    0.600947     0.5493    0.806512   0.723537\n",
       "Points_Sum             13956        7232       4329        6412       2286\n",
       "Point_NotFlight            0          24          0           0          1"
      ]
     },
     "execution_count": 3,
     "metadata": {},
     "output_type": "execute_result"
    }
   ],
   "source": [
    "df.sample(5).transpose()"
   ]
  },
  {
   "cell_type": "markdown",
   "id": "e9a9c7b7",
   "metadata": {},
   "source": [
    "## Data Preparation"
   ]
  },
  {
   "cell_type": "markdown",
   "id": "ff423c61",
   "metadata": {},
   "source": [
    "### Data Cleaning"
   ]
  },
  {
   "cell_type": "code",
   "execution_count": 4,
   "id": "e62a920a",
   "metadata": {
    "scrolled": true
   },
   "outputs": [
    {
     "data": {
      "text/plain": [
       "MEMBER_NO               0\n",
       "FFP_DATE                0\n",
       "FIRST_FLIGHT_DATE       0\n",
       "GENDER                  3\n",
       "FFP_TIER                0\n",
       "WORK_CITY            2269\n",
       "WORK_PROVINCE        3248\n",
       "WORK_COUNTRY           26\n",
       "AGE                   420\n",
       "LOAD_TIME               0\n",
       "FLIGHT_COUNT            0\n",
       "BP_SUM                  0\n",
       "SUM_YR_1              551\n",
       "SUM_YR_2              138\n",
       "SEG_KM_SUM              0\n",
       "LAST_FLIGHT_DATE        0\n",
       "LAST_TO_END             0\n",
       "AVG_INTERVAL            0\n",
       "MAX_INTERVAL            0\n",
       "EXCHANGE_COUNT          0\n",
       "avg_discount            0\n",
       "Points_Sum              0\n",
       "Point_NotFlight         0\n",
       "dtype: int64"
      ]
     },
     "execution_count": 4,
     "metadata": {},
     "output_type": "execute_result"
    }
   ],
   "source": [
    "df.isna().sum()"
   ]
  },
  {
   "cell_type": "code",
   "execution_count": 5,
   "id": "3d0e40d4",
   "metadata": {
    "scrolled": true
   },
   "outputs": [
    {
     "data": {
      "text/html": [
       "<div>\n",
       "<style scoped>\n",
       "    .dataframe tbody tr th:only-of-type {\n",
       "        vertical-align: middle;\n",
       "    }\n",
       "\n",
       "    .dataframe tbody tr th {\n",
       "        vertical-align: top;\n",
       "    }\n",
       "\n",
       "    .dataframe thead th {\n",
       "        text-align: right;\n",
       "    }\n",
       "</style>\n",
       "<table border=\"1\" class=\"dataframe\">\n",
       "  <thead>\n",
       "    <tr style=\"text-align: right;\">\n",
       "      <th></th>\n",
       "      <th>MEMBER_NO</th>\n",
       "      <th>FFP_TIER</th>\n",
       "      <th>AGE</th>\n",
       "      <th>FLIGHT_COUNT</th>\n",
       "      <th>BP_SUM</th>\n",
       "      <th>SUM_YR_1</th>\n",
       "      <th>SUM_YR_2</th>\n",
       "      <th>SEG_KM_SUM</th>\n",
       "      <th>LAST_TO_END</th>\n",
       "      <th>AVG_INTERVAL</th>\n",
       "      <th>MAX_INTERVAL</th>\n",
       "      <th>EXCHANGE_COUNT</th>\n",
       "      <th>avg_discount</th>\n",
       "      <th>Points_Sum</th>\n",
       "      <th>Point_NotFlight</th>\n",
       "    </tr>\n",
       "  </thead>\n",
       "  <tbody>\n",
       "    <tr>\n",
       "      <th>count</th>\n",
       "      <td>62988.000000</td>\n",
       "      <td>62988.000000</td>\n",
       "      <td>62568.000000</td>\n",
       "      <td>62988.000000</td>\n",
       "      <td>62988.000000</td>\n",
       "      <td>62437.000000</td>\n",
       "      <td>62850.000000</td>\n",
       "      <td>62988.000000</td>\n",
       "      <td>62988.000000</td>\n",
       "      <td>62988.000000</td>\n",
       "      <td>62988.000000</td>\n",
       "      <td>62988.000000</td>\n",
       "      <td>62988.000000</td>\n",
       "      <td>62988.0000</td>\n",
       "      <td>62988.000000</td>\n",
       "    </tr>\n",
       "    <tr>\n",
       "      <th>mean</th>\n",
       "      <td>31494.500000</td>\n",
       "      <td>4.102162</td>\n",
       "      <td>42.476346</td>\n",
       "      <td>11.839414</td>\n",
       "      <td>10925.081254</td>\n",
       "      <td>5355.376064</td>\n",
       "      <td>5604.026014</td>\n",
       "      <td>17123.878691</td>\n",
       "      <td>176.120102</td>\n",
       "      <td>67.749788</td>\n",
       "      <td>166.033895</td>\n",
       "      <td>0.319775</td>\n",
       "      <td>0.721558</td>\n",
       "      <td>12545.7771</td>\n",
       "      <td>2.728155</td>\n",
       "    </tr>\n",
       "    <tr>\n",
       "      <th>std</th>\n",
       "      <td>18183.213715</td>\n",
       "      <td>0.373856</td>\n",
       "      <td>9.885915</td>\n",
       "      <td>14.049471</td>\n",
       "      <td>16339.486151</td>\n",
       "      <td>8109.450147</td>\n",
       "      <td>8703.364247</td>\n",
       "      <td>20960.844623</td>\n",
       "      <td>183.822223</td>\n",
       "      <td>77.517866</td>\n",
       "      <td>123.397180</td>\n",
       "      <td>1.136004</td>\n",
       "      <td>0.185427</td>\n",
       "      <td>20507.8167</td>\n",
       "      <td>7.364164</td>\n",
       "    </tr>\n",
       "    <tr>\n",
       "      <th>min</th>\n",
       "      <td>1.000000</td>\n",
       "      <td>4.000000</td>\n",
       "      <td>6.000000</td>\n",
       "      <td>2.000000</td>\n",
       "      <td>0.000000</td>\n",
       "      <td>0.000000</td>\n",
       "      <td>0.000000</td>\n",
       "      <td>368.000000</td>\n",
       "      <td>1.000000</td>\n",
       "      <td>0.000000</td>\n",
       "      <td>0.000000</td>\n",
       "      <td>0.000000</td>\n",
       "      <td>0.000000</td>\n",
       "      <td>0.0000</td>\n",
       "      <td>0.000000</td>\n",
       "    </tr>\n",
       "    <tr>\n",
       "      <th>25%</th>\n",
       "      <td>15747.750000</td>\n",
       "      <td>4.000000</td>\n",
       "      <td>35.000000</td>\n",
       "      <td>3.000000</td>\n",
       "      <td>2518.000000</td>\n",
       "      <td>1003.000000</td>\n",
       "      <td>780.000000</td>\n",
       "      <td>4747.000000</td>\n",
       "      <td>29.000000</td>\n",
       "      <td>23.370370</td>\n",
       "      <td>79.000000</td>\n",
       "      <td>0.000000</td>\n",
       "      <td>0.611997</td>\n",
       "      <td>2775.0000</td>\n",
       "      <td>0.000000</td>\n",
       "    </tr>\n",
       "    <tr>\n",
       "      <th>50%</th>\n",
       "      <td>31494.500000</td>\n",
       "      <td>4.000000</td>\n",
       "      <td>41.000000</td>\n",
       "      <td>7.000000</td>\n",
       "      <td>5700.000000</td>\n",
       "      <td>2800.000000</td>\n",
       "      <td>2773.000000</td>\n",
       "      <td>9994.000000</td>\n",
       "      <td>108.000000</td>\n",
       "      <td>44.666667</td>\n",
       "      <td>143.000000</td>\n",
       "      <td>0.000000</td>\n",
       "      <td>0.711856</td>\n",
       "      <td>6328.5000</td>\n",
       "      <td>0.000000</td>\n",
       "    </tr>\n",
       "    <tr>\n",
       "      <th>75%</th>\n",
       "      <td>47241.250000</td>\n",
       "      <td>4.000000</td>\n",
       "      <td>48.000000</td>\n",
       "      <td>15.000000</td>\n",
       "      <td>12831.000000</td>\n",
       "      <td>6574.000000</td>\n",
       "      <td>6845.750000</td>\n",
       "      <td>21271.250000</td>\n",
       "      <td>268.000000</td>\n",
       "      <td>82.000000</td>\n",
       "      <td>228.000000</td>\n",
       "      <td>0.000000</td>\n",
       "      <td>0.809476</td>\n",
       "      <td>14302.5000</td>\n",
       "      <td>1.000000</td>\n",
       "    </tr>\n",
       "    <tr>\n",
       "      <th>max</th>\n",
       "      <td>62988.000000</td>\n",
       "      <td>6.000000</td>\n",
       "      <td>110.000000</td>\n",
       "      <td>213.000000</td>\n",
       "      <td>505308.000000</td>\n",
       "      <td>239560.000000</td>\n",
       "      <td>234188.000000</td>\n",
       "      <td>580717.000000</td>\n",
       "      <td>731.000000</td>\n",
       "      <td>728.000000</td>\n",
       "      <td>728.000000</td>\n",
       "      <td>46.000000</td>\n",
       "      <td>1.500000</td>\n",
       "      <td>985572.0000</td>\n",
       "      <td>140.000000</td>\n",
       "    </tr>\n",
       "  </tbody>\n",
       "</table>\n",
       "</div>"
      ],
      "text/plain": [
       "          MEMBER_NO      FFP_TIER           AGE  FLIGHT_COUNT         BP_SUM  \\\n",
       "count  62988.000000  62988.000000  62568.000000  62988.000000   62988.000000   \n",
       "mean   31494.500000      4.102162     42.476346     11.839414   10925.081254   \n",
       "std    18183.213715      0.373856      9.885915     14.049471   16339.486151   \n",
       "min        1.000000      4.000000      6.000000      2.000000       0.000000   \n",
       "25%    15747.750000      4.000000     35.000000      3.000000    2518.000000   \n",
       "50%    31494.500000      4.000000     41.000000      7.000000    5700.000000   \n",
       "75%    47241.250000      4.000000     48.000000     15.000000   12831.000000   \n",
       "max    62988.000000      6.000000    110.000000    213.000000  505308.000000   \n",
       "\n",
       "            SUM_YR_1       SUM_YR_2     SEG_KM_SUM   LAST_TO_END  \\\n",
       "count   62437.000000   62850.000000   62988.000000  62988.000000   \n",
       "mean     5355.376064    5604.026014   17123.878691    176.120102   \n",
       "std      8109.450147    8703.364247   20960.844623    183.822223   \n",
       "min         0.000000       0.000000     368.000000      1.000000   \n",
       "25%      1003.000000     780.000000    4747.000000     29.000000   \n",
       "50%      2800.000000    2773.000000    9994.000000    108.000000   \n",
       "75%      6574.000000    6845.750000   21271.250000    268.000000   \n",
       "max    239560.000000  234188.000000  580717.000000    731.000000   \n",
       "\n",
       "       AVG_INTERVAL  MAX_INTERVAL  EXCHANGE_COUNT  avg_discount   Points_Sum  \\\n",
       "count  62988.000000  62988.000000    62988.000000  62988.000000   62988.0000   \n",
       "mean      67.749788    166.033895        0.319775      0.721558   12545.7771   \n",
       "std       77.517866    123.397180        1.136004      0.185427   20507.8167   \n",
       "min        0.000000      0.000000        0.000000      0.000000       0.0000   \n",
       "25%       23.370370     79.000000        0.000000      0.611997    2775.0000   \n",
       "50%       44.666667    143.000000        0.000000      0.711856    6328.5000   \n",
       "75%       82.000000    228.000000        0.000000      0.809476   14302.5000   \n",
       "max      728.000000    728.000000       46.000000      1.500000  985572.0000   \n",
       "\n",
       "       Point_NotFlight  \n",
       "count     62988.000000  \n",
       "mean          2.728155  \n",
       "std           7.364164  \n",
       "min           0.000000  \n",
       "25%           0.000000  \n",
       "50%           0.000000  \n",
       "75%           1.000000  \n",
       "max         140.000000  "
      ]
     },
     "execution_count": 5,
     "metadata": {},
     "output_type": "execute_result"
    }
   ],
   "source": [
    "df.describe()"
   ]
  },
  {
   "cell_type": "markdown",
   "id": "7c9c5d42",
   "metadata": {},
   "source": [
    "Delete rows with abnormal date."
   ]
  },
  {
   "cell_type": "code",
   "execution_count": 6,
   "id": "b75166ec",
   "metadata": {},
   "outputs": [],
   "source": [
    "df = df.drop(df[df['LAST_FLIGHT_DATE'] == '2014/2/29  0:00:00'].index)"
   ]
  },
  {
   "cell_type": "markdown",
   "id": "4469981d",
   "metadata": {},
   "source": [
    "Delete rows with missing values in SUM_YR_1 (fare revenue) and SUM_YR_2 (votes prices) columns."
   ]
  },
  {
   "cell_type": "code",
   "execution_count": 7,
   "id": "83236e5f",
   "metadata": {},
   "outputs": [],
   "source": [
    "df = df.dropna(subset=['SUM_YR_1','SUM_YR_2'])"
   ]
  },
  {
   "cell_type": "markdown",
   "id": "6557c695",
   "metadata": {},
   "source": [
    "Discard rows if the fare and prices is zero but the total flight distance is not 0."
   ]
  },
  {
   "cell_type": "code",
   "execution_count": 8,
   "id": "774811e6",
   "metadata": {},
   "outputs": [],
   "source": [
    "df = df[~((df['SUM_YR_1']==0) & (df['SUM_YR_2']==0) & (df['avg_discount']==0) & (df['SEG_KM_SUM']!=0))]"
   ]
  },
  {
   "cell_type": "markdown",
   "id": "527c82f5",
   "metadata": {},
   "source": [
    "Convert LOAD_TIME, FFP_DATE, LAST_FLIGHT_DATE, FIRST_FLIGHT_DATE to datetime."
   ]
  },
  {
   "cell_type": "code",
   "execution_count": 9,
   "id": "cf12233b",
   "metadata": {},
   "outputs": [],
   "source": [
    "df['LOAD_TIME'] = pd.to_datetime(df['LOAD_TIME'])\n",
    "df['FFP_DATE'] = pd.to_datetime(df['FFP_DATE'])\n",
    "df['LAST_FLIGHT_DATE'] = pd.to_datetime(df['LAST_FLIGHT_DATE'])\n",
    "df['FIRST_FLIGHT_DATE'] = pd.to_datetime(df['FIRST_FLIGHT_DATE'])"
   ]
  },
  {
   "cell_type": "markdown",
   "id": "116ca2ee",
   "metadata": {},
   "source": [
    "Use only features needed to segment the customers. Create a new dataframe by copying relevant features (MEMBER_NO, LOAD_TIME, FFP_DATE, LAST_TO_END, FLIGHT_COUNT, SEG_KM_SUM, avg_discount)."
   ]
  },
  {
   "cell_type": "code",
   "execution_count": 10,
   "id": "e86c6934",
   "metadata": {},
   "outputs": [],
   "source": [
    "df1 = df[['MEMBER_NO','LOAD_TIME', 'FFP_DATE', 'LAST_TO_END', 'FLIGHT_COUNT', 'SEG_KM_SUM', 'avg_discount']].copy()"
   ]
  },
  {
   "cell_type": "code",
   "execution_count": 11,
   "id": "a008c317",
   "metadata": {
    "scrolled": true
   },
   "outputs": [
    {
     "data": {
      "text/html": [
       "<div>\n",
       "<style scoped>\n",
       "    .dataframe tbody tr th:only-of-type {\n",
       "        vertical-align: middle;\n",
       "    }\n",
       "\n",
       "    .dataframe tbody tr th {\n",
       "        vertical-align: top;\n",
       "    }\n",
       "\n",
       "    .dataframe thead th {\n",
       "        text-align: right;\n",
       "    }\n",
       "</style>\n",
       "<table border=\"1\" class=\"dataframe\">\n",
       "  <thead>\n",
       "    <tr style=\"text-align: right;\">\n",
       "      <th></th>\n",
       "      <th>MEMBER_NO</th>\n",
       "      <th>LOAD_TIME</th>\n",
       "      <th>FFP_DATE</th>\n",
       "      <th>LAST_TO_END</th>\n",
       "      <th>FLIGHT_COUNT</th>\n",
       "      <th>SEG_KM_SUM</th>\n",
       "      <th>avg_discount</th>\n",
       "    </tr>\n",
       "  </thead>\n",
       "  <tbody>\n",
       "    <tr>\n",
       "      <th>0</th>\n",
       "      <td>54993</td>\n",
       "      <td>2014-03-31</td>\n",
       "      <td>2006-11-02</td>\n",
       "      <td>1</td>\n",
       "      <td>210</td>\n",
       "      <td>580717</td>\n",
       "      <td>0.961639</td>\n",
       "    </tr>\n",
       "    <tr>\n",
       "      <th>1</th>\n",
       "      <td>28065</td>\n",
       "      <td>2014-03-31</td>\n",
       "      <td>2007-02-19</td>\n",
       "      <td>7</td>\n",
       "      <td>140</td>\n",
       "      <td>293678</td>\n",
       "      <td>1.252314</td>\n",
       "    </tr>\n",
       "    <tr>\n",
       "      <th>2</th>\n",
       "      <td>55106</td>\n",
       "      <td>2014-03-31</td>\n",
       "      <td>2007-02-01</td>\n",
       "      <td>11</td>\n",
       "      <td>135</td>\n",
       "      <td>283712</td>\n",
       "      <td>1.254676</td>\n",
       "    </tr>\n",
       "    <tr>\n",
       "      <th>3</th>\n",
       "      <td>21189</td>\n",
       "      <td>2014-03-31</td>\n",
       "      <td>2008-08-22</td>\n",
       "      <td>97</td>\n",
       "      <td>23</td>\n",
       "      <td>281336</td>\n",
       "      <td>1.090870</td>\n",
       "    </tr>\n",
       "    <tr>\n",
       "      <th>4</th>\n",
       "      <td>39546</td>\n",
       "      <td>2014-03-31</td>\n",
       "      <td>2009-04-10</td>\n",
       "      <td>5</td>\n",
       "      <td>152</td>\n",
       "      <td>309928</td>\n",
       "      <td>0.970658</td>\n",
       "    </tr>\n",
       "  </tbody>\n",
       "</table>\n",
       "</div>"
      ],
      "text/plain": [
       "   MEMBER_NO  LOAD_TIME   FFP_DATE  LAST_TO_END  FLIGHT_COUNT  SEG_KM_SUM  \\\n",
       "0      54993 2014-03-31 2006-11-02            1           210      580717   \n",
       "1      28065 2014-03-31 2007-02-19            7           140      293678   \n",
       "2      55106 2014-03-31 2007-02-01           11           135      283712   \n",
       "3      21189 2014-03-31 2008-08-22           97            23      281336   \n",
       "4      39546 2014-03-31 2009-04-10            5           152      309928   \n",
       "\n",
       "   avg_discount  \n",
       "0      0.961639  \n",
       "1      1.252314  \n",
       "2      1.254676  \n",
       "3      1.090870  \n",
       "4      0.970658  "
      ]
     },
     "execution_count": 11,
     "metadata": {},
     "output_type": "execute_result"
    }
   ],
   "source": [
    "df1.head()"
   ]
  },
  {
   "cell_type": "markdown",
   "id": "722ceb88",
   "metadata": {},
   "source": [
    "### Feature Engineering"
   ]
  },
  {
   "cell_type": "markdown",
   "id": "70c6c671",
   "metadata": {},
   "source": [
    "Calculate membership length by subtracting FFP_DATE from LOAD_TIME."
   ]
  },
  {
   "cell_type": "code",
   "execution_count": 12,
   "id": "380d5b57",
   "metadata": {},
   "outputs": [],
   "source": [
    "df1['L'] = (df1['LOAD_TIME'] - df1['FFP_DATE'])/np.timedelta64(1,'M')"
   ]
  },
  {
   "cell_type": "code",
   "execution_count": 13,
   "id": "047bb6c2",
   "metadata": {},
   "outputs": [],
   "source": [
    "#Drop LOAD_TIME AND FFP_DATE\n",
    "df1 = df1.drop(['LOAD_TIME','FFP_DATE'], axis=1)\n",
    "#Change the columns name\n",
    "df1.columns = ['MEMBER_NO', 'R', 'F', 'M', 'C', 'L']\n",
    "#Assign other columns except MEMBER_NO to df2 \n",
    "df2 = df1[['R', 'F', 'M', 'C', 'L']].copy()\n",
    "cols_name = df2.columns"
   ]
  },
  {
   "cell_type": "code",
   "execution_count": 14,
   "id": "ec57d388",
   "metadata": {},
   "outputs": [
    {
     "data": {
      "text/html": [
       "<div>\n",
       "<style scoped>\n",
       "    .dataframe tbody tr th:only-of-type {\n",
       "        vertical-align: middle;\n",
       "    }\n",
       "\n",
       "    .dataframe tbody tr th {\n",
       "        vertical-align: top;\n",
       "    }\n",
       "\n",
       "    .dataframe thead th {\n",
       "        text-align: right;\n",
       "    }\n",
       "</style>\n",
       "<table border=\"1\" class=\"dataframe\">\n",
       "  <thead>\n",
       "    <tr style=\"text-align: right;\">\n",
       "      <th></th>\n",
       "      <th>R</th>\n",
       "      <th>F</th>\n",
       "      <th>M</th>\n",
       "      <th>C</th>\n",
       "      <th>L</th>\n",
       "    </tr>\n",
       "  </thead>\n",
       "  <tbody>\n",
       "    <tr>\n",
       "      <th>0</th>\n",
       "      <td>1</td>\n",
       "      <td>210</td>\n",
       "      <td>580717</td>\n",
       "      <td>0.961639</td>\n",
       "      <td>88.905316</td>\n",
       "    </tr>\n",
       "    <tr>\n",
       "      <th>1</th>\n",
       "      <td>7</td>\n",
       "      <td>140</td>\n",
       "      <td>293678</td>\n",
       "      <td>1.252314</td>\n",
       "      <td>85.324134</td>\n",
       "    </tr>\n",
       "    <tr>\n",
       "      <th>2</th>\n",
       "      <td>11</td>\n",
       "      <td>135</td>\n",
       "      <td>283712</td>\n",
       "      <td>1.254676</td>\n",
       "      <td>85.915522</td>\n",
       "    </tr>\n",
       "    <tr>\n",
       "      <th>3</th>\n",
       "      <td>97</td>\n",
       "      <td>23</td>\n",
       "      <td>281336</td>\n",
       "      <td>1.090870</td>\n",
       "      <td>67.253948</td>\n",
       "    </tr>\n",
       "    <tr>\n",
       "      <th>4</th>\n",
       "      <td>5</td>\n",
       "      <td>152</td>\n",
       "      <td>309928</td>\n",
       "      <td>0.970658</td>\n",
       "      <td>59.664469</td>\n",
       "    </tr>\n",
       "  </tbody>\n",
       "</table>\n",
       "</div>"
      ],
      "text/plain": [
       "    R    F       M         C          L\n",
       "0   1  210  580717  0.961639  88.905316\n",
       "1   7  140  293678  1.252314  85.324134\n",
       "2  11  135  283712  1.254676  85.915522\n",
       "3  97   23  281336  1.090870  67.253948\n",
       "4   5  152  309928  0.970658  59.664469"
      ]
     },
     "execution_count": 14,
     "metadata": {},
     "output_type": "execute_result"
    }
   ],
   "source": [
    "df2.head()"
   ]
  },
  {
   "cell_type": "markdown",
   "id": "c2d8c436",
   "metadata": {},
   "source": [
    "### Data Exploration"
   ]
  },
  {
   "cell_type": "code",
   "execution_count": 15,
   "id": "c419610d",
   "metadata": {},
   "outputs": [
    {
     "data": {
      "text/html": [
       "<div>\n",
       "<style scoped>\n",
       "    .dataframe tbody tr th:only-of-type {\n",
       "        vertical-align: middle;\n",
       "    }\n",
       "\n",
       "    .dataframe tbody tr th {\n",
       "        vertical-align: top;\n",
       "    }\n",
       "\n",
       "    .dataframe thead th {\n",
       "        text-align: right;\n",
       "    }\n",
       "</style>\n",
       "<table border=\"1\" class=\"dataframe\">\n",
       "  <thead>\n",
       "    <tr style=\"text-align: right;\">\n",
       "      <th></th>\n",
       "      <th>R</th>\n",
       "      <th>F</th>\n",
       "      <th>M</th>\n",
       "      <th>C</th>\n",
       "      <th>L</th>\n",
       "    </tr>\n",
       "  </thead>\n",
       "  <tbody>\n",
       "    <tr>\n",
       "      <th>count</th>\n",
       "      <td>61871.000000</td>\n",
       "      <td>61871.000000</td>\n",
       "      <td>61871.000000</td>\n",
       "      <td>61871.000000</td>\n",
       "      <td>61871.000000</td>\n",
       "    </tr>\n",
       "    <tr>\n",
       "      <th>mean</th>\n",
       "      <td>173.732944</td>\n",
       "      <td>11.917587</td>\n",
       "      <td>17249.477801</td>\n",
       "      <td>0.721942</td>\n",
       "      <td>48.850628</td>\n",
       "    </tr>\n",
       "    <tr>\n",
       "      <th>std</th>\n",
       "      <td>181.513988</td>\n",
       "      <td>14.094971</td>\n",
       "      <td>21039.298821</td>\n",
       "      <td>0.184938</td>\n",
       "      <td>27.847757</td>\n",
       "    </tr>\n",
       "    <tr>\n",
       "      <th>min</th>\n",
       "      <td>1.000000</td>\n",
       "      <td>2.000000</td>\n",
       "      <td>368.000000</td>\n",
       "      <td>0.112043</td>\n",
       "      <td>11.992033</td>\n",
       "    </tr>\n",
       "    <tr>\n",
       "      <th>25%</th>\n",
       "      <td>29.000000</td>\n",
       "      <td>3.000000</td>\n",
       "      <td>4840.500000</td>\n",
       "      <td>0.612660</td>\n",
       "      <td>24.115485</td>\n",
       "    </tr>\n",
       "    <tr>\n",
       "      <th>50%</th>\n",
       "      <td>107.000000</td>\n",
       "      <td>7.000000</td>\n",
       "      <td>10132.000000</td>\n",
       "      <td>0.711974</td>\n",
       "      <td>41.824267</td>\n",
       "    </tr>\n",
       "    <tr>\n",
       "      <th>75%</th>\n",
       "      <td>262.000000</td>\n",
       "      <td>15.000000</td>\n",
       "      <td>21389.000000</td>\n",
       "      <td>0.809284</td>\n",
       "      <td>71.656502</td>\n",
       "    </tr>\n",
       "    <tr>\n",
       "      <th>max</th>\n",
       "      <td>731.000000</td>\n",
       "      <td>213.000000</td>\n",
       "      <td>580717.000000</td>\n",
       "      <td>1.500000</td>\n",
       "      <td>112.922237</td>\n",
       "    </tr>\n",
       "  </tbody>\n",
       "</table>\n",
       "</div>"
      ],
      "text/plain": [
       "                  R             F              M             C             L\n",
       "count  61871.000000  61871.000000   61871.000000  61871.000000  61871.000000\n",
       "mean     173.732944     11.917587   17249.477801      0.721942     48.850628\n",
       "std      181.513988     14.094971   21039.298821      0.184938     27.847757\n",
       "min        1.000000      2.000000     368.000000      0.112043     11.992033\n",
       "25%       29.000000      3.000000    4840.500000      0.612660     24.115485\n",
       "50%      107.000000      7.000000   10132.000000      0.711974     41.824267\n",
       "75%      262.000000     15.000000   21389.000000      0.809284     71.656502\n",
       "max      731.000000    213.000000  580717.000000      1.500000    112.922237"
      ]
     },
     "execution_count": 15,
     "metadata": {},
     "output_type": "execute_result"
    }
   ],
   "source": [
    "df2.describe()"
   ]
  },
  {
   "cell_type": "markdown",
   "id": "b1733441",
   "metadata": {},
   "source": [
    "- All of the features have different standard deviations"
   ]
  },
  {
   "cell_type": "markdown",
   "id": "7769bcc4",
   "metadata": {},
   "source": [
    "## Scaling Features"
   ]
  },
  {
   "cell_type": "code",
   "execution_count": 16,
   "id": "221a64f0",
   "metadata": {},
   "outputs": [],
   "source": [
    "minmax = MinMaxScaler()\n",
    "df3 = minmax.fit_transform(df2)"
   ]
  },
  {
   "cell_type": "code",
   "execution_count": 17,
   "id": "17e9bf90",
   "metadata": {
    "scrolled": true
   },
   "outputs": [
    {
     "data": {
      "text/html": [
       "<div>\n",
       "<style scoped>\n",
       "    .dataframe tbody tr th:only-of-type {\n",
       "        vertical-align: middle;\n",
       "    }\n",
       "\n",
       "    .dataframe tbody tr th {\n",
       "        vertical-align: top;\n",
       "    }\n",
       "\n",
       "    .dataframe thead th {\n",
       "        text-align: right;\n",
       "    }\n",
       "</style>\n",
       "<table border=\"1\" class=\"dataframe\">\n",
       "  <thead>\n",
       "    <tr style=\"text-align: right;\">\n",
       "      <th></th>\n",
       "      <th>R</th>\n",
       "      <th>F</th>\n",
       "      <th>M</th>\n",
       "      <th>C</th>\n",
       "      <th>L</th>\n",
       "    </tr>\n",
       "  </thead>\n",
       "  <tbody>\n",
       "    <tr>\n",
       "      <th>count</th>\n",
       "      <td>61871.000000</td>\n",
       "      <td>61871.000000</td>\n",
       "      <td>61871.000000</td>\n",
       "      <td>61871.000000</td>\n",
       "      <td>61871.000000</td>\n",
       "    </tr>\n",
       "    <tr>\n",
       "      <th>mean</th>\n",
       "      <td>0.236620</td>\n",
       "      <td>0.047003</td>\n",
       "      <td>0.029088</td>\n",
       "      <td>0.439422</td>\n",
       "      <td>0.365189</td>\n",
       "    </tr>\n",
       "    <tr>\n",
       "      <th>std</th>\n",
       "      <td>0.248649</td>\n",
       "      <td>0.066801</td>\n",
       "      <td>0.036253</td>\n",
       "      <td>0.133245</td>\n",
       "      <td>0.275911</td>\n",
       "    </tr>\n",
       "    <tr>\n",
       "      <th>min</th>\n",
       "      <td>0.000000</td>\n",
       "      <td>0.000000</td>\n",
       "      <td>0.000000</td>\n",
       "      <td>0.000000</td>\n",
       "      <td>0.000000</td>\n",
       "    </tr>\n",
       "    <tr>\n",
       "      <th>25%</th>\n",
       "      <td>0.038356</td>\n",
       "      <td>0.004739</td>\n",
       "      <td>0.007707</td>\n",
       "      <td>0.360686</td>\n",
       "      <td>0.120117</td>\n",
       "    </tr>\n",
       "    <tr>\n",
       "      <th>50%</th>\n",
       "      <td>0.145205</td>\n",
       "      <td>0.023697</td>\n",
       "      <td>0.016824</td>\n",
       "      <td>0.432240</td>\n",
       "      <td>0.295573</td>\n",
       "    </tr>\n",
       "    <tr>\n",
       "      <th>75%</th>\n",
       "      <td>0.357534</td>\n",
       "      <td>0.061611</td>\n",
       "      <td>0.036221</td>\n",
       "      <td>0.502351</td>\n",
       "      <td>0.591146</td>\n",
       "    </tr>\n",
       "    <tr>\n",
       "      <th>max</th>\n",
       "      <td>1.000000</td>\n",
       "      <td>1.000000</td>\n",
       "      <td>1.000000</td>\n",
       "      <td>1.000000</td>\n",
       "      <td>1.000000</td>\n",
       "    </tr>\n",
       "  </tbody>\n",
       "</table>\n",
       "</div>"
      ],
      "text/plain": [
       "                  R             F             M             C             L\n",
       "count  61871.000000  61871.000000  61871.000000  61871.000000  61871.000000\n",
       "mean       0.236620      0.047003      0.029088      0.439422      0.365189\n",
       "std        0.248649      0.066801      0.036253      0.133245      0.275911\n",
       "min        0.000000      0.000000      0.000000      0.000000      0.000000\n",
       "25%        0.038356      0.004739      0.007707      0.360686      0.120117\n",
       "50%        0.145205      0.023697      0.016824      0.432240      0.295573\n",
       "75%        0.357534      0.061611      0.036221      0.502351      0.591146\n",
       "max        1.000000      1.000000      1.000000      1.000000      1.000000"
      ]
     },
     "execution_count": 17,
     "metadata": {},
     "output_type": "execute_result"
    }
   ],
   "source": [
    "df3 = pd.DataFrame(df3, columns=cols_name)\n",
    "df3.describe()"
   ]
  },
  {
   "cell_type": "markdown",
   "id": "e305e2d0",
   "metadata": {},
   "source": [
    "## Modeling"
   ]
  },
  {
   "cell_type": "code",
   "execution_count": 18,
   "id": "552e679e",
   "metadata": {},
   "outputs": [],
   "source": [
    "inertia= []\n",
    "for i in range(2,11):\n",
    "    kmeans = KMeans(n_clusters=i, random_state=100)\n",
    "    kmeans.fit(df3.values)\n",
    "    inertia.append(kmeans.inertia_)"
   ]
  },
  {
   "cell_type": "code",
   "execution_count": 19,
   "id": "6b06c3ab",
   "metadata": {},
   "outputs": [
    {
     "data": {
      "text/plain": [
       "<AxesSubplot:>"
      ]
     },
     "execution_count": 19,
     "metadata": {},
     "output_type": "execute_result"
    },
    {
     "data": {
      "image/png": "[encoded data removed]",
      "text/plain": [
       "<Figure size 720x360 with 1 Axes>"
      ]
     },
     "metadata": {
      "needs_background": "light"
     },
     "output_type": "display_data"
    }
   ],
   "source": [
    "plt.figure(figsize=(10,5))\n",
    "sns.lineplot(x=range(2,11), y=inertia, marker='o')"
   ]
  },
  {
   "cell_type": "code",
   "execution_count": 20,
   "id": "18621680",
   "metadata": {
    "scrolled": true
   },
   "outputs": [
    {
     "name": "stdout",
     "output_type": "stream",
     "text": [
      "n_clusters: 2 . Silhouette score: 0.3629971528075375\n",
      "n_clusters: 3 . Silhouette score: 0.4029645044686846\n",
      "n_clusters: 4 . Silhouette score: 0.38544998170124867\n",
      "n_clusters: 5 . Silhouette score: 0.3050838318319791\n",
      "n_clusters: 6 . Silhouette score: 0.28576315219568776\n",
      "n_clusters: 7 . Silhouette score: 0.29522719175026474\n",
      "n_clusters: 8 . Silhouette score: 0.25840326135299263\n",
      "n_clusters: 9 . Silhouette score: 0.258785775344388\n",
      "n_clusters: 10 . Silhouette score: 0.25757247269975375\n"
     ]
    }
   ],
   "source": [
    "sil_euclid = []\n",
    "for i in range(2,11):\n",
    "    kmeans = KMeans(n_clusters=i).fit(df3)\n",
    "    preds = kmeans.predict(df3)\n",
    "    euclidean = silhouette_score(df3, preds, metric='euclidean')\n",
    "    print('n_clusters:', i,'. Silhouette score:', euclidean)\n",
    "    sil_euclid.append(euclidean)"
   ]
  },
  {
   "cell_type": "code",
   "execution_count": 21,
   "id": "c300e047",
   "metadata": {},
   "outputs": [
    {
     "data": {
      "text/plain": [
       "<AxesSubplot:>"
      ]
     },
     "execution_count": 21,
     "metadata": {},
     "output_type": "execute_result"
    },
    {
     "data": {
      "image/png": "[encoded data removed]",
      "text/plain": [
       "<Figure size 720x360 with 1 Axes>"
      ]
     },
     "metadata": {
      "needs_background": "light"
     },
     "output_type": "display_data"
    }
   ],
   "source": [
    "plt.figure(figsize=(10,5))\n",
    "sns.lineplot(x=range(2,11), y=sil_euclid, marker='o')"
   ]
  },
  {
   "cell_type": "markdown",
   "id": "4fc68bc7",
   "metadata": {},
   "source": [
    "## KMeans with n_clusters = 3"
   ]
  },
  {
   "cell_type": "code",
   "execution_count": 22,
   "id": "fee1ab39",
   "metadata": {},
   "outputs": [],
   "source": [
    "kmeans = KMeans(n_clusters=3, random_state=100)\n",
    "kmeans.fit(df3)\n",
    "pred = kmeans.predict(df3)"
   ]
  },
  {
   "cell_type": "code",
   "execution_count": 23,
   "id": "50d8ae69",
   "metadata": {},
   "outputs": [],
   "source": [
    "df3['cluster'] = pred"
   ]
  },
  {
   "cell_type": "markdown",
   "id": "6ed0c52c",
   "metadata": {},
   "source": [
    "### Cluster Analysis"
   ]
  },
  {
   "cell_type": "code",
   "execution_count": 69,
   "id": "8e806fe4",
   "metadata": {},
   "outputs": [],
   "source": [
    "cluster_df = df3.groupby('cluster').mean()\n",
    "cluster_df['count'] = df3['cluster'].value_counts()"
   ]
  },
  {
   "cell_type": "code",
   "execution_count": 72,
   "id": "63ffa6a1",
   "metadata": {},
   "outputs": [
    {
     "data": {
      "text/html": [
       "<div>\n",
       "<style scoped>\n",
       "    .dataframe tbody tr th:only-of-type {\n",
       "        vertical-align: middle;\n",
       "    }\n",
       "\n",
       "    .dataframe tbody tr th {\n",
       "        vertical-align: top;\n",
       "    }\n",
       "\n",
       "    .dataframe thead th {\n",
       "        text-align: right;\n",
       "    }\n",
       "</style>\n",
       "<table border=\"1\" class=\"dataframe\">\n",
       "  <thead>\n",
       "    <tr style=\"text-align: right;\">\n",
       "      <th></th>\n",
       "      <th>R</th>\n",
       "      <th>F</th>\n",
       "      <th>M</th>\n",
       "      <th>C</th>\n",
       "      <th>L</th>\n",
       "      <th>count</th>\n",
       "    </tr>\n",
       "    <tr>\n",
       "      <th>cluster</th>\n",
       "      <th></th>\n",
       "      <th></th>\n",
       "      <th></th>\n",
       "      <th></th>\n",
       "      <th></th>\n",
       "      <th></th>\n",
       "    </tr>\n",
       "  </thead>\n",
       "  <tbody>\n",
       "    <tr>\n",
       "      <th>0</th>\n",
       "      <td>0.652052</td>\n",
       "      <td>0.010236</td>\n",
       "      <td>0.010682</td>\n",
       "      <td>0.435424</td>\n",
       "      <td>0.267907</td>\n",
       "      <td>12548</td>\n",
       "    </tr>\n",
       "    <tr>\n",
       "      <th>1</th>\n",
       "      <td>0.126711</td>\n",
       "      <td>0.049457</td>\n",
       "      <td>0.030359</td>\n",
       "      <td>0.431838</td>\n",
       "      <td>0.182442</td>\n",
       "      <td>29300</td>\n",
       "    </tr>\n",
       "    <tr>\n",
       "      <th>2</th>\n",
       "      <td>0.137110</td>\n",
       "      <td>0.066452</td>\n",
       "      <td>0.038764</td>\n",
       "      <td>0.453026</td>\n",
       "      <td>0.693570</td>\n",
       "      <td>20023</td>\n",
       "    </tr>\n",
       "  </tbody>\n",
       "</table>\n",
       "</div>"
      ],
      "text/plain": [
       "                R         F         M         C         L  count\n",
       "cluster                                                         \n",
       "0        0.652052  0.010236  0.010682  0.435424  0.267907  12548\n",
       "1        0.126711  0.049457  0.030359  0.431838  0.182442  29300\n",
       "2        0.137110  0.066452  0.038764  0.453026  0.693570  20023"
      ]
     },
     "execution_count": 72,
     "metadata": {},
     "output_type": "execute_result"
    }
   ],
   "source": [
    "cluster_df"
   ]
  },
  {
   "cell_type": "code",
   "execution_count": 71,
   "id": "017c3ed8",
   "metadata": {},
   "outputs": [
    {
     "data": {
      "text/plain": [
       "<AxesSubplot:title={'center':'Count'}, xlabel='cluster'>"
      ]
     },
     "execution_count": 71,
     "metadata": {},
     "output_type": "execute_result"
    },
    {
     "data": {
      "image/png": "[encoded data removed]",
      "text/plain": [
       "<Figure size 1080x1080 with 6 Axes>"
      ]
     },
     "metadata": {
      "needs_background": "light"
     },
     "output_type": "display_data"
    }
   ],
   "source": [
    "fig, ax = plt.subplots(3,2, figsize=(15,15))\n",
    "cluster_df['R'].plot(kind='bar', rot=0, ax=ax[0,0], title='Recency', color='#f1c0e8')\n",
    "cluster_df['F'].plot(kind='bar', rot=0, ax=ax[0,1], title='Frequency', color='#a3c4f3')\n",
    "cluster_df['M'].plot(kind='bar', rot=0, ax=ax[1,0], title='Monetary', color='#98f5e1')\n",
    "cluster_df['L'].plot(kind='bar', rot=0, ax=ax[1,1], title='Membership length', color='#cfbaf0')\n",
    "cluster_df['C'].plot(kind='bar', rot=0, ax=ax[2,0], title='Coefficient of discount', color='#fde4cf')\n",
    "cluster_df['count'].plot(kind='bar', rot=0, ax=ax[2,1], title='Count', color='skyblue')"
   ]
  },
  {
   "cell_type": "markdown",
   "id": "bef9a58e",
   "metadata": {},
   "source": [
    "- Cluster 0:<br>\n",
    "Highest recency, lowest frequency, lowest monetary, second lowest membership length\n",
    "<br>\n",
    "- Cluster 1:<br>\n",
    "Lowest recency, second highest frequency, second highest monetary, lowest membership length\n",
    "<br>\n",
    "- Cluster 2:<br>\n",
    "Second lowest recency, highest frequency, highest monetary, highest membership length\n",
    "- Overall, they have equal average of coefficient of discounts"
   ]
  },
  {
   "cell_type": "markdown",
   "id": "be43f434",
   "metadata": {},
   "source": [
    "<b>Cluster 0</b> are customers with low membership length, low total kilometers, low frequency, but high recency. They are probably new customers. Increase brand awareness among them.\n",
    "<b>Cluster 1</b> are customers with low recency and membership length, but they took many flights before and have high total kilometers. This company might be at risk of losing them. Make limited-time offers and give personalized recommendations.\n",
    "<b>Cluster 2</b> are customers with high membership length, total kilometers, and frequency, but they didn't take flights recently. They might be loyal customers. Try to retain these customers by sending personalized discounts, offer membership program, and collecting feedbacks."
   ]
  }
 ],
 "metadata": {
  "kernelspec": {
   "display_name": "Python 3 (ipykernel)",
   "language": "python",
   "name": "python3"
  },
  "language_info": {
   "codemirror_mode": {
    "name": "ipython",
    "version": 3
   },
   "file_extension": ".py",
   "mimetype": "text/x-python",
   "name": "python",
   "nbconvert_exporter": "python",
   "pygments_lexer": "ipython3",
   "version": "3.9.12"
  }
 },
 "nbformat": 4,
 "nbformat_minor": 5
}

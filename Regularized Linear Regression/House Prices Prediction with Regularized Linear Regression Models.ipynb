{
 "cells": [
  {
   "cell_type": "markdown",
   "id": "d4dc0a06",
   "metadata": {},
   "source": [
    "# House Prices Predictions with Regularized Linear Regression\n",
    "Filzahanti Nuha Ramadhani"
   ]
  },
  {
   "cell_type": "code",
   "execution_count": 1,
   "id": "a1cfafc8",
   "metadata": {},
   "outputs": [],
   "source": [
    "import pandas as pd\n",
    "import numpy as np\n",
    "import matplotlib.pyplot as plt\n",
    "import seaborn as sns\n",
    "from sklearn.model_selection import train_test_split\n",
    "from sklearn.linear_model import Ridge, Lasso, RidgeCV, LassoCV\n",
    "from sklearn.metrics import mean_squared_error, mean_absolute_error, mean_absolute_percentage_error, make_scorer"
   ]
  },
  {
   "cell_type": "markdown",
   "id": "cb81d466",
   "metadata": {},
   "source": [
    "- Source of dataset: <a href='https://archive.ics.uci.edu/ml/machine-learning-databases/housing/'>machine-learning-databases/housing/</a>\n",
    "- The dataset can also be downloaded from <a href='https://github.com/pararawendy/dibimbing-materials/blob/main/boston.csv'>here\n",
    "- There are 14 attributes in the dataset: crim, zn, indus, chas, nox, rm, age, dis, rad, tax, ptratio, black, lstat, and mdev.<br>\n",
    "- Attribute information from the UCI Machine Learning Repository:\n",
    "    1. CRIM (per capita crime rate by town)\n",
    "    2. ZN (proportion of residential land zoned for lots over 25,000 sq.ft.)\n",
    "    3. INDUS (proportion of non-retail business acres per town)\n",
    "    4. CHAS (Charles River dummy variable (= 1 if tract bounds river 0 otherwise)\n",
    "    5. NOX (nitric oxides concentration (parts per 10 million)\n",
    "    6. RM (average number of rooms per dwelling)\n",
    "    7. AGE (proportion of owner-occupied units built prior to 1940)\n",
    "    8. DIS (weighted distances to five Boston employment centres)\n",
    "    9. RAD (index of accessibility to radial highways)\n",
    "    10. TAX (full-value property-tax rate per \\$10,000)\n",
    "    11. PTRATIO (pupil-teacher ratio by town)\n",
    "    12. Black (1000(Bk - 0.63)^2 where Bk is the proportion of blacks by town)\n",
    "    13. LSTAT (\\% lower status of the population)\n",
    "    14. MEDV (Median value of owner-occupied homes in $1000's)"
   ]
  },
  {
   "cell_type": "markdown",
   "id": "19498bcf",
   "metadata": {},
   "source": [
    "## Data Preparation"
   ]
  },
  {
   "cell_type": "code",
   "execution_count": 2,
   "id": "18416cf0",
   "metadata": {},
   "outputs": [],
   "source": [
    "df = pd.read_csv(\"D:\\\\FILZA 1\\\\dibimbing\\\\dataset\\\\boston\\\\boston.csv\")"
   ]
  },
  {
   "cell_type": "code",
   "execution_count": 3,
   "id": "63eda3d2",
   "metadata": {},
   "outputs": [
    {
     "name": "stdout",
     "output_type": "stream",
     "text": [
      "<class 'pandas.core.frame.DataFrame'>\n",
      "RangeIndex: 506 entries, 0 to 505\n",
      "Data columns (total 14 columns):\n",
      " #   Column   Non-Null Count  Dtype  \n",
      "---  ------   --------------  -----  \n",
      " 0   crim     506 non-null    float64\n",
      " 1   zn       506 non-null    float64\n",
      " 2   indus    506 non-null    float64\n",
      " 3   chas     506 non-null    int64  \n",
      " 4   nox      506 non-null    float64\n",
      " 5   rm       506 non-null    float64\n",
      " 6   age      506 non-null    float64\n",
      " 7   dis      506 non-null    float64\n",
      " 8   rad      506 non-null    int64  \n",
      " 9   tax      506 non-null    int64  \n",
      " 10  ptratio  506 non-null    float64\n",
      " 11  black    506 non-null    float64\n",
      " 12  lstat    506 non-null    float64\n",
      " 13  medv     506 non-null    float64\n",
      "dtypes: float64(11), int64(3)\n",
      "memory usage: 55.5 KB\n"
     ]
    }
   ],
   "source": [
    "df.info()"
   ]
  },
  {
   "cell_type": "code",
   "execution_count": 4,
   "id": "3441e0e6",
   "metadata": {
    "scrolled": false
   },
   "outputs": [
    {
     "data": {
      "text/plain": [
       "crim       0\n",
       "zn         0\n",
       "indus      0\n",
       "chas       0\n",
       "nox        0\n",
       "rm         0\n",
       "age        0\n",
       "dis        0\n",
       "rad        0\n",
       "tax        0\n",
       "ptratio    0\n",
       "black      0\n",
       "lstat      0\n",
       "medv       0\n",
       "dtype: int64"
      ]
     },
     "execution_count": 4,
     "metadata": {},
     "output_type": "execute_result"
    }
   ],
   "source": [
    "df.isnull().sum()"
   ]
  },
  {
   "cell_type": "markdown",
   "id": "73dd10ba",
   "metadata": {},
   "source": [
    "There are no missing values."
   ]
  },
  {
   "cell_type": "code",
   "execution_count": 5,
   "id": "4bd6c692",
   "metadata": {},
   "outputs": [
    {
     "data": {
      "text/plain": [
       "0"
      ]
     },
     "execution_count": 5,
     "metadata": {},
     "output_type": "execute_result"
    }
   ],
   "source": [
    "df.duplicated().sum()"
   ]
  },
  {
   "cell_type": "markdown",
   "id": "e5f0d81e",
   "metadata": {},
   "source": [
    "There are no duplicated rows."
   ]
  },
  {
   "cell_type": "code",
   "execution_count": 6,
   "id": "52aea623",
   "metadata": {},
   "outputs": [],
   "source": [
    "#Assign medv to y and the other features to X\n",
    "y = df[['medv']]\n",
    "X = df.drop('medv', axis=1)"
   ]
  },
  {
   "cell_type": "markdown",
   "id": "4388a197",
   "metadata": {},
   "source": [
    "## Data Splitting"
   ]
  },
  {
   "cell_type": "code",
   "execution_count": 7,
   "id": "38b62505",
   "metadata": {},
   "outputs": [],
   "source": [
    "#Split data into train and test sets\n",
    "X0_train, X_test, y0_train, y_test = train_test_split(X, y, test_size=0.2, random_state=100)\n",
    "#Split train sets into train and validation sets\n",
    "X1_train, X1_val, y1_train, y1_val = train_test_split(X0_train, y0_train, test_size=0.2, random_state=100)"
   ]
  },
  {
   "cell_type": "markdown",
   "id": "e983563e",
   "metadata": {},
   "source": [
    "## Feature Selection"
   ]
  },
  {
   "cell_type": "markdown",
   "id": "14925160",
   "metadata": {},
   "source": [
    "Threshold: <br>\n",
    "Abs(cor) >= 0.8"
   ]
  },
  {
   "cell_type": "code",
   "execution_count": 8,
   "id": "d6d2f896",
   "metadata": {},
   "outputs": [
    {
     "data": {
      "text/plain": [
       "<AxesSubplot:>"
      ]
     },
     "execution_count": 8,
     "metadata": {},
     "output_type": "execute_result"
    },
    {
     "data": {
      "image/png": "[encoded data removed]",
      "text/plain": [
       "<Figure size 1080x720 with 2 Axes>"
      ]
     },
     "metadata": {
      "needs_background": "light"
     },
     "output_type": "display_data"
    }
   ],
   "source": [
    "plt.figure(figsize=(15,10))\n",
    "#Plot correlation heatmap of training data\n",
    "train = pd.concat([X1_train, y1_train], axis=1)\n",
    "cor = train.corr()\n",
    "sns.heatmap(cor, annot=True, cmap='Blues')"
   ]
  },
  {
   "cell_type": "markdown",
   "id": "9e16bcd2",
   "metadata": {},
   "source": [
    "Features rad and tax is highly correlated with each other, with abs(cor)=0.91 which is more than our threshold (0.8). Since tax has a stronger relationship with the target variable than rad, we will drop feature rad."
   ]
  },
  {
   "cell_type": "code",
   "execution_count": 9,
   "id": "3be26b67",
   "metadata": {},
   "outputs": [],
   "source": [
    "#Drop feature rad\n",
    "X_test = X_test.drop('rad', axis=1)\n",
    "X1_train = X1_train.drop('rad', axis=1)\n",
    "X1_val = X1_val.drop('rad', axis=1)"
   ]
  },
  {
   "cell_type": "markdown",
   "id": "7499ca76",
   "metadata": {},
   "source": [
    "## Model Training"
   ]
  },
  {
   "cell_type": "code",
   "execution_count": 10,
   "id": "d6e3ce9b",
   "metadata": {},
   "outputs": [],
   "source": [
    "#Convert test, train, and validation sets dataframe to NumPy array\n",
    "X_train = X1_train.to_numpy()\n",
    "y_train = y1_train.to_numpy()\n",
    "X_val = X1_val.to_numpy()\n",
    "y_val = y1_val.to_numpy()\n",
    "X_test = X_test.to_numpy()\n",
    "y_test = y_test.to_numpy()\n",
    "#Change the shape of y_test, y_train, and y_val\n",
    "y_train = y_train.reshape(len(y_train),)\n",
    "y_val = y_val.reshape(len(y_val),)\n",
    "y_test = y_test.reshape(len(y_test),)"
   ]
  },
  {
   "cell_type": "markdown",
   "id": "e814a14d",
   "metadata": {},
   "source": [
    "### Ridge Regression"
   ]
  },
  {
   "cell_type": "code",
   "execution_count": 11,
   "id": "49d6177c",
   "metadata": {
    "scrolled": true
   },
   "outputs": [
    {
     "name": "stdout",
     "output_type": "stream",
     "text": [
      "Alpha = 0.01, RMSE = 4.707270181937095\n",
      "Alpha = 0.1, RMSE = 4.708725237620482\n",
      "Alpha = 1, RMSE = 4.729307574634242\n",
      "Alpha = 10, RMSE = 4.788268575978064\n"
     ]
    }
   ],
   "source": [
    "#Create a list of alphas\n",
    "alpha = [0.01, 0.1, 1, 10]\n",
    "a={}\n",
    "#Define the model\n",
    "for i, j in enumerate(alpha):\n",
    "    a['ridge{0}'.format(i)] = Ridge(alpha=j, random_state=100)\n",
    "    #fit the model\n",
    "    a['ridge{0}'.format(i)].fit(X_train, y_train)\n",
    "    #get prediction\n",
    "    y_pred = a['ridge{0}'.format(i)].predict(X_val)\n",
    "    #find rmse\n",
    "    rmse = np.sqrt(mean_squared_error(y_val, y_pred))\n",
    "    print(f'Alpha = {j}, RMSE = {rmse}')"
   ]
  },
  {
   "cell_type": "markdown",
   "id": "afa1f8cf",
   "metadata": {},
   "source": [
    "According to the RMSE of each model, the best model is Ridge with alpha=0.01. The model achieved the lowest RMSE (~4.707)."
   ]
  },
  {
   "cell_type": "code",
   "execution_count": 12,
   "id": "951c6e82",
   "metadata": {
    "scrolled": false
   },
   "outputs": [
    {
     "data": {
      "text/plain": [
       "{'ridge0': Ridge(alpha=0.01, random_state=100),\n",
       " 'ridge1': Ridge(alpha=0.1, random_state=100),\n",
       " 'ridge2': Ridge(alpha=1, random_state=100),\n",
       " 'ridge3': Ridge(alpha=10, random_state=100)}"
      ]
     },
     "execution_count": 12,
     "metadata": {},
     "output_type": "execute_result"
    }
   ],
   "source": [
    "a"
   ]
  },
  {
   "cell_type": "markdown",
   "id": "d145ce39",
   "metadata": {},
   "source": [
    "Find the coefficients of all features of the best model."
   ]
  },
  {
   "cell_type": "code",
   "execution_count": 13,
   "id": "57681449",
   "metadata": {
    "scrolled": false
   },
   "outputs": [
    {
     "data": {
      "text/html": [
       "<div>\n",
       "<style scoped>\n",
       "    .dataframe tbody tr th:only-of-type {\n",
       "        vertical-align: middle;\n",
       "    }\n",
       "\n",
       "    .dataframe tbody tr th {\n",
       "        vertical-align: top;\n",
       "    }\n",
       "\n",
       "    .dataframe thead th {\n",
       "        text-align: right;\n",
       "    }\n",
       "</style>\n",
       "<table border=\"1\" class=\"dataframe\">\n",
       "  <thead>\n",
       "    <tr style=\"text-align: right;\">\n",
       "      <th></th>\n",
       "      <th>feature</th>\n",
       "      <th>coef</th>\n",
       "    </tr>\n",
       "  </thead>\n",
       "  <tbody>\n",
       "    <tr>\n",
       "      <th>0</th>\n",
       "      <td>intercept</td>\n",
       "      <td>29.092455</td>\n",
       "    </tr>\n",
       "    <tr>\n",
       "      <th>1</th>\n",
       "      <td>crim</td>\n",
       "      <td>-0.022028</td>\n",
       "    </tr>\n",
       "    <tr>\n",
       "      <th>2</th>\n",
       "      <td>zn</td>\n",
       "      <td>0.036825</td>\n",
       "    </tr>\n",
       "    <tr>\n",
       "      <th>3</th>\n",
       "      <td>indus</td>\n",
       "      <td>-0.103947</td>\n",
       "    </tr>\n",
       "    <tr>\n",
       "      <th>4</th>\n",
       "      <td>chas</td>\n",
       "      <td>3.811080</td>\n",
       "    </tr>\n",
       "    <tr>\n",
       "      <th>5</th>\n",
       "      <td>nox</td>\n",
       "      <td>-13.338335</td>\n",
       "    </tr>\n",
       "    <tr>\n",
       "      <th>6</th>\n",
       "      <td>rm</td>\n",
       "      <td>3.788073</td>\n",
       "    </tr>\n",
       "    <tr>\n",
       "      <th>7</th>\n",
       "      <td>age</td>\n",
       "      <td>-0.011130</td>\n",
       "    </tr>\n",
       "    <tr>\n",
       "      <th>8</th>\n",
       "      <td>dis</td>\n",
       "      <td>-1.523664</td>\n",
       "    </tr>\n",
       "    <tr>\n",
       "      <th>9</th>\n",
       "      <td>tax</td>\n",
       "      <td>0.001845</td>\n",
       "    </tr>\n",
       "    <tr>\n",
       "      <th>10</th>\n",
       "      <td>ptratio</td>\n",
       "      <td>-0.759239</td>\n",
       "    </tr>\n",
       "    <tr>\n",
       "      <th>11</th>\n",
       "      <td>black</td>\n",
       "      <td>0.010709</td>\n",
       "    </tr>\n",
       "    <tr>\n",
       "      <th>12</th>\n",
       "      <td>lstat</td>\n",
       "      <td>-0.494471</td>\n",
       "    </tr>\n",
       "  </tbody>\n",
       "</table>\n",
       "</div>"
      ],
      "text/plain": [
       "      feature       coef\n",
       "0   intercept  29.092455\n",
       "1        crim  -0.022028\n",
       "2          zn   0.036825\n",
       "3       indus  -0.103947\n",
       "4        chas   3.811080\n",
       "5         nox -13.338335\n",
       "6          rm   3.788073\n",
       "7         age  -0.011130\n",
       "8         dis  -1.523664\n",
       "9         tax   0.001845\n",
       "10    ptratio  -0.759239\n",
       "11      black   0.010709\n",
       "12      lstat  -0.494471"
      ]
     },
     "execution_count": 13,
     "metadata": {},
     "output_type": "execute_result"
    }
   ],
   "source": [
    "#assign ridge with alpha=0.01 to best_ridge\n",
    "best_ridge = a['ridge0']\n",
    "coef = pd.DataFrame({'feature':['intercept'] + X1_train.columns.to_list(),\n",
    "                       'coef': [best_ridge.intercept_] + list(best_ridge.coef_)})\n",
    "coef"
   ]
  },
  {
   "cell_type": "markdown",
   "id": "5e892780",
   "metadata": {},
   "source": [
    "Interpretation:\n",
    "- The regression coefficient for nox (nitric oxides concentration) is -13.338335. Each additional nitric oxides concentration is connected with a decrease of 13.338335 on mdev (median value of owner occupied-homes in 1000 dollars).\n",
    "- The intercept coefficient is 29.092455. This means, if the other features have 0 coefficients, the median value of owner occupied-homes is 290924.55 dollars.\n"
   ]
  },
  {
   "cell_type": "markdown",
   "id": "f6764c0c",
   "metadata": {},
   "source": [
    "Visualize the residuals"
   ]
  },
  {
   "cell_type": "code",
   "execution_count": 14,
   "id": "f0f5de06",
   "metadata": {
    "scrolled": true
   },
   "outputs": [
    {
     "data": {
      "text/plain": [
       "Text(0, 0.5, 'Residuals')"
      ]
     },
     "execution_count": 14,
     "metadata": {},
     "output_type": "execute_result"
    },
    {
     "data": {
      "image/png": "[encoded data removed]",
      "text/plain": [
       "<Figure size 432x288 with 1 Axes>"
      ]
     },
     "metadata": {
      "needs_background": "light"
     },
     "output_type": "display_data"
    }
   ],
   "source": [
    "#Predict the train data\n",
    "y_pred_train = best_ridge.predict(X_train)\n",
    "#Calculate the residuals\n",
    "ridge_residual = y_train - y_pred_train\n",
    "#Scatter plot for residuals and predicted values\n",
    "sns.scatterplot(x=y_pred_train, y=ridge_residual)\n",
    "plt.xlabel('Predicted values')\n",
    "plt.ylabel('Residuals')"
   ]
  },
  {
   "cell_type": "markdown",
   "id": "598fa24b",
   "metadata": {},
   "source": [
    "The residuals are randomly dispersed."
   ]
  },
  {
   "cell_type": "markdown",
   "id": "476655ba",
   "metadata": {},
   "source": [
    "### Lasso"
   ]
  },
  {
   "cell_type": "code",
   "execution_count": 15,
   "id": "8c66e8c5",
   "metadata": {
    "scrolled": true
   },
   "outputs": [
    {
     "name": "stdout",
     "output_type": "stream",
     "text": [
      "Alpha = 0.01, RMSE = 4.71381105666119\n",
      "Alpha = 0.1, RMSE = 4.799803063582563\n",
      "Alpha = 1, RMSE = 5.346178659482137\n",
      "Alpha = 10, RMSE = 6.182374186651091\n"
     ]
    }
   ],
   "source": [
    "#Create a list of alphas\n",
    "alpha = [0.01, 0.1, 1, 10]\n",
    "b={}\n",
    "for i, j in enumerate(alpha):\n",
    "    #Define the model\n",
    "    b['lasso{0}'.format(i)] = Lasso(alpha=j, random_state=100)\n",
    "    #fit the model\n",
    "    b['lasso{0}'.format(i)].fit(X_train, y_train)\n",
    "    #get prediction\n",
    "    y_pred = b['lasso{0}'.format(i)].predict(X_val)\n",
    "    #find rmse\n",
    "    rmse = np.sqrt(mean_squared_error(y_val, y_pred))\n",
    "    print(f'Alpha = {j}, RMSE = {rmse}')"
   ]
  },
  {
   "cell_type": "markdown",
   "id": "f4083ec5",
   "metadata": {},
   "source": [
    "According to the RMSE of each model, the best model is Lasso with alpha=0.01. The model achieved the lowest RMSE (~4.71)."
   ]
  },
  {
   "cell_type": "code",
   "execution_count": 16,
   "id": "2cd4ed54",
   "metadata": {
    "scrolled": true
   },
   "outputs": [
    {
     "data": {
      "text/plain": [
       "{'lasso0': Lasso(alpha=0.01, random_state=100),\n",
       " 'lasso1': Lasso(alpha=0.1, random_state=100),\n",
       " 'lasso2': Lasso(alpha=1, random_state=100),\n",
       " 'lasso3': Lasso(alpha=10, random_state=100)}"
      ]
     },
     "execution_count": 16,
     "metadata": {},
     "output_type": "execute_result"
    }
   ],
   "source": [
    "b"
   ]
  },
  {
   "cell_type": "markdown",
   "id": "25af5eb5",
   "metadata": {},
   "source": [
    "Find the coefficients of all features of the best model."
   ]
  },
  {
   "cell_type": "code",
   "execution_count": 17,
   "id": "79bae4f7",
   "metadata": {},
   "outputs": [
    {
     "data": {
      "text/html": [
       "<div>\n",
       "<style scoped>\n",
       "    .dataframe tbody tr th:only-of-type {\n",
       "        vertical-align: middle;\n",
       "    }\n",
       "\n",
       "    .dataframe tbody tr th {\n",
       "        vertical-align: top;\n",
       "    }\n",
       "\n",
       "    .dataframe thead th {\n",
       "        text-align: right;\n",
       "    }\n",
       "</style>\n",
       "<table border=\"1\" class=\"dataframe\">\n",
       "  <thead>\n",
       "    <tr style=\"text-align: right;\">\n",
       "      <th></th>\n",
       "      <th>feature</th>\n",
       "      <th>coef</th>\n",
       "    </tr>\n",
       "  </thead>\n",
       "  <tbody>\n",
       "    <tr>\n",
       "      <th>0</th>\n",
       "      <td>intercept</td>\n",
       "      <td>27.273101</td>\n",
       "    </tr>\n",
       "    <tr>\n",
       "      <th>1</th>\n",
       "      <td>crim</td>\n",
       "      <td>-0.021125</td>\n",
       "    </tr>\n",
       "    <tr>\n",
       "      <th>2</th>\n",
       "      <td>zn</td>\n",
       "      <td>0.037546</td>\n",
       "    </tr>\n",
       "    <tr>\n",
       "      <th>3</th>\n",
       "      <td>indus</td>\n",
       "      <td>-0.112899</td>\n",
       "    </tr>\n",
       "    <tr>\n",
       "      <th>4</th>\n",
       "      <td>chas</td>\n",
       "      <td>3.630448</td>\n",
       "    </tr>\n",
       "    <tr>\n",
       "      <th>5</th>\n",
       "      <td>nox</td>\n",
       "      <td>-10.143013</td>\n",
       "    </tr>\n",
       "    <tr>\n",
       "      <th>6</th>\n",
       "      <td>rm</td>\n",
       "      <td>3.770858</td>\n",
       "    </tr>\n",
       "    <tr>\n",
       "      <th>7</th>\n",
       "      <td>age</td>\n",
       "      <td>-0.013521</td>\n",
       "    </tr>\n",
       "    <tr>\n",
       "      <th>8</th>\n",
       "      <td>dis</td>\n",
       "      <td>-1.470730</td>\n",
       "    </tr>\n",
       "    <tr>\n",
       "      <th>9</th>\n",
       "      <td>tax</td>\n",
       "      <td>0.001162</td>\n",
       "    </tr>\n",
       "    <tr>\n",
       "      <th>10</th>\n",
       "      <td>ptratio</td>\n",
       "      <td>-0.728462</td>\n",
       "    </tr>\n",
       "    <tr>\n",
       "      <th>11</th>\n",
       "      <td>black</td>\n",
       "      <td>0.010758</td>\n",
       "    </tr>\n",
       "    <tr>\n",
       "      <th>12</th>\n",
       "      <td>lstat</td>\n",
       "      <td>-0.501015</td>\n",
       "    </tr>\n",
       "  </tbody>\n",
       "</table>\n",
       "</div>"
      ],
      "text/plain": [
       "      feature       coef\n",
       "0   intercept  27.273101\n",
       "1        crim  -0.021125\n",
       "2          zn   0.037546\n",
       "3       indus  -0.112899\n",
       "4        chas   3.630448\n",
       "5         nox -10.143013\n",
       "6          rm   3.770858\n",
       "7         age  -0.013521\n",
       "8         dis  -1.470730\n",
       "9         tax   0.001162\n",
       "10    ptratio  -0.728462\n",
       "11      black   0.010758\n",
       "12      lstat  -0.501015"
      ]
     },
     "execution_count": 17,
     "metadata": {},
     "output_type": "execute_result"
    }
   ],
   "source": [
    "#assign lasso with alpha=0.01 to best_lasso\n",
    "best_lasso = b['lasso0']\n",
    "coef1 = pd.DataFrame({'feature':['intercept'] + X1_train.columns.to_list(),\n",
    "                       'coef': [best_lasso.intercept_] + list(best_lasso.coef_)})\n",
    "coef1"
   ]
  },
  {
   "cell_type": "markdown",
   "id": "83ccbc9f",
   "metadata": {},
   "source": [
    "Interpretation:\n",
    "- The lasso regression coefficient for rm (average number of rooms per dwelling) is 3.770858. Each additional average number of rooms is connected with an increase of 3.770858 on mdev (median value of owner occupied-homes in 1000 dollars).\n",
    "- The intercept coefficient is 27.273101. This means, if the other features have 0 coefficients, the median value of owner occupied-homes is 272731.01 dollars."
   ]
  },
  {
   "cell_type": "markdown",
   "id": "a6ee14cc",
   "metadata": {},
   "source": [
    "Visualize the residuals"
   ]
  },
  {
   "cell_type": "code",
   "execution_count": 18,
   "id": "80e36722",
   "metadata": {
    "scrolled": true
   },
   "outputs": [
    {
     "data": {
      "text/plain": [
       "Text(0, 0.5, 'Residuals')"
      ]
     },
     "execution_count": 18,
     "metadata": {},
     "output_type": "execute_result"
    },
    {
     "data": {
      "image/png": "[encoded data removed]",
      "text/plain": [
       "<Figure size 432x288 with 1 Axes>"
      ]
     },
     "metadata": {
      "needs_background": "light"
     },
     "output_type": "display_data"
    }
   ],
   "source": [
    "#Predict the train data\n",
    "y_pred_train = best_lasso.predict(X_train)\n",
    "#Calculate the residuals\n",
    "lasso_residual = y_train - y_pred_train\n",
    "#Scatter plot for residuals and predicted values\n",
    "sns.scatterplot(x=y_pred_train, y=lasso_residual)\n",
    "plt.xlabel('Predicted values')\n",
    "plt.ylabel('Residuals')"
   ]
  },
  {
   "cell_type": "markdown",
   "id": "50a2a48b",
   "metadata": {},
   "source": [
    "The residuals are randomly dispersed."
   ]
  },
  {
   "cell_type": "markdown",
   "id": "183a7675",
   "metadata": {},
   "source": [
    "## Model Evaluation"
   ]
  },
  {
   "cell_type": "markdown",
   "id": "cae4fb45",
   "metadata": {},
   "source": [
    "### Ridge\n",
    "Training error"
   ]
  },
  {
   "cell_type": "code",
   "execution_count": 19,
   "id": "3669a866",
   "metadata": {},
   "outputs": [
    {
     "name": "stdout",
     "output_type": "stream",
     "text": [
      "Train RMSE = 4.770618624276189 \n",
      "Train MAE = 3.3201347871517433 \n",
      "Train MAPE = 0.16314810523893444\n"
     ]
    }
   ],
   "source": [
    "#Get predictions of train data\n",
    "y_pred_train_ridge = best_ridge.predict(X_train)\n",
    "#Calculate RMSE, MAE, and MAPE\n",
    "train_rmse_ridge = np.sqrt(mean_squared_error(y_train, y_pred_train_ridge))\n",
    "train_mae_ridge = mean_absolute_error(y_train, y_pred_train_ridge)\n",
    "train_mape_ridge = mean_absolute_percentage_error(y_train, y_pred_train_ridge)\n",
    "print('Train RMSE =', train_rmse_ridge, '\\nTrain MAE =', train_mae_ridge, '\\nTrain MAPE =', train_mape_ridge)"
   ]
  },
  {
   "cell_type": "markdown",
   "id": "eecc3e5b",
   "metadata": {},
   "source": [
    "Testing error"
   ]
  },
  {
   "cell_type": "code",
   "execution_count": 20,
   "id": "6e77c334",
   "metadata": {
    "scrolled": false
   },
   "outputs": [
    {
     "name": "stdout",
     "output_type": "stream",
     "text": [
      "Test RMSE = 5.081167612410762 \n",
      "Test MAE = 3.4479843621130106 \n",
      "Test MAPE = 0.17996407993917665\n"
     ]
    }
   ],
   "source": [
    "#Get predictions of test data\n",
    "y_pred_test_ridge = best_ridge.predict(X_test)\n",
    "#Calculate RMSE, MAE, and MAPE\n",
    "test_rmse = np.sqrt(mean_squared_error(y_test, y_pred_test_ridge))\n",
    "test_mae = mean_absolute_error(y_test, y_pred_test_ridge)\n",
    "test_mape = mean_absolute_percentage_error(y_test, y_pred_test_ridge)\n",
    "print('Test RMSE =', test_rmse, '\\nTest MAE =', test_mae, '\\nTest MAPE =', test_mape)"
   ]
  },
  {
   "cell_type": "markdown",
   "id": "61431326",
   "metadata": {},
   "source": [
    "Interpretation:\n",
    "- RMSE = 5.081167612410762 means the standard deviation of residual errors is 5.081167612410762.\n",
    "- MAE is the average of absolute value of residual errors. MAE = 3.4479843621130106 indicates that, on average, the difference between the model's prediction and the actual data is 3.4479843621130106.\n",
    "- MAPE is the absolute percentage of how far the predicted value are off from the actual value on average. MAPE = 0.17996407993917665 indicates that, on average, the difference between the model's prediction and the actual data is 17.996407993917665 percent of the actual data."
   ]
  },
  {
   "cell_type": "markdown",
   "id": "3ccb7117",
   "metadata": {},
   "source": [
    "### Lasso\n",
    "Training error"
   ]
  },
  {
   "cell_type": "code",
   "execution_count": 21,
   "id": "fa7ab294",
   "metadata": {},
   "outputs": [
    {
     "name": "stdout",
     "output_type": "stream",
     "text": [
      "Train RMSE = 4.774384034749898 \n",
      "Train MAE = 3.312788744301565 \n",
      "Train MAPE = 0.16293301149496656\n"
     ]
    }
   ],
   "source": [
    "#Get predictions of train data\n",
    "y_pred_train = best_lasso.predict(X_train)\n",
    "#Calculate RMSE, MAE, and MAPE\n",
    "train_rmse_lasso = np.sqrt(mean_squared_error(y_train, y_pred_train))\n",
    "train_mae_lasso = mean_absolute_error(y_train, y_pred_train)\n",
    "train_mape_lasso = mean_absolute_percentage_error(y_train, y_pred_train)\n",
    "print('Train RMSE =', train_rmse_lasso, '\\nTrain MAE =', train_mae_lasso, '\\nTrain MAPE =', train_mape_lasso)"
   ]
  },
  {
   "cell_type": "markdown",
   "id": "62aa5201",
   "metadata": {},
   "source": [
    "Testing error"
   ]
  },
  {
   "cell_type": "code",
   "execution_count": 22,
   "id": "f45d01e7",
   "metadata": {
    "scrolled": true
   },
   "outputs": [
    {
     "name": "stdout",
     "output_type": "stream",
     "text": [
      "Test RMSE = 5.098655587375542 \n",
      "Test MAE = 3.4577345266213184 \n",
      "Test MAPE = 0.18070869179224597\n"
     ]
    }
   ],
   "source": [
    "#Get predictions of test data\n",
    "y_pred_test_lasso = best_lasso.predict(X_test)\n",
    "#Calculate RMSE, MAE, and MAPE\n",
    "test_rmse_lasso = np.sqrt(mean_squared_error(y_test, y_pred_test_lasso))\n",
    "test_mae_lasso = mean_absolute_error(y_test, y_pred_test_lasso)\n",
    "test_mape_lasso = mean_absolute_percentage_error(y_test, y_pred_test_lasso)\n",
    "print('Test RMSE =', test_rmse_lasso, '\\nTest MAE =', test_mae_lasso, '\\nTest MAPE =', test_mape_lasso)"
   ]
  },
  {
   "cell_type": "markdown",
   "id": "0dbad40a",
   "metadata": {},
   "source": [
    "Interpretation:\n",
    "- RMSE = 5.098655587375542 means the standard deviation of residual errors is 5.098655587375542.\n",
    "-  MAE = 3.4577345266213184 indicates that, on average, the difference between the model's prediction and the actual data is 3.4577345266213184.\n",
    "- MAPE = 0.18070869179224597 indicates that, on average, the difference between the model's prediction and the actual data is 18.070869179224597 percent of the actual data."
   ]
  }
 ],
 "metadata": {
  "kernelspec": {
   "display_name": "Python 3 (ipykernel)",
   "language": "python",
   "name": "python3"
  },
  "language_info": {
   "codemirror_mode": {
    "name": "ipython",
    "version": 3
   },
   "file_extension": ".py",
   "mimetype": "text/x-python",
   "name": "python",
   "nbconvert_exporter": "python",
   "pygments_lexer": "ipython3",
   "version": "3.9.12"
  }
 },
 "nbformat": 4,
 "nbformat_minor": 5
}

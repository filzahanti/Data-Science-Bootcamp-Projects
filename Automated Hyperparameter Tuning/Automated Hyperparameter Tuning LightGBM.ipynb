{
  "cells": [
    {
      "cell_type": "markdown",
      "metadata": {
        "id": "574a967c"
      },
      "source": [
        "# Hyperparameter Tuning on Gradient Boosted Tree Model"
      ],
      "id": "574a967c"
    },
    {
      "cell_type": "markdown",
      "metadata": {
        "id": "e2542381"
      },
      "source": [
        "Read the following documentation:\n",
        "- https://lightgbm.readthedocs.io/en/latest/Parameters-Tuning.html#for-better-accuracy \n",
        "- https://lightgbm.readthedocs.io/en/latest/Parameters.html\n",
        "\n",
        "\n",
        "Then, run the code below"
      ],
      "id": "e2542381"
    },
    {
      "cell_type": "code",
      "execution_count": null,
      "metadata": {
        "id": "b1917131"
      },
      "outputs": [],
      "source": [
        "import pandas as pd\n",
        "import numpy as np\n",
        "\n",
        "import lightgbm as lgbm\n",
        "from lightgbm import LGBMClassifier\n",
        "from sklearn.model_selection import train_test_split, cross_val_score, StratifiedKFold\n",
        "from sklearn.metrics import classification_report, recall_score"
      ],
      "id": "b1917131"
    },
    {
      "cell_type": "markdown",
      "metadata": {
        "id": "9262bec0"
      },
      "source": [
        "### Data Preparation"
      ],
      "id": "9262bec0"
    },
    {
      "cell_type": "code",
      "execution_count": null,
      "metadata": {
        "colab": {
          "base_uri": "https://localhost:8080/"
        },
        "id": "-8c1WiDo7bZi",
        "outputId": "d3ad6be9-bbf0-4241-fe4f-02fdac406592"
      },
      "outputs": [
        {
          "output_type": "stream",
          "name": "stdout",
          "text": [
            "Drive already mounted at /content/drive; to attempt to forcibly remount, call drive.mount(\"/content/drive\", force_remount=True).\n"
          ]
        }
      ],
      "source": [
        "from google.colab import drive\n",
        "drive.mount('/content/drive')"
      ],
      "id": "-8c1WiDo7bZi"
    },
    {
      "cell_type": "code",
      "execution_count": null,
      "metadata": {
        "id": "468b7206"
      },
      "outputs": [],
      "source": [
        "df = pd.read_csv('/content/drive/MyDrive/dataset/cleaned_data.csv')\n",
        "df['Attrition'] = [0 if x == 'No' else 1 for x in df['Attrition'].values]\n",
        "\n",
        "categorical_variable = []\n",
        "\n",
        "for x in df.columns:\n",
        "    if df[x].dtype == 'O':\n",
        "        categorical_variable.append(x)\n",
        "        \n",
        "df[categorical_variable] = df[categorical_variable].astype('category')\n",
        "\n",
        "independent_var = df.drop('Attrition', axis = 'columns').columns.tolist()\n",
        "target_var = ['Attrition']\n",
        "\n",
        "X = df[independent_var]\n",
        "y = df['Attrition']\n",
        "\n",
        "X_train, X_test, y_train, y_test = train_test_split(\n",
        "    X, y, test_size=0.3, random_state=42)\n",
        "\n",
        "#!pip install imblearn\n",
        "\n",
        "from imblearn.over_sampling import RandomOverSampler\n",
        "X_train_sampled, y_train_sampled = RandomOverSampler(random_state = 42).fit_resample(X_train, y_train)"
      ],
      "id": "468b7206"
    },
    {
      "cell_type": "markdown",
      "metadata": {
        "id": "OypBL71UPDUW"
      },
      "source": [
        "### **RandomizedSearch**"
      ],
      "id": "OypBL71UPDUW"
    },
    {
      "cell_type": "code",
      "execution_count": null,
      "metadata": {
        "colab": {
          "base_uri": "https://localhost:8080/"
        },
        "id": "ZacnTY0nPXyX",
        "outputId": "1b461869-c6e2-4596-caec-73b9ea5c66ab"
      },
      "outputs": [
        {
          "data": {
            "text/plain": [
              "{'num_leaves': 150, 'min_data_in_leaf': 3, 'max_depth': 12, 'boosting': 'dart'}"
            ]
          },
          "execution_count": 88,
          "metadata": {},
          "output_type": "execute_result"
        }
      ],
      "source": [
        "from sklearn.model_selection import RandomizedSearchCV\n",
        "\n",
        "lgb_model = LGBMClassifier()\n",
        "parameters = {\n",
        "    'num_leaves':[10,20,40,60,80,100,120,150,170,200],\n",
        "    'max_depth':[3,4,5,6,7,8,9,10,11,12],\n",
        "    'min_data_in_leaf':[1,2,3,5,10,15,20,25,30],\n",
        "    'boosting':['gbdt', 'dart']\n",
        "}\n",
        "\n",
        "lgb_search = RandomizedSearchCV(estimator = lgb_model, param_distributions = parameters, cv = 5, n_jobs = -1,\n",
        "                              scoring = 'recall', n_iter = 100)\n",
        "\n",
        "lgb_search.fit(X_train_sampled, y_train_sampled)\n",
        "lgb_search.best_params_"
      ],
      "id": "ZacnTY0nPXyX"
    },
    {
      "cell_type": "code",
      "execution_count": null,
      "metadata": {
        "id": "5d0ea024"
      },
      "outputs": [],
      "source": [
        "search_model = LGBMClassifier(num_leaves= 80, min_data_in_leaf = 1, max_depth= 11, boosting= 'gbdt')"
      ],
      "id": "5d0ea024"
    },
    {
      "cell_type": "code",
      "execution_count": null,
      "metadata": {
        "colab": {
          "base_uri": "https://localhost:8080/",
          "height": 74
        },
        "id": "44d448f3",
        "outputId": "4dc3d4d2-16d5-4e3c-f9df-9e8cabfb6348"
      },
      "outputs": [
        {
          "data": {
            "text/html": [
              "<style>#sk-container-id-2 {color: black;background-color: white;}#sk-container-id-2 pre{padding: 0;}#sk-container-id-2 div.sk-toggleable {background-color: white;}#sk-container-id-2 label.sk-toggleable__label {cursor: pointer;display: block;width: 100%;margin-bottom: 0;padding: 0.3em;box-sizing: border-box;text-align: center;}#sk-container-id-2 label.sk-toggleable__label-arrow:before {content: \"▸\";float: left;margin-right: 0.25em;color: #696969;}#sk-container-id-2 label.sk-toggleable__label-arrow:hover:before {color: black;}#sk-container-id-2 div.sk-estimator:hover label.sk-toggleable__label-arrow:before {color: black;}#sk-container-id-2 div.sk-toggleable__content {max-height: 0;max-width: 0;overflow: hidden;text-align: left;background-color: #f0f8ff;}#sk-container-id-2 div.sk-toggleable__content pre {margin: 0.2em;color: black;border-radius: 0.25em;background-color: #f0f8ff;}#sk-container-id-2 input.sk-toggleable__control:checked~div.sk-toggleable__content {max-height: 200px;max-width: 100%;overflow: auto;}#sk-container-id-2 input.sk-toggleable__control:checked~label.sk-toggleable__label-arrow:before {content: \"▾\";}#sk-container-id-2 div.sk-estimator input.sk-toggleable__control:checked~label.sk-toggleable__label {background-color: #d4ebff;}#sk-container-id-2 div.sk-label input.sk-toggleable__control:checked~label.sk-toggleable__label {background-color: #d4ebff;}#sk-container-id-2 input.sk-hidden--visually {border: 0;clip: rect(1px 1px 1px 1px);clip: rect(1px, 1px, 1px, 1px);height: 1px;margin: -1px;overflow: hidden;padding: 0;position: absolute;width: 1px;}#sk-container-id-2 div.sk-estimator {font-family: monospace;background-color: #f0f8ff;border: 1px dotted black;border-radius: 0.25em;box-sizing: border-box;margin-bottom: 0.5em;}#sk-container-id-2 div.sk-estimator:hover {background-color: #d4ebff;}#sk-container-id-2 div.sk-parallel-item::after {content: \"\";width: 100%;border-bottom: 1px solid gray;flex-grow: 1;}#sk-container-id-2 div.sk-label:hover label.sk-toggleable__label {background-color: #d4ebff;}#sk-container-id-2 div.sk-serial::before {content: \"\";position: absolute;border-left: 1px solid gray;box-sizing: border-box;top: 0;bottom: 0;left: 50%;z-index: 0;}#sk-container-id-2 div.sk-serial {display: flex;flex-direction: column;align-items: center;background-color: white;padding-right: 0.2em;padding-left: 0.2em;position: relative;}#sk-container-id-2 div.sk-item {position: relative;z-index: 1;}#sk-container-id-2 div.sk-parallel {display: flex;align-items: stretch;justify-content: center;background-color: white;position: relative;}#sk-container-id-2 div.sk-item::before, #sk-container-id-2 div.sk-parallel-item::before {content: \"\";position: absolute;border-left: 1px solid gray;box-sizing: border-box;top: 0;bottom: 0;left: 50%;z-index: -1;}#sk-container-id-2 div.sk-parallel-item {display: flex;flex-direction: column;z-index: 1;position: relative;background-color: white;}#sk-container-id-2 div.sk-parallel-item:first-child::after {align-self: flex-end;width: 50%;}#sk-container-id-2 div.sk-parallel-item:last-child::after {align-self: flex-start;width: 50%;}#sk-container-id-2 div.sk-parallel-item:only-child::after {width: 0;}#sk-container-id-2 div.sk-dashed-wrapped {border: 1px dashed gray;margin: 0 0.4em 0.5em 0.4em;box-sizing: border-box;padding-bottom: 0.4em;background-color: white;}#sk-container-id-2 div.sk-label label {font-family: monospace;font-weight: bold;display: inline-block;line-height: 1.2em;}#sk-container-id-2 div.sk-label-container {text-align: center;}#sk-container-id-2 div.sk-container {/* jupyter's `normalize.less` sets `[hidden] { display: none; }` but bootstrap.min.css set `[hidden] { display: none !important; }` so we also need the `!important` here to be able to override the default hidden behavior on the sphinx rendered scikit-learn.org. See: https://github.com/scikit-learn/scikit-learn/issues/21755 */display: inline-block !important;position: relative;}#sk-container-id-2 div.sk-text-repr-fallback {display: none;}</style><div id=\"sk-container-id-2\" class=\"sk-top-container\"><div class=\"sk-text-repr-fallback\"><pre>LGBMClassifier(boosting=&#x27;gbdt&#x27;, max_depth=11, min_data_in_leaf=1, num_leaves=80)</pre><b>In a Jupyter environment, please rerun this cell to show the HTML representation or trust the notebook. <br />On GitHub, the HTML representation is unable to render, please try loading this page with nbviewer.org.</b></div><div class=\"sk-container\" hidden><div class=\"sk-item\"><div class=\"sk-estimator sk-toggleable\"><input class=\"sk-toggleable__control sk-hidden--visually\" id=\"sk-estimator-id-2\" type=\"checkbox\" checked><label for=\"sk-estimator-id-2\" class=\"sk-toggleable__label sk-toggleable__label-arrow\">LGBMClassifier</label><div class=\"sk-toggleable__content\"><pre>LGBMClassifier(boosting=&#x27;gbdt&#x27;, max_depth=11, min_data_in_leaf=1, num_leaves=80)</pre></div></div></div></div></div>"
            ],
            "text/plain": [
              "LGBMClassifier(boosting='gbdt', max_depth=11, min_data_in_leaf=1, num_leaves=80)"
            ]
          },
          "execution_count": 90,
          "metadata": {},
          "output_type": "execute_result"
        }
      ],
      "source": [
        "search_model.fit(X_train_sampled, y_train_sampled)"
      ],
      "id": "44d448f3"
    },
    {
      "cell_type": "code",
      "execution_count": null,
      "metadata": {
        "colab": {
          "base_uri": "https://localhost:8080/"
        },
        "id": "MP-IBbVy4faW",
        "outputId": "141fbb6c-fcde-4649-aae3-c0c35c9c1b07"
      },
      "outputs": [
        {
          "name": "stdout",
          "output_type": "stream",
          "text": [
            "0.8470588235294118\n"
          ]
        }
      ],
      "source": [
        "search_pred = search_model.predict(X_test)\n",
        "search_recall = recall_score(y_test, search_pred)\n",
        "print(search_recall)"
      ],
      "id": "MP-IBbVy4faW"
    },
    {
      "cell_type": "markdown",
      "metadata": {
        "id": "DXKu6UP4k4vR"
      },
      "source": [
        "### **Default model**"
      ],
      "id": "DXKu6UP4k4vR"
    },
    {
      "cell_type": "code",
      "execution_count": null,
      "metadata": {
        "colab": {
          "base_uri": "https://localhost:8080/",
          "height": 74
        },
        "id": "eb88f64a",
        "outputId": "f1e7bfb6-7cef-42e1-bc27-b7264bae1ecb"
      },
      "outputs": [
        {
          "data": {
            "text/html": [
              "<style>#sk-container-id-1 {color: black;background-color: white;}#sk-container-id-1 pre{padding: 0;}#sk-container-id-1 div.sk-toggleable {background-color: white;}#sk-container-id-1 label.sk-toggleable__label {cursor: pointer;display: block;width: 100%;margin-bottom: 0;padding: 0.3em;box-sizing: border-box;text-align: center;}#sk-container-id-1 label.sk-toggleable__label-arrow:before {content: \"▸\";float: left;margin-right: 0.25em;color: #696969;}#sk-container-id-1 label.sk-toggleable__label-arrow:hover:before {color: black;}#sk-container-id-1 div.sk-estimator:hover label.sk-toggleable__label-arrow:before {color: black;}#sk-container-id-1 div.sk-toggleable__content {max-height: 0;max-width: 0;overflow: hidden;text-align: left;background-color: #f0f8ff;}#sk-container-id-1 div.sk-toggleable__content pre {margin: 0.2em;color: black;border-radius: 0.25em;background-color: #f0f8ff;}#sk-container-id-1 input.sk-toggleable__control:checked~div.sk-toggleable__content {max-height: 200px;max-width: 100%;overflow: auto;}#sk-container-id-1 input.sk-toggleable__control:checked~label.sk-toggleable__label-arrow:before {content: \"▾\";}#sk-container-id-1 div.sk-estimator input.sk-toggleable__control:checked~label.sk-toggleable__label {background-color: #d4ebff;}#sk-container-id-1 div.sk-label input.sk-toggleable__control:checked~label.sk-toggleable__label {background-color: #d4ebff;}#sk-container-id-1 input.sk-hidden--visually {border: 0;clip: rect(1px 1px 1px 1px);clip: rect(1px, 1px, 1px, 1px);height: 1px;margin: -1px;overflow: hidden;padding: 0;position: absolute;width: 1px;}#sk-container-id-1 div.sk-estimator {font-family: monospace;background-color: #f0f8ff;border: 1px dotted black;border-radius: 0.25em;box-sizing: border-box;margin-bottom: 0.5em;}#sk-container-id-1 div.sk-estimator:hover {background-color: #d4ebff;}#sk-container-id-1 div.sk-parallel-item::after {content: \"\";width: 100%;border-bottom: 1px solid gray;flex-grow: 1;}#sk-container-id-1 div.sk-label:hover label.sk-toggleable__label {background-color: #d4ebff;}#sk-container-id-1 div.sk-serial::before {content: \"\";position: absolute;border-left: 1px solid gray;box-sizing: border-box;top: 0;bottom: 0;left: 50%;z-index: 0;}#sk-container-id-1 div.sk-serial {display: flex;flex-direction: column;align-items: center;background-color: white;padding-right: 0.2em;padding-left: 0.2em;position: relative;}#sk-container-id-1 div.sk-item {position: relative;z-index: 1;}#sk-container-id-1 div.sk-parallel {display: flex;align-items: stretch;justify-content: center;background-color: white;position: relative;}#sk-container-id-1 div.sk-item::before, #sk-container-id-1 div.sk-parallel-item::before {content: \"\";position: absolute;border-left: 1px solid gray;box-sizing: border-box;top: 0;bottom: 0;left: 50%;z-index: -1;}#sk-container-id-1 div.sk-parallel-item {display: flex;flex-direction: column;z-index: 1;position: relative;background-color: white;}#sk-container-id-1 div.sk-parallel-item:first-child::after {align-self: flex-end;width: 50%;}#sk-container-id-1 div.sk-parallel-item:last-child::after {align-self: flex-start;width: 50%;}#sk-container-id-1 div.sk-parallel-item:only-child::after {width: 0;}#sk-container-id-1 div.sk-dashed-wrapped {border: 1px dashed gray;margin: 0 0.4em 0.5em 0.4em;box-sizing: border-box;padding-bottom: 0.4em;background-color: white;}#sk-container-id-1 div.sk-label label {font-family: monospace;font-weight: bold;display: inline-block;line-height: 1.2em;}#sk-container-id-1 div.sk-label-container {text-align: center;}#sk-container-id-1 div.sk-container {/* jupyter's `normalize.less` sets `[hidden] { display: none; }` but bootstrap.min.css set `[hidden] { display: none !important; }` so we also need the `!important` here to be able to override the default hidden behavior on the sphinx rendered scikit-learn.org. See: https://github.com/scikit-learn/scikit-learn/issues/21755 */display: inline-block !important;position: relative;}#sk-container-id-1 div.sk-text-repr-fallback {display: none;}</style><div id=\"sk-container-id-1\" class=\"sk-top-container\"><div class=\"sk-text-repr-fallback\"><pre>LGBMClassifier()</pre><b>In a Jupyter environment, please rerun this cell to show the HTML representation or trust the notebook. <br />On GitHub, the HTML representation is unable to render, please try loading this page with nbviewer.org.</b></div><div class=\"sk-container\" hidden><div class=\"sk-item\"><div class=\"sk-estimator sk-toggleable\"><input class=\"sk-toggleable__control sk-hidden--visually\" id=\"sk-estimator-id-1\" type=\"checkbox\" checked><label for=\"sk-estimator-id-1\" class=\"sk-toggleable__label sk-toggleable__label-arrow\">LGBMClassifier</label><div class=\"sk-toggleable__content\"><pre>LGBMClassifier()</pre></div></div></div></div></div>"
            ],
            "text/plain": [
              "LGBMClassifier()"
            ]
          },
          "execution_count": 86,
          "metadata": {},
          "output_type": "execute_result"
        }
      ],
      "source": [
        "default_model = LGBMClassifier()\n",
        "default_model.fit(X_train_sampled, y_train_sampled)"
      ],
      "id": "eb88f64a"
    },
    {
      "cell_type": "code",
      "execution_count": null,
      "metadata": {
        "colab": {
          "base_uri": "https://localhost:8080/"
        },
        "id": "GuOEOLxUlyy0",
        "outputId": "e3ed4ceb-19a5-4314-c645-d38c37e30f66"
      },
      "outputs": [
        {
          "name": "stdout",
          "output_type": "stream",
          "text": [
            "0.8588235294117647\n"
          ]
        }
      ],
      "source": [
        "def_pred = default_model.predict(X_test)\n",
        "def_recall = recall_score(y_test, def_pred)\n",
        "print(def_recall)"
      ],
      "id": "GuOEOLxUlyy0"
    },
    {
      "cell_type": "markdown",
      "metadata": {
        "id": "NrNISUMrrbqh"
      },
      "source": [
        "### **1. Bayesian Optimization**"
      ],
      "id": "NrNISUMrrbqh"
    },
    {
      "cell_type": "code",
      "execution_count": null,
      "metadata": {
        "colab": {
          "base_uri": "https://localhost:8080/"
        },
        "id": "VRHcjiqxgpKX",
        "outputId": "6a2e7838-7a79-4ce2-bf3c-ae6b95b2d459"
      },
      "outputs": [
        {
          "name": "stdout",
          "output_type": "stream",
          "text": [
            "Looking in indexes: https://pypi.org/simple, https://us-python.pkg.dev/colab-wheels/public/simple/\n",
            "Collecting bayesian-optimization\n",
            "  Downloading bayesian_optimization-1.4.2-py3-none-any.whl (17 kB)\n",
            "Requirement already satisfied: scikit-learn>=0.18.0 in /usr/local/lib/python3.8/dist-packages (from bayesian-optimization) (1.2.1)\n",
            "Requirement already satisfied: scipy>=1.0.0 in /usr/local/lib/python3.8/dist-packages (from bayesian-optimization) (1.10.1)\n",
            "Collecting colorama>=0.4.6\n",
            "  Downloading colorama-0.4.6-py2.py3-none-any.whl (25 kB)\n",
            "Requirement already satisfied: numpy>=1.9.0 in /usr/local/lib/python3.8/dist-packages (from bayesian-optimization) (1.22.4)\n",
            "Requirement already satisfied: threadpoolctl>=2.0.0 in /usr/local/lib/python3.8/dist-packages (from scikit-learn>=0.18.0->bayesian-optimization) (3.1.0)\n",
            "Requirement already satisfied: joblib>=1.1.1 in /usr/local/lib/python3.8/dist-packages (from scikit-learn>=0.18.0->bayesian-optimization) (1.2.0)\n",
            "Installing collected packages: colorama, bayesian-optimization\n",
            "Successfully installed bayesian-optimization-1.4.2 colorama-0.4.6\n"
          ]
        }
      ],
      "source": [
        "pip install bayesian-optimization"
      ],
      "id": "VRHcjiqxgpKX"
    },
    {
      "cell_type": "code",
      "execution_count": null,
      "metadata": {
        "id": "DRkU5MG-gxsD"
      },
      "outputs": [],
      "source": [
        "from bayes_opt import BayesianOptimization\n",
        "\n",
        "#Prepare train set and test set\n",
        "lgbmdata = lgbm.Dataset(data=X_train_sampled, label=y_train_sampled)\n",
        "\n",
        "def cvlgbm(num_leaves, max_depth, min_data_in_leaf,\n",
        "         learning_rate, bagging_freq):\n",
        "  clf = LGBMClassifier(objective='binary',\n",
        "                       num_leaves=round(num_leaves),\n",
        "                       max_depth=round(max_depth),\n",
        "                       min_data_in_leaf=round(min_data_in_leaf),\n",
        "                       learning_rate=learning_rate,\n",
        "                       bagging_freq = round(bagging_freq),\n",
        "                       metric='recall',\n",
        "                       eval_metric='recall',\n",
        "                       verbose=-1)\n",
        "  scores = cross_val_score(clf, X_train_sampled, y_train_sampled, cv=5, scoring='recall')\n",
        "  return np.mean(scores)"
      ],
      "id": "DRkU5MG-gxsD"
    },
    {
      "cell_type": "code",
      "execution_count": null,
      "metadata": {
        "id": "1y7PtuKjXIjJ"
      },
      "outputs": [],
      "source": [
        "optimizer = BayesianOptimization(cvlgbm,\n",
        "                                 {'num_leaves':(5,50),\n",
        "                                  'max_depth':(-1,10),\n",
        "                                  'min_data_in_leaf':(10,50),\n",
        "                                  'learning_rate':(0.01,0.5),\n",
        "                                  'bagging_freq':(0,10)},\n",
        "                                 random_state=100,\n",
        "                                 verbose=2)"
      ],
      "id": "1y7PtuKjXIjJ"
    },
    {
      "cell_type": "code",
      "execution_count": null,
      "metadata": {
        "colab": {
          "base_uri": "https://localhost:8080/"
        },
        "id": "PoxG5Gq-cEoE",
        "outputId": "a3795bc4-f3f0-409d-cca8-2930c34895d9"
      },
      "outputs": [
        {
          "name": "stdout",
          "output_type": "stream",
          "text": [
            "|   iter    |  target   | baggin... | learni... | max_depth | min_da... | num_le... |\n",
            "-------------------------------------------------------------------------------------\n",
            "| \u001b[0m1        \u001b[0m | \u001b[0m0.9048   \u001b[0m | \u001b[0m5.434    \u001b[0m | \u001b[0m0.1464   \u001b[0m | \u001b[0m3.67     \u001b[0m | \u001b[0m43.79    \u001b[0m | \u001b[0m5.212    \u001b[0m |\n",
            "| \u001b[95m2        \u001b[0m | \u001b[95m1.0      \u001b[0m | \u001b[95m1.216    \u001b[0m | \u001b[95m0.3387   \u001b[0m | \u001b[95m8.084    \u001b[0m | \u001b[95m15.47    \u001b[0m | \u001b[95m30.88    \u001b[0m |\n",
            "| \u001b[0m3        \u001b[0m | \u001b[0m0.9995   \u001b[0m | \u001b[0m0.6936   \u001b[0m | \u001b[0m0.2388   \u001b[0m | \u001b[0m7.821    \u001b[0m | \u001b[0m13.97    \u001b[0m | \u001b[0m30.35    \u001b[0m |\n",
            "| \u001b[0m4        \u001b[0m | \u001b[0m0.9995   \u001b[0m | \u001b[0m10.0     \u001b[0m | \u001b[0m0.5      \u001b[0m | \u001b[0m-1.0     \u001b[0m | \u001b[0m10.0     \u001b[0m | \u001b[0m50.0     \u001b[0m |\n",
            "| \u001b[0m5        \u001b[0m | \u001b[0m0.9098   \u001b[0m | \u001b[0m0.0      \u001b[0m | \u001b[0m0.01     \u001b[0m | \u001b[0m10.0     \u001b[0m | \u001b[0m50.0     \u001b[0m | \u001b[0m50.0     \u001b[0m |\n",
            "| \u001b[0m6        \u001b[0m | \u001b[0m0.9482   \u001b[0m | \u001b[0m0.0      \u001b[0m | \u001b[0m0.01     \u001b[0m | \u001b[0m10.0     \u001b[0m | \u001b[0m10.0     \u001b[0m | \u001b[0m50.0     \u001b[0m |\n",
            "| \u001b[0m7        \u001b[0m | \u001b[0m0.9995   \u001b[0m | \u001b[0m10.0     \u001b[0m | \u001b[0m0.5      \u001b[0m | \u001b[0m-1.0     \u001b[0m | \u001b[0m10.0     \u001b[0m | \u001b[0m31.84    \u001b[0m |\n",
            "=====================================================================================\n"
          ]
        }
      ],
      "source": [
        "optimizer.maximize(init_points=2, n_iter=5)"
      ],
      "id": "PoxG5Gq-cEoE"
    },
    {
      "cell_type": "code",
      "execution_count": null,
      "metadata": {
        "colab": {
          "base_uri": "https://localhost:8080/"
        },
        "id": "NKkXA762j90B",
        "outputId": "7e41cde9-cfbc-4658-d286-3c0b00662eff"
      },
      "outputs": [
        {
          "data": {
            "text/plain": [
              "{'bagging_freq': 1,\n",
              " 'learning_rate': 0.33866705151612153,\n",
              " 'max_depth': 8,\n",
              " 'min_data_in_leaf': 15,\n",
              " 'num_leaves': 30}"
            ]
          },
          "execution_count": 24,
          "metadata": {},
          "output_type": "execute_result"
        }
      ],
      "source": [
        "best_params = optimizer.max['params']\n",
        "best_params['min_data_in_leaf'] = int(np.floor(best_params['min_data_in_leaf']))\n",
        "best_params['bagging_freq'] = int(np.floor(best_params['bagging_freq']))\n",
        "best_params['num_leaves'] = int(np.floor(best_params['num_leaves']))\n",
        "best_params['max_depth'] = int(np.floor(best_params['max_depth']))\n",
        "best_params"
      ],
      "id": "NKkXA762j90B"
    },
    {
      "cell_type": "code",
      "execution_count": null,
      "metadata": {
        "id": "8tqVQfdgw4dh"
      },
      "outputs": [],
      "source": [
        "tuned_clf = LGBMClassifier(**best_params)"
      ],
      "id": "8tqVQfdgw4dh"
    },
    {
      "cell_type": "code",
      "execution_count": null,
      "metadata": {
        "id": "zIDUKZzq2Qn9"
      },
      "outputs": [],
      "source": [
        "tuned_clf.fit(X_train_sampled, y_train_sampled)\n",
        "pred = tuned_clf.predict(X_test)"
      ],
      "id": "zIDUKZzq2Qn9"
    },
    {
      "cell_type": "code",
      "execution_count": null,
      "metadata": {
        "colab": {
          "base_uri": "https://localhost:8080/"
        },
        "id": "FoD9yEOX3SE9",
        "outputId": "2f10a786-455a-454a-d305-281cb8792135"
      },
      "outputs": [
        {
          "name": "stdout",
          "output_type": "stream",
          "text": [
            "0.8764705882352941\n"
          ]
        }
      ],
      "source": [
        "recall = recall_score(y_test, pred)\n",
        "print(recall)"
      ],
      "id": "FoD9yEOX3SE9"
    },
    {
      "cell_type": "markdown",
      "metadata": {
        "id": "vtVsIzCuddp8"
      },
      "source": [
        "### **2. Hyperopt**"
      ],
      "id": "vtVsIzCuddp8"
    },
    {
      "cell_type": "code",
      "execution_count": null,
      "metadata": {
        "id": "MI1TIFLqdjsf"
      },
      "outputs": [],
      "source": [
        "from hyperopt import tpe, hp\n",
        "from hyperopt.fmin import fmin"
      ],
      "id": "MI1TIFLqdjsf"
    },
    {
      "cell_type": "code",
      "execution_count": null,
      "metadata": {
        "colab": {
          "base_uri": "https://localhost:8080/"
        },
        "id": "9YIt7avtjCb2",
        "outputId": "8cb82a3b-9d49-45f3-c33d-cec9bc9ae317"
      },
      "outputs": [
        {
          "name": "stdout",
          "output_type": "stream",
          "text": [
            " 90%|█████████ | 18/20 [00:23<00:01,  1.04it/s, best loss: -0.9995012468827931]"
          ]
        }
      ],
      "source": [
        "space = {'num_leaves':hp.quniform('num_leaves',5,50,1),\n",
        "        'max_depth':hp.quniform('max_depth',-1,10,1),\n",
        "        'min_data_in_leaf':hp.quniform('min_data_in_leaf',10,50,1),\n",
        "        'learning_rate':hp.uniform('learning_rate',0.01,0.5),\n",
        "        'bagging_freq':hp.quniform('bagging_freq',0,10,1)}\n",
        "\n",
        "def recall(target, pred):\n",
        "  return -recall_score(target, pred)\n",
        "\n",
        "def cvlgbm(params):\n",
        "  clf = LGBMClassifier(objective='binary',\n",
        "                       num_leaves=int(params['num_leaves']),\n",
        "                       max_depth=int(params['max_depth']),\n",
        "                       min_data_in_leaf=int(params['min_data_in_leaf']),\n",
        "                       learning_rate=params['learning_rate'],\n",
        "                       bagging_freq = int(params['bagging_freq']),\n",
        "                       metric='recall',\n",
        "                       eval_metric='recall',\n",
        "                       verbose=-1, random_state=100)\n",
        "  scores = cross_val_score(clf, X_train_sampled, y_train_sampled, cv=5, scoring='recall', error_score='raise')\n",
        "  return -np.mean(scores)\n",
        "\n",
        "best = fmin(fn=cvlgbm, space=space, algo=tpe.suggest, max_evals=20)"
      ],
      "id": "9YIt7avtjCb2"
    },
    {
      "cell_type": "code",
      "execution_count": null,
      "metadata": {
        "colab": {
          "base_uri": "https://localhost:8080/"
        },
        "id": "Ej2_AlxH0Zdd",
        "outputId": "9ee695a0-051c-474e-b884-535711b4882d"
      },
      "outputs": [
        {
          "name": "stdout",
          "output_type": "stream",
          "text": [
            "{'bagging_freq': 8.0, 'learning_rate': 0.16825692602252965, 'max_depth': 10.0, 'min_data_in_leaf': 23.0, 'num_leaves': 43.0}\n"
          ]
        }
      ],
      "source": [
        "print(best)"
      ],
      "id": "Ej2_AlxH0Zdd"
    },
    {
      "cell_type": "code",
      "execution_count": null,
      "metadata": {
        "colab": {
          "base_uri": "https://localhost:8080/"
        },
        "id": "fsjubnjh0uRy",
        "outputId": "996c5af9-4674-4775-8ce0-f0fa14627585"
      },
      "outputs": [
        {
          "name": "stdout",
          "output_type": "stream",
          "text": [
            "0.8647058823529412\n"
          ]
        }
      ],
      "source": [
        "hp_clf = LGBMClassifier(bagging_freq=8, learning_rate=0.16825692602252965, max_depth=10, min_data_in_leaf=23, num_leaves=43)\n",
        "\n",
        "hp_clf.fit(X_train_sampled, y_train_sampled)\n",
        "pred = hp_clf.predict(X_test)\n",
        "\n",
        "recall = recall_score(y_test, pred)\n",
        "print(recall)"
      ],
      "id": "fsjubnjh0uRy"
    },
    {
      "cell_type": "markdown",
      "metadata": {
        "id": "NR0hRrBr3CT7"
      },
      "source": [
        "### **3. Optuna**"
      ],
      "id": "NR0hRrBr3CT7"
    },
    {
      "cell_type": "code",
      "execution_count": null,
      "metadata": {
        "colab": {
          "base_uri": "https://localhost:8080/"
        },
        "id": "gwyZmsAl82kZ",
        "outputId": "f99f6a8c-040f-4962-9875-d5653b9cf528"
      },
      "outputs": [
        {
          "name": "stdout",
          "output_type": "stream",
          "text": [
            "Looking in indexes: https://pypi.org/simple, https://us-python.pkg.dev/colab-wheels/public/simple/\n",
            "Collecting optuna\n",
            "  Downloading optuna-3.1.0-py3-none-any.whl (365 kB)\n",
            "\u001b[2K     \u001b[90m━━━━━━━━━━━━━━━━━━━━━━━━━━━━━━━━━━━━━━\u001b[0m \u001b[32m365.3/365.3 KB\u001b[0m \u001b[31m13.8 MB/s\u001b[0m eta \u001b[36m0:00:00\u001b[0m\n",
            "\u001b[?25hRequirement already satisfied: tqdm in /usr/local/lib/python3.8/dist-packages (from optuna) (4.64.1)\n",
            "Requirement already satisfied: sqlalchemy>=1.3.0 in /usr/local/lib/python3.8/dist-packages (from optuna) (1.4.46)\n",
            "Collecting alembic>=1.5.0\n",
            "  Downloading alembic-1.10.1-py3-none-any.whl (212 kB)\n",
            "\u001b[2K     \u001b[90m━━━━━━━━━━━━━━━━━━━━━━━━━━━━━━━━━━━━━━\u001b[0m \u001b[32m212.2/212.2 KB\u001b[0m \u001b[31m21.7 MB/s\u001b[0m eta \u001b[36m0:00:00\u001b[0m\n",
            "\u001b[?25hCollecting colorlog\n",
            "  Downloading colorlog-6.7.0-py2.py3-none-any.whl (11 kB)\n",
            "Requirement already satisfied: numpy in /usr/local/lib/python3.8/dist-packages (from optuna) (1.22.4)\n",
            "Requirement already satisfied: packaging>=20.0 in /usr/local/lib/python3.8/dist-packages (from optuna) (23.0)\n",
            "Requirement already satisfied: PyYAML in /usr/local/lib/python3.8/dist-packages (from optuna) (6.0)\n",
            "Collecting cmaes>=0.9.1\n",
            "  Downloading cmaes-0.9.1-py3-none-any.whl (21 kB)\n",
            "Requirement already satisfied: typing-extensions>=4 in /usr/local/lib/python3.8/dist-packages (from alembic>=1.5.0->optuna) (4.5.0)\n",
            "Requirement already satisfied: importlib-resources in /usr/local/lib/python3.8/dist-packages (from alembic>=1.5.0->optuna) (5.12.0)\n",
            "Requirement already satisfied: importlib-metadata in /usr/local/lib/python3.8/dist-packages (from alembic>=1.5.0->optuna) (6.0.0)\n",
            "Collecting Mako\n",
            "  Downloading Mako-1.2.4-py3-none-any.whl (78 kB)\n",
            "\u001b[2K     \u001b[90m━━━━━━━━━━━━━━━━━━━━━━━━━━━━━━━━━━━━━━━━\u001b[0m \u001b[32m78.7/78.7 KB\u001b[0m \u001b[31m9.6 MB/s\u001b[0m eta \u001b[36m0:00:00\u001b[0m\n",
            "\u001b[?25hRequirement already satisfied: greenlet!=0.4.17 in /usr/local/lib/python3.8/dist-packages (from sqlalchemy>=1.3.0->optuna) (2.0.2)\n",
            "Requirement already satisfied: zipp>=0.5 in /usr/local/lib/python3.8/dist-packages (from importlib-metadata->alembic>=1.5.0->optuna) (3.15.0)\n",
            "Requirement already satisfied: MarkupSafe>=0.9.2 in /usr/local/lib/python3.8/dist-packages (from Mako->alembic>=1.5.0->optuna) (2.1.2)\n",
            "Installing collected packages: Mako, colorlog, cmaes, alembic, optuna\n",
            "Successfully installed Mako-1.2.4 alembic-1.10.1 cmaes-0.9.1 colorlog-6.7.0 optuna-3.1.0\n"
          ]
        }
      ],
      "source": [
        "pip install optuna"
      ],
      "id": "gwyZmsAl82kZ"
    },
    {
      "cell_type": "code",
      "execution_count": null,
      "metadata": {
        "id": "kzkwqP8F8SL8"
      },
      "outputs": [],
      "source": [
        "import optuna"
      ],
      "id": "kzkwqP8F8SL8"
    },
    {
      "cell_type": "code",
      "execution_count": null,
      "metadata": {
        "colab": {
          "base_uri": "https://localhost:8080/"
        },
        "id": "_6d0CCno8rLw",
        "outputId": "e46e19ce-6ca4-45e9-cb5c-f8929a6772c4"
      },
      "outputs": [
        {
          "name": "stderr",
          "output_type": "stream",
          "text": [
            "\u001b[32m[I 2023-03-07 14:02:54,750]\u001b[0m A new study created in memory with name: no-name-8215f339-693c-400b-b2b2-0e90a8765471\u001b[0m\n",
            "\u001b[32m[I 2023-03-07 14:02:55,173]\u001b[0m Trial 0 finished with value: 0.8411764705882353 and parameters: {'num_leaves': 10, 'max_depth': 6, 'min_data_in_leaf': 14, 'learning_rate': 0.44354235099780437, 'bagging_freq': 6}. Best is trial 0 with value: 0.8411764705882353.\u001b[0m\n",
            "\u001b[32m[I 2023-03-07 14:02:55,531]\u001b[0m Trial 1 finished with value: 0.6647058823529411 and parameters: {'num_leaves': 10, 'max_depth': 4, 'min_data_in_leaf': 14, 'learning_rate': 0.020754165694198523, 'bagging_freq': 9}. Best is trial 0 with value: 0.8411764705882353.\u001b[0m\n",
            "\u001b[32m[I 2023-03-07 14:02:55,670]\u001b[0m Trial 2 finished with value: 0.8058823529411765 and parameters: {'num_leaves': 9, 'max_depth': 4, 'min_data_in_leaf': 15, 'learning_rate': 0.3946133016745912, 'bagging_freq': 8}. Best is trial 0 with value: 0.8411764705882353.\u001b[0m\n",
            "\u001b[32m[I 2023-03-07 14:02:55,836]\u001b[0m Trial 3 finished with value: 0.7705882352941177 and parameters: {'num_leaves': 10, 'max_depth': 7, 'min_data_in_leaf': 26, 'learning_rate': 0.171679640517557, 'bagging_freq': 10}. Best is trial 0 with value: 0.8411764705882353.\u001b[0m\n",
            "\u001b[32m[I 2023-03-07 14:02:56,082]\u001b[0m Trial 4 finished with value: 0.8352941176470589 and parameters: {'num_leaves': 47, 'max_depth': 6, 'min_data_in_leaf': 36, 'learning_rate': 0.17370367301645917, 'bagging_freq': 4}. Best is trial 0 with value: 0.8411764705882353.\u001b[0m\n",
            "\u001b[32m[I 2023-03-07 14:02:56,197]\u001b[0m Trial 5 finished with value: 0.7352941176470589 and parameters: {'num_leaves': 5, 'max_depth': 4, 'min_data_in_leaf': 11, 'learning_rate': 0.18696869963125157, 'bagging_freq': 3}. Best is trial 0 with value: 0.8411764705882353.\u001b[0m\n",
            "\u001b[32m[I 2023-03-07 14:02:56,360]\u001b[0m Trial 6 finished with value: 0.6823529411764706 and parameters: {'num_leaves': 10, 'max_depth': 7, 'min_data_in_leaf': 43, 'learning_rate': 0.017823100664841864, 'bagging_freq': 7}. Best is trial 0 with value: 0.8411764705882353.\u001b[0m\n",
            "\u001b[32m[I 2023-03-07 14:02:56,464]\u001b[0m Trial 7 finished with value: 0.7058823529411765 and parameters: {'num_leaves': 46, 'max_depth': 2, 'min_data_in_leaf': 17, 'learning_rate': 0.17217304536326292, 'bagging_freq': 7}. Best is trial 0 with value: 0.8411764705882353.\u001b[0m\n",
            "\u001b[32m[I 2023-03-07 14:02:56,688]\u001b[0m Trial 8 finished with value: 0.8176470588235294 and parameters: {'num_leaves': 44, 'max_depth': 7, 'min_data_in_leaf': 50, 'learning_rate': 0.2755455669676692, 'bagging_freq': 7}. Best is trial 0 with value: 0.8411764705882353.\u001b[0m\n",
            "\u001b[32m[I 2023-03-07 14:02:56,998]\u001b[0m Trial 9 finished with value: 0.8647058823529412 and parameters: {'num_leaves': 47, 'max_depth': 0, 'min_data_in_leaf': 39, 'learning_rate': 0.2183113467518943, 'bagging_freq': 8}. Best is trial 9 with value: 0.8647058823529412.\u001b[0m\n",
            "\u001b[32m[I 2023-03-07 14:02:57,322]\u001b[0m Trial 10 finished with value: 0.8529411764705882 and parameters: {'num_leaves': 33, 'max_depth': -1, 'min_data_in_leaf': 33, 'learning_rate': 0.3313185495556227, 'bagging_freq': 0}. Best is trial 9 with value: 0.8647058823529412.\u001b[0m\n",
            "\u001b[32m[I 2023-03-07 14:02:57,609]\u001b[0m Trial 11 finished with value: 0.8588235294117647 and parameters: {'num_leaves': 33, 'max_depth': -1, 'min_data_in_leaf': 31, 'learning_rate': 0.328343266872499, 'bagging_freq': 1}. Best is trial 9 with value: 0.8647058823529412.\u001b[0m\n",
            "\u001b[32m[I 2023-03-07 14:02:57,901]\u001b[0m Trial 12 finished with value: 0.8823529411764706 and parameters: {'num_leaves': 31, 'max_depth': -1, 'min_data_in_leaf': 26, 'learning_rate': 0.4922187372632303, 'bagging_freq': 1}. Best is trial 12 with value: 0.8823529411764706.\u001b[0m\n",
            "\u001b[32m[I 2023-03-07 14:02:58,178]\u001b[0m Trial 13 finished with value: 0.8352941176470589 and parameters: {'num_leaves': 22, 'max_depth': 10, 'min_data_in_leaf': 23, 'learning_rate': 0.48999525385245424, 'bagging_freq': 2}. Best is trial 12 with value: 0.8823529411764706.\u001b[0m\n",
            "\u001b[32m[I 2023-03-07 14:02:58,298]\u001b[0m Trial 14 finished with value: 0.6823529411764706 and parameters: {'num_leaves': 38, 'max_depth': 1, 'min_data_in_leaf': 39, 'learning_rate': 0.4941367452488603, 'bagging_freq': 5}. Best is trial 12 with value: 0.8823529411764706.\u001b[0m\n",
            "\u001b[32m[I 2023-03-07 14:02:58,417]\u001b[0m Trial 15 finished with value: 0.6823529411764706 and parameters: {'num_leaves': 22, 'max_depth': 1, 'min_data_in_leaf': 24, 'learning_rate': 0.40269853694614616, 'bagging_freq': 4}. Best is trial 12 with value: 0.8823529411764706.\u001b[0m\n",
            "\u001b[32m[I 2023-03-07 14:02:58,753]\u001b[0m Trial 16 finished with value: 0.8411764705882353 and parameters: {'num_leaves': 40, 'max_depth': 0, 'min_data_in_leaf': 50, 'learning_rate': 0.24845520708283725, 'bagging_freq': 2}. Best is trial 12 with value: 0.8823529411764706.\u001b[0m\n",
            "\u001b[32m[I 2023-03-07 14:02:58,885]\u001b[0m Trial 17 finished with value: 0.7235294117647059 and parameters: {'num_leaves': 27, 'max_depth': 2, 'min_data_in_leaf': 42, 'learning_rate': 0.4115430524224676, 'bagging_freq': 0}. Best is trial 12 with value: 0.8823529411764706.\u001b[0m\n",
            "\u001b[32m[I 2023-03-07 14:02:59,139]\u001b[0m Trial 18 finished with value: 0.8470588235294118 and parameters: {'num_leaves': 19, 'max_depth': -1, 'min_data_in_leaf': 20, 'learning_rate': 0.34757176945803697, 'bagging_freq': 9}. Best is trial 12 with value: 0.8823529411764706.\u001b[0m\n",
            "\u001b[32m[I 2023-03-07 14:02:59,288]\u001b[0m Trial 19 finished with value: 0.7 and parameters: {'num_leaves': 50, 'max_depth': 2, 'min_data_in_leaf': 29, 'learning_rate': 0.2610457096117036, 'bagging_freq': 5}. Best is trial 12 with value: 0.8823529411764706.\u001b[0m\n",
            "\u001b[32m[I 2023-03-07 14:02:59,604]\u001b[0m Trial 20 finished with value: 0.8588235294117647 and parameters: {'num_leaves': 34, 'max_depth': 0, 'min_data_in_leaf': 36, 'learning_rate': 0.4582641400452489, 'bagging_freq': 10}. Best is trial 12 with value: 0.8823529411764706.\u001b[0m\n",
            "\u001b[32m[I 2023-03-07 14:02:59,885]\u001b[0m Trial 21 finished with value: 0.8294117647058824 and parameters: {'num_leaves': 29, 'max_depth': -1, 'min_data_in_leaf': 30, 'learning_rate': 0.36482759452154245, 'bagging_freq': 1}. Best is trial 12 with value: 0.8823529411764706.\u001b[0m\n",
            "\u001b[32m[I 2023-03-07 14:03:00,263]\u001b[0m Trial 22 finished with value: 0.8352941176470589 and parameters: {'num_leaves': 40, 'max_depth': 0, 'min_data_in_leaf': 30, 'learning_rate': 0.30651393991699594, 'bagging_freq': 1}. Best is trial 12 with value: 0.8823529411764706.\u001b[0m\n",
            "\u001b[32m[I 2023-03-07 14:03:00,386]\u001b[0m Trial 23 finished with value: 0.6882352941176471 and parameters: {'num_leaves': 33, 'max_depth': 1, 'min_data_in_leaf': 35, 'learning_rate': 0.4327227601956582, 'bagging_freq': 2}. Best is trial 12 with value: 0.8823529411764706.\u001b[0m\n",
            "\u001b[32m[I 2023-03-07 14:03:00,669]\u001b[0m Trial 24 finished with value: 0.8411764705882353 and parameters: {'num_leaves': 30, 'max_depth': -1, 'min_data_in_leaf': 43, 'learning_rate': 0.37301701529934006, 'bagging_freq': 3}. Best is trial 12 with value: 0.8823529411764706.\u001b[0m\n",
            "\u001b[32m[I 2023-03-07 14:03:00,829]\u001b[0m Trial 25 finished with value: 0.7823529411764706 and parameters: {'num_leaves': 25, 'max_depth': 3, 'min_data_in_leaf': 26, 'learning_rate': 0.3326916470246375, 'bagging_freq': 0}. Best is trial 12 with value: 0.8823529411764706.\u001b[0m\n",
            "\u001b[32m[I 2023-03-07 14:03:01,044]\u001b[0m Trial 26 finished with value: 0.8588235294117647 and parameters: {'num_leaves': 17, 'max_depth': 0, 'min_data_in_leaf': 33, 'learning_rate': 0.4207856451453156, 'bagging_freq': 4}. Best is trial 12 with value: 0.8823529411764706.\u001b[0m\n",
            "\u001b[32m[I 2023-03-07 14:03:01,305]\u001b[0m Trial 27 finished with value: 0.6823529411764706 and parameters: {'num_leaves': 38, 'max_depth': 1, 'min_data_in_leaf': 46, 'learning_rate': 0.47103099624837225, 'bagging_freq': 1}. Best is trial 12 with value: 0.8823529411764706.\u001b[0m\n",
            "\u001b[32m[I 2023-03-07 14:03:01,622]\u001b[0m Trial 28 finished with value: 0.8470588235294118 and parameters: {'num_leaves': 43, 'max_depth': -1, 'min_data_in_leaf': 39, 'learning_rate': 0.47364148671724615, 'bagging_freq': 6}. Best is trial 12 with value: 0.8823529411764706.\u001b[0m\n",
            "\u001b[32m[I 2023-03-07 14:03:01,914]\u001b[0m Trial 29 finished with value: 0.8588235294117647 and parameters: {'num_leaves': 36, 'max_depth': 10, 'min_data_in_leaf': 20, 'learning_rate': 0.4558689625764578, 'bagging_freq': 3}. Best is trial 12 with value: 0.8823529411764706.\u001b[0m\n",
            "\u001b[32m[I 2023-03-07 14:03:02,091]\u001b[0m Trial 30 finished with value: 0.8117647058823529 and parameters: {'num_leaves': 31, 'max_depth': 3, 'min_data_in_leaf': 28, 'learning_rate': 0.4384525982042656, 'bagging_freq': 6}. Best is trial 12 with value: 0.8823529411764706.\u001b[0m\n",
            "\u001b[32m[I 2023-03-07 14:03:05,334]\u001b[0m Trial 31 finished with value: 0.8235294117647058 and parameters: {'num_leaves': 34, 'max_depth': 0, 'min_data_in_leaf': 37, 'learning_rate': 0.45677868932333243, 'bagging_freq': 10}. Best is trial 12 with value: 0.8823529411764706.\u001b[0m\n",
            "\u001b[32m[I 2023-03-07 14:03:05,625]\u001b[0m Trial 32 finished with value: 0.8647058823529412 and parameters: {'num_leaves': 25, 'max_depth': 0, 'min_data_in_leaf': 32, 'learning_rate': 0.4980688811439876, 'bagging_freq': 9}. Best is trial 12 with value: 0.8823529411764706.\u001b[0m\n",
            "\u001b[32m[I 2023-03-07 14:03:05,892]\u001b[0m Trial 33 finished with value: 0.8411764705882353 and parameters: {'num_leaves': 25, 'max_depth': 0, 'min_data_in_leaf': 33, 'learning_rate': 0.48808669882754413, 'bagging_freq': 9}. Best is trial 12 with value: 0.8823529411764706.\u001b[0m\n",
            "\u001b[32m[I 2023-03-07 14:03:06,111]\u001b[0m Trial 34 finished with value: 0.8411764705882353 and parameters: {'num_leaves': 15, 'max_depth': -1, 'min_data_in_leaf': 33, 'learning_rate': 0.3920066996354879, 'bagging_freq': 8}. Best is trial 12 with value: 0.8823529411764706.\u001b[0m\n",
            "\u001b[32m[I 2023-03-07 14:03:06,240]\u001b[0m Trial 35 finished with value: 0.6823529411764706 and parameters: {'num_leaves': 27, 'max_depth': 1, 'min_data_in_leaf': 27, 'learning_rate': 0.4434132460745806, 'bagging_freq': 9}. Best is trial 12 with value: 0.8823529411764706.\u001b[0m\n",
            "\u001b[32m[I 2023-03-07 14:03:06,416]\u001b[0m Trial 36 finished with value: 0.8117647058823529 and parameters: {'num_leaves': 50, 'max_depth': 3, 'min_data_in_leaf': 31, 'learning_rate': 0.49758158171913486, 'bagging_freq': 8}. Best is trial 12 with value: 0.8823529411764706.\u001b[0m\n",
            "\u001b[32m[I 2023-03-07 14:03:06,639]\u001b[0m Trial 37 finished with value: 0.8470588235294118 and parameters: {'num_leaves': 22, 'max_depth': 5, 'min_data_in_leaf': 23, 'learning_rate': 0.2303716762927468, 'bagging_freq': 8}. Best is trial 12 with value: 0.8823529411764706.\u001b[0m\n",
            "\u001b[32m[I 2023-03-07 14:03:06,900]\u001b[0m Trial 38 finished with value: 0.8588235294117647 and parameters: {'num_leaves': 25, 'max_depth': 9, 'min_data_in_leaf': 40, 'learning_rate': 0.20266749077408847, 'bagging_freq': 9}. Best is trial 12 with value: 0.8823529411764706.\u001b[0m\n",
            "\u001b[32m[I 2023-03-07 14:03:07,052]\u001b[0m Trial 39 finished with value: 0.7352941176470589 and parameters: {'num_leaves': 43, 'max_depth': 2, 'min_data_in_leaf': 47, 'learning_rate': 0.2936798858989146, 'bagging_freq': 7}. Best is trial 12 with value: 0.8823529411764706.\u001b[0m\n",
            "\u001b[32m[I 2023-03-07 14:03:07,435]\u001b[0m Trial 40 finished with value: 0.8588235294117647 and parameters: {'num_leaves': 47, 'max_depth': 0, 'min_data_in_leaf': 20, 'learning_rate': 0.1066494524539694, 'bagging_freq': 5}. Best is trial 12 with value: 0.8823529411764706.\u001b[0m\n",
            "\u001b[32m[I 2023-03-07 14:03:07,738]\u001b[0m Trial 41 finished with value: 0.8588235294117647 and parameters: {'num_leaves': 36, 'max_depth': 0, 'min_data_in_leaf': 36, 'learning_rate': 0.46507884666767046, 'bagging_freq': 10}. Best is trial 12 with value: 0.8823529411764706.\u001b[0m\n",
            "\u001b[32m[I 2023-03-07 14:03:08,022]\u001b[0m Trial 42 finished with value: 0.8411764705882353 and parameters: {'num_leaves': 32, 'max_depth': -1, 'min_data_in_leaf': 35, 'learning_rate': 0.42152850014035914, 'bagging_freq': 10}. Best is trial 12 with value: 0.8823529411764706.\u001b[0m\n",
            "\u001b[32m[I 2023-03-07 14:03:08,151]\u001b[0m Trial 43 finished with value: 0.6764705882352942 and parameters: {'num_leaves': 29, 'max_depth': 1, 'min_data_in_leaf': 38, 'learning_rate': 0.3882886091335531, 'bagging_freq': 10}. Best is trial 12 with value: 0.8823529411764706.\u001b[0m\n",
            "\u001b[32m[I 2023-03-07 14:03:08,463]\u001b[0m Trial 44 finished with value: 0.8470588235294118 and parameters: {'num_leaves': 34, 'max_depth': 0, 'min_data_in_leaf': 41, 'learning_rate': 0.4996816208935319, 'bagging_freq': 9}. Best is trial 12 with value: 0.8823529411764706.\u001b[0m\n",
            "\u001b[32m[I 2023-03-07 14:03:08,659]\u001b[0m Trial 45 finished with value: 0.8411764705882353 and parameters: {'num_leaves': 13, 'max_depth': -1, 'min_data_in_leaf': 32, 'learning_rate': 0.44128796618276844, 'bagging_freq': 8}. Best is trial 12 with value: 0.8823529411764706.\u001b[0m\n",
            "\u001b[32m[I 2023-03-07 14:03:08,900]\u001b[0m Trial 46 finished with value: 0.8470588235294118 and parameters: {'num_leaves': 36, 'max_depth': 5, 'min_data_in_leaf': 11, 'learning_rate': 0.47127484900488587, 'bagging_freq': 2}. Best is trial 12 with value: 0.8823529411764706.\u001b[0m\n",
            "\u001b[32m[I 2023-03-07 14:03:09,054]\u001b[0m Trial 47 finished with value: 0.6882352941176471 and parameters: {'num_leaves': 20, 'max_depth': 1, 'min_data_in_leaf': 26, 'learning_rate': 0.41728895383280595, 'bagging_freq': 7}. Best is trial 12 with value: 0.8823529411764706.\u001b[0m\n",
            "\u001b[32m[I 2023-03-07 14:03:09,355]\u001b[0m Trial 48 finished with value: 0.8647058823529412 and parameters: {'num_leaves': 40, 'max_depth': 8, 'min_data_in_leaf': 35, 'learning_rate': 0.3967283070864206, 'bagging_freq': 1}. Best is trial 12 with value: 0.8823529411764706.\u001b[0m\n",
            "\u001b[32m[I 2023-03-07 14:03:09,697]\u001b[0m Trial 49 finished with value: 0.8411764705882353 and parameters: {'num_leaves': 44, 'max_depth': 8, 'min_data_in_leaf': 24, 'learning_rate': 0.3681919960729275, 'bagging_freq': 1}. Best is trial 12 with value: 0.8823529411764706.\u001b[0m\n"
          ]
        }
      ],
      "source": [
        "def objective(trial):\n",
        "  params = {'objective':'binary',\n",
        "            'boosting':'gbdt',\n",
        "            'metric':'recall',\n",
        "            'random_state':100,\n",
        "            'verbosity':-1,\n",
        "            'num_leaves':trial.suggest_int('num_leaves',5,50),\n",
        "            'max_depth':trial.suggest_int('max_depth',-1,10),\n",
        "            'min_data_in_leaf':trial.suggest_int('min_data_in_leaf',10,50),\n",
        "            'learning_rate':trial.suggest_float('learning_rate',0.01,0.5),\n",
        "            'bagging_freq':trial.suggest_int('bagging_freq',0,10)}\n",
        "\n",
        "  lgb = LGBMClassifier(**params)\n",
        "  lgb.fit(X_train_sampled, y_train_sampled)\n",
        "  pred = lgb.predict(X_test)\n",
        "  recall = recall_score(y_test, pred)\n",
        "  return recall\n",
        "\n",
        "study_tuner = optuna.create_study(direction='maximize')\n",
        "\n",
        "study_tuner.optimize(objective, n_trials=50)"
      ],
      "id": "_6d0CCno8rLw"
    },
    {
      "cell_type": "code",
      "execution_count": null,
      "metadata": {
        "colab": {
          "base_uri": "https://localhost:8080/"
        },
        "id": "4bjrMK1i87lN",
        "outputId": "27132ab8-cdc8-4c98-f6df-6cf5487e687f"
      },
      "outputs": [
        {
          "name": "stdout",
          "output_type": "stream",
          "text": [
            "{'num_leaves': 31, 'max_depth': -1, 'min_data_in_leaf': 26, 'learning_rate': 0.4922187372632303, 'bagging_freq': 1}\n"
          ]
        }
      ],
      "source": [
        "best = study_tuner.best_params\n",
        "print(best)"
      ],
      "id": "4bjrMK1i87lN"
    },
    {
      "cell_type": "code",
      "execution_count": null,
      "metadata": {
        "colab": {
          "base_uri": "https://localhost:8080/"
        },
        "id": "Z7FDnSzPYsQ8",
        "outputId": "577675af-3e6b-43cc-bfc5-a05c5b713766"
      },
      "outputs": [
        {
          "name": "stdout",
          "output_type": "stream",
          "text": [
            "0.8823529411764706\n"
          ]
        }
      ],
      "source": [
        "op_clf = LGBMClassifier(**best)\n",
        "\n",
        "op_clf.fit(X_train_sampled, y_train_sampled)\n",
        "pred = op_clf.predict(X_test)\n",
        "\n",
        "recall = recall_score(y_test, pred)\n",
        "print(recall)"
      ],
      "id": "Z7FDnSzPYsQ8"
    },
    {
      "cell_type": "markdown",
      "metadata": {
        "id": "yNFZ1LnjihH_"
      },
      "source": [
        "### **4. Ray Tune**"
      ],
      "id": "yNFZ1LnjihH_"
    },
    {
      "cell_type": "code",
      "execution_count": null,
      "metadata": {
        "colab": {
          "base_uri": "https://localhost:8080/"
        },
        "id": "ny8WE-C9jcSY",
        "outputId": "e9f0701b-bca1-4241-aada-f4eddc38001f"
      },
      "outputs": [
        {
          "output_type": "stream",
          "name": "stdout",
          "text": [
            "Looking in indexes: https://pypi.org/simple, https://us-python.pkg.dev/colab-wheels/public/simple/\n",
            "Requirement already satisfied: ray[tune] in /usr/local/lib/python3.8/dist-packages (2.3.0)\n",
            "Requirement already satisfied: pyyaml in /usr/local/lib/python3.8/dist-packages (from ray[tune]) (6.0)\n",
            "Requirement already satisfied: protobuf!=3.19.5,>=3.15.3 in /usr/local/lib/python3.8/dist-packages (from ray[tune]) (3.19.6)\n",
            "Requirement already satisfied: attrs in /usr/local/lib/python3.8/dist-packages (from ray[tune]) (22.2.0)\n",
            "Requirement already satisfied: msgpack<2.0.0,>=1.0.0 in /usr/local/lib/python3.8/dist-packages (from ray[tune]) (1.0.4)\n",
            "Requirement already satisfied: frozenlist in /usr/local/lib/python3.8/dist-packages (from ray[tune]) (1.3.3)\n",
            "Requirement already satisfied: requests in /usr/local/lib/python3.8/dist-packages (from ray[tune]) (2.25.1)\n",
            "Requirement already satisfied: click>=7.0 in /usr/local/lib/python3.8/dist-packages (from ray[tune]) (8.1.3)\n",
            "Requirement already satisfied: numpy>=1.16 in /usr/local/lib/python3.8/dist-packages (from ray[tune]) (1.22.4)\n",
            "Requirement already satisfied: aiosignal in /usr/local/lib/python3.8/dist-packages (from ray[tune]) (1.3.1)\n",
            "Requirement already satisfied: virtualenv>=20.0.24 in /usr/local/lib/python3.8/dist-packages (from ray[tune]) (20.20.0)\n",
            "Requirement already satisfied: jsonschema in /usr/local/lib/python3.8/dist-packages (from ray[tune]) (4.3.3)\n",
            "Requirement already satisfied: grpcio>=1.32.0 in /usr/local/lib/python3.8/dist-packages (from ray[tune]) (1.51.3)\n",
            "Requirement already satisfied: filelock in /usr/local/lib/python3.8/dist-packages (from ray[tune]) (3.9.0)\n",
            "Requirement already satisfied: tensorboardX>=1.9 in /usr/local/lib/python3.8/dist-packages (from ray[tune]) (2.6)\n",
            "Requirement already satisfied: tabulate in /usr/local/lib/python3.8/dist-packages (from ray[tune]) (0.8.10)\n",
            "Requirement already satisfied: pandas in /usr/local/lib/python3.8/dist-packages (from ray[tune]) (1.3.5)\n",
            "Requirement already satisfied: packaging in /usr/local/lib/python3.8/dist-packages (from tensorboardX>=1.9->ray[tune]) (23.0)\n",
            "Requirement already satisfied: distlib<1,>=0.3.6 in /usr/local/lib/python3.8/dist-packages (from virtualenv>=20.0.24->ray[tune]) (0.3.6)\n",
            "Requirement already satisfied: platformdirs<4,>=2.4 in /usr/local/lib/python3.8/dist-packages (from virtualenv>=20.0.24->ray[tune]) (3.0.0)\n",
            "Requirement already satisfied: pyrsistent!=0.17.0,!=0.17.1,!=0.17.2,>=0.14.0 in /usr/local/lib/python3.8/dist-packages (from jsonschema->ray[tune]) (0.19.3)\n",
            "Requirement already satisfied: importlib-resources>=1.4.0 in /usr/local/lib/python3.8/dist-packages (from jsonschema->ray[tune]) (5.12.0)\n",
            "Requirement already satisfied: python-dateutil>=2.7.3 in /usr/local/lib/python3.8/dist-packages (from pandas->ray[tune]) (2.8.2)\n",
            "Requirement already satisfied: pytz>=2017.3 in /usr/local/lib/python3.8/dist-packages (from pandas->ray[tune]) (2022.7.1)\n",
            "Requirement already satisfied: chardet<5,>=3.0.2 in /usr/local/lib/python3.8/dist-packages (from requests->ray[tune]) (4.0.0)\n",
            "Requirement already satisfied: urllib3<1.27,>=1.21.1 in /usr/local/lib/python3.8/dist-packages (from requests->ray[tune]) (1.26.14)\n",
            "Requirement already satisfied: idna<3,>=2.5 in /usr/local/lib/python3.8/dist-packages (from requests->ray[tune]) (2.10)\n",
            "Requirement already satisfied: certifi>=2017.4.17 in /usr/local/lib/python3.8/dist-packages (from requests->ray[tune]) (2022.12.7)\n",
            "Requirement already satisfied: zipp>=3.1.0 in /usr/local/lib/python3.8/dist-packages (from importlib-resources>=1.4.0->jsonschema->ray[tune]) (3.15.0)\n",
            "Requirement already satisfied: six>=1.5 in /usr/local/lib/python3.8/dist-packages (from python-dateutil>=2.7.3->pandas->ray[tune]) (1.15.0)\n"
          ]
        }
      ],
      "source": [
        "pip install ray[tune]"
      ],
      "id": "ny8WE-C9jcSY"
    },
    {
      "cell_type": "code",
      "execution_count": null,
      "metadata": {
        "id": "_ayZwdNFbtYg"
      },
      "outputs": [],
      "source": [
        "from ray import air, tune\n",
        "from ray.air import session\n",
        "from ray.tune.schedulers import ASHAScheduler\n",
        "from ray.tune.integration.lightgbm import TuneReportCheckpointCallback"
      ],
      "id": "_ayZwdNFbtYg"
    },
    {
      "cell_type": "code",
      "execution_count": null,
      "metadata": {
        "id": "-eh2bQqCjlVA"
      },
      "outputs": [],
      "source": [
        "def train_attrition(config):\n",
        "  X_train, X_val, y_train, y_val = train_test_split(\n",
        "    X_train_sampled, y_train_sampled, test_size=0.3, random_state=42)\n",
        "  train_set = lgbm.Dataset(X_train, label=y_train)\n",
        "  test_set = lgbm.Dataset(X_val, label=y_val)\n",
        "  gbm = lgbm.train(config, train_set,\n",
        "                   valid_sets=[test_set],\n",
        "                   valid_names=['eval'],\n",
        "                   verbose_eval=False,\n",
        "                   callbacks=[TuneReportCheckpointCallback(\n",
        "                       {'binary_error':'eval-binary_error',\n",
        "                        'binary_logloss':'eval-binary_logloss'})]\n",
        "                   ),\n",
        "  pred = gbm.predict(test_set)\n",
        "  pred_labels = np.rint(pred)\n",
        "  session.report({'recall':recall_score(y_test, pred_labels),\n",
        "                  'done':True})\n",
        "  \n",
        "config = {'objective':'binary',\n",
        "            'boosting':'gbdt',\n",
        "            'metric':['binary_error','binary_logloss'],\n",
        "            'random_state':100,\n",
        "            'verbosity':-1,\n",
        "            'num_leaves':tune.randint(5,50),\n",
        "            'max_depth':tune.randint(-1,10),\n",
        "            'min_data_in_leaf':tune.randint(10,50),\n",
        "            'learning_rate':tune.loguniform(0.01,0.5),\n",
        "            'bagging_freq':tune.randint(0,10)}\n",
        "\n",
        "tuner = tune.Tuner(train_attrition,\n",
        "                   tune_config=tune.TuneConfig(\n",
        "                       metric='binary_error',\n",
        "                       mode='min',\n",
        "                       scheduler=ASHAScheduler(),\n",
        "                       num_samples=10),\n",
        "                   param_space=config\n",
        "                   )"
      ],
      "id": "-eh2bQqCjlVA"
    },
    {
      "cell_type": "code",
      "execution_count": null,
      "metadata": {
        "colab": {
          "base_uri": "https://localhost:8080/",
          "height": 824
        },
        "id": "EtJQeo_o2FzI",
        "outputId": "eccbd994-b245-45db-f7c7-3a0ea06efaaf"
      },
      "outputs": [
        {
          "output_type": "stream",
          "name": "stderr",
          "text": [
            "2023-03-08 10:22:10,123\tINFO worker.py:1553 -- Started a local Ray instance.\n"
          ]
        },
        {
          "output_type": "display_data",
          "data": {
            "text/plain": [
              "<IPython.core.display.HTML object>"
            ],
            "text/html": [
              "<div class=\"tuneStatus\">\n",
              "  <div style=\"display: flex;flex-direction: row\">\n",
              "    <div style=\"display: flex;flex-direction: column;\">\n",
              "      <h3>Tune Status</h3>\n",
              "      <table>\n",
              "<tbody>\n",
              "<tr><td>Current time:</td><td>2023-03-08 10:22:41</td></tr>\n",
              "<tr><td>Running for: </td><td>00:00:22.34        </td></tr>\n",
              "<tr><td>Memory:      </td><td>1.7/12.7 GiB       </td></tr>\n",
              "</tbody>\n",
              "</table>\n",
              "    </div>\n",
              "    <div class=\"vDivider\"></div>\n",
              "    <div class=\"systemInfo\">\n",
              "      <h3>System Info</h3>\n",
              "      Using AsyncHyperBand: num_stopped=10<br>Bracket: Iter 64.000: -0.10746887966804979 | Iter 16.000: -0.15311203319502076 | Iter 4.000: -0.18506224066390042 | Iter 1.000: -0.21369294605809128<br>Resources requested: 0/2 CPUs, 0/0 GPUs, 0.0/7.36 GiB heap, 0.0/3.68 GiB objects\n",
              "    </div>\n",
              "    \n",
              "  </div>\n",
              "  <div class=\"hDivider\"></div>\n",
              "  <div class=\"trialStatus\">\n",
              "    <h3>Trial Status</h3>\n",
              "    <table>\n",
              "<thead>\n",
              "<tr><th>Trial name                 </th><th>status    </th><th>loc              </th><th style=\"text-align: right;\">  bagging_freq</th><th style=\"text-align: right;\">  learning_rate</th><th style=\"text-align: right;\">  max_depth</th><th style=\"text-align: right;\">  min_data_in_leaf</th><th style=\"text-align: right;\">  num_leaves</th><th style=\"text-align: right;\">  iter</th><th style=\"text-align: right;\">  total time (s)</th><th style=\"text-align: right;\">  binary_error</th><th style=\"text-align: right;\">  binary_logloss</th></tr>\n",
              "</thead>\n",
              "<tbody>\n",
              "<tr><td>train_attrition_18094_00000</td><td>TERMINATED</td><td>172.28.0.12:31270</td><td style=\"text-align: right;\">             8</td><td style=\"text-align: right;\">      0.0273048</td><td style=\"text-align: right;\">          6</td><td style=\"text-align: right;\">                15</td><td style=\"text-align: right;\">           6</td><td style=\"text-align: right;\">   100</td><td style=\"text-align: right;\">      14.1078   </td><td style=\"text-align: right;\">      0.2     </td><td style=\"text-align: right;\">        0.49091 </td></tr>\n",
              "<tr><td>train_attrition_18094_00001</td><td>TERMINATED</td><td>172.28.0.12:31340</td><td style=\"text-align: right;\">             8</td><td style=\"text-align: right;\">      0.0302323</td><td style=\"text-align: right;\">          0</td><td style=\"text-align: right;\">                20</td><td style=\"text-align: right;\">          41</td><td style=\"text-align: right;\">   100</td><td style=\"text-align: right;\">       1.90472  </td><td style=\"text-align: right;\">      0.039834</td><td style=\"text-align: right;\">        0.205112</td></tr>\n",
              "<tr><td>train_attrition_18094_00002</td><td>TERMINATED</td><td>172.28.0.12:31270</td><td style=\"text-align: right;\">             4</td><td style=\"text-align: right;\">      0.167504 </td><td style=\"text-align: right;\">          6</td><td style=\"text-align: right;\">                23</td><td style=\"text-align: right;\">          43</td><td style=\"text-align: right;\">     1</td><td style=\"text-align: right;\">       0.0577185</td><td style=\"text-align: right;\">      0.221577</td><td style=\"text-align: right;\">        0.634087</td></tr>\n",
              "<tr><td>train_attrition_18094_00003</td><td>TERMINATED</td><td>172.28.0.12:31270</td><td style=\"text-align: right;\">             3</td><td style=\"text-align: right;\">      0.389997 </td><td style=\"text-align: right;\">          7</td><td style=\"text-align: right;\">                22</td><td style=\"text-align: right;\">          48</td><td style=\"text-align: right;\">     1</td><td style=\"text-align: right;\">       0.0784388</td><td style=\"text-align: right;\">      0.208299</td><td style=\"text-align: right;\">        0.557248</td></tr>\n",
              "<tr><td>train_attrition_18094_00004</td><td>TERMINATED</td><td>172.28.0.12:31270</td><td style=\"text-align: right;\">             8</td><td style=\"text-align: right;\">      0.0697215</td><td style=\"text-align: right;\">          7</td><td style=\"text-align: right;\">                23</td><td style=\"text-align: right;\">          44</td><td style=\"text-align: right;\">     1</td><td style=\"text-align: right;\">       0.0672958</td><td style=\"text-align: right;\">      0.212448</td><td style=\"text-align: right;\">        0.664281</td></tr>\n",
              "<tr><td>train_attrition_18094_00005</td><td>TERMINATED</td><td>172.28.0.12:31270</td><td style=\"text-align: right;\">             5</td><td style=\"text-align: right;\">      0.0370093</td><td style=\"text-align: right;\">          2</td><td style=\"text-align: right;\">                49</td><td style=\"text-align: right;\">           9</td><td style=\"text-align: right;\">     1</td><td style=\"text-align: right;\">       0.0710759</td><td style=\"text-align: right;\">      0.304564</td><td style=\"text-align: right;\">        0.686552</td></tr>\n",
              "<tr><td>train_attrition_18094_00006</td><td>TERMINATED</td><td>172.28.0.12:31270</td><td style=\"text-align: right;\">             5</td><td style=\"text-align: right;\">      0.468551 </td><td style=\"text-align: right;\">          9</td><td style=\"text-align: right;\">                39</td><td style=\"text-align: right;\">          30</td><td style=\"text-align: right;\">     1</td><td style=\"text-align: right;\">       0.048347 </td><td style=\"text-align: right;\">      0.217427</td><td style=\"text-align: right;\">        0.550696</td></tr>\n",
              "<tr><td>train_attrition_18094_00007</td><td>TERMINATED</td><td>172.28.0.12:31270</td><td style=\"text-align: right;\">             7</td><td style=\"text-align: right;\">      0.0266605</td><td style=\"text-align: right;\">         -1</td><td style=\"text-align: right;\">                38</td><td style=\"text-align: right;\">          33</td><td style=\"text-align: right;\">     1</td><td style=\"text-align: right;\">       0.0638478</td><td style=\"text-align: right;\">      0.231535</td><td style=\"text-align: right;\">        0.682256</td></tr>\n",
              "<tr><td>train_attrition_18094_00008</td><td>TERMINATED</td><td>172.28.0.12:31270</td><td style=\"text-align: right;\">             3</td><td style=\"text-align: right;\">      0.0330174</td><td style=\"text-align: right;\">          2</td><td style=\"text-align: right;\">                15</td><td style=\"text-align: right;\">          40</td><td style=\"text-align: right;\">     1</td><td style=\"text-align: right;\">       0.0581408</td><td style=\"text-align: right;\">      0.304564</td><td style=\"text-align: right;\">        0.687283</td></tr>\n",
              "<tr><td>train_attrition_18094_00009</td><td>TERMINATED</td><td>172.28.0.12:31340</td><td style=\"text-align: right;\">             3</td><td style=\"text-align: right;\">      0.0100409</td><td style=\"text-align: right;\">          9</td><td style=\"text-align: right;\">                38</td><td style=\"text-align: right;\">          10</td><td style=\"text-align: right;\">     1</td><td style=\"text-align: right;\">       0.0667381</td><td style=\"text-align: right;\">      0.512033</td><td style=\"text-align: right;\">        0.690695</td></tr>\n",
              "</tbody>\n",
              "</table>\n",
              "  </div>\n",
              "</div>\n",
              "<style>\n",
              ".tuneStatus {\n",
              "  color: var(--jp-ui-font-color1);\n",
              "}\n",
              ".tuneStatus .systemInfo {\n",
              "  display: flex;\n",
              "  flex-direction: column;\n",
              "}\n",
              ".tuneStatus td {\n",
              "  white-space: nowrap;\n",
              "}\n",
              ".tuneStatus .trialStatus {\n",
              "  display: flex;\n",
              "  flex-direction: column;\n",
              "}\n",
              ".tuneStatus h3 {\n",
              "  font-weight: bold;\n",
              "}\n",
              ".tuneStatus .hDivider {\n",
              "  border-bottom-width: var(--jp-border-width);\n",
              "  border-bottom-color: var(--jp-border-color0);\n",
              "  border-bottom-style: solid;\n",
              "}\n",
              ".tuneStatus .vDivider {\n",
              "  border-left-width: var(--jp-border-width);\n",
              "  border-left-color: var(--jp-border-color0);\n",
              "  border-left-style: solid;\n",
              "  margin: 0.5em 1em 0.5em 1em;\n",
              "}\n",
              "</style>\n"
            ]
          },
          "metadata": {}
        },
        {
          "output_type": "stream",
          "name": "stderr",
          "text": [
            "\u001b[2m\u001b[36m(train_attrition pid=31270)\u001b[0m /usr/local/lib/python3.8/dist-packages/lightgbm/basic.py:762: UserWarning: categorical_feature in param dict is overridden.\n",
            "\u001b[2m\u001b[36m(train_attrition pid=31270)\u001b[0m   warnings.warn('categorical_feature in param dict is overridden.')\n"
          ]
        },
        {
          "output_type": "display_data",
          "data": {
            "text/plain": [
              "<IPython.core.display.HTML object>"
            ],
            "text/html": [
              "<div class=\"trialProgress\">\n",
              "  <h3>Trial Progress</h3>\n",
              "  <table>\n",
              "<thead>\n",
              "<tr><th>Trial name                 </th><th style=\"text-align: right;\">  binary_error</th><th style=\"text-align: right;\">  binary_logloss</th><th>date               </th><th>done  </th><th>episodes_total  </th><th>experiment_id                   </th><th>hostname    </th><th style=\"text-align: right;\">  iterations_since_restore</th><th>node_ip    </th><th style=\"text-align: right;\">  pid</th><th style=\"text-align: right;\">  time_since_restore</th><th style=\"text-align: right;\">  time_this_iter_s</th><th style=\"text-align: right;\">  time_total_s</th><th style=\"text-align: right;\">  timestamp</th><th style=\"text-align: right;\">  timesteps_since_restore</th><th>timesteps_total  </th><th style=\"text-align: right;\">  training_iteration</th><th style=\"text-align: right;\">   trial_id</th><th style=\"text-align: right;\">  warmup_time</th></tr>\n",
              "</thead>\n",
              "<tbody>\n",
              "<tr><td>train_attrition_18094_00000</td><td style=\"text-align: right;\">      0.2     </td><td style=\"text-align: right;\">        0.49091 </td><td>2023-03-08_10-22-40</td><td>True  </td><td>                </td><td>82abb0aa3b3e4cd595a571f6b7e0fff3</td><td>256b117648ba</td><td style=\"text-align: right;\">                       100</td><td>172.28.0.12</td><td style=\"text-align: right;\">31270</td><td style=\"text-align: right;\">          14.1078   </td><td style=\"text-align: right;\">        0.00548291</td><td style=\"text-align: right;\">    14.1078   </td><td style=\"text-align: right;\"> 1678270960</td><td style=\"text-align: right;\">                        0</td><td>                 </td><td style=\"text-align: right;\">                 100</td><td style=\"text-align: right;\">18094_00000</td><td style=\"text-align: right;\">   0.00805187</td></tr>\n",
              "<tr><td>train_attrition_18094_00001</td><td style=\"text-align: right;\">      0.039834</td><td style=\"text-align: right;\">        0.205112</td><td>2023-03-08_10-22-40</td><td>True  </td><td>                </td><td>f26159d23cd14fafb2f07da86d2ec749</td><td>256b117648ba</td><td style=\"text-align: right;\">                       100</td><td>172.28.0.12</td><td style=\"text-align: right;\">31340</td><td style=\"text-align: right;\">           1.90472  </td><td style=\"text-align: right;\">        0.033309  </td><td style=\"text-align: right;\">     1.90472  </td><td style=\"text-align: right;\"> 1678270960</td><td style=\"text-align: right;\">                        0</td><td>                 </td><td style=\"text-align: right;\">                 100</td><td style=\"text-align: right;\">18094_00001</td><td style=\"text-align: right;\">   0.00463963</td></tr>\n",
              "<tr><td>train_attrition_18094_00002</td><td style=\"text-align: right;\">      0.221577</td><td style=\"text-align: right;\">        0.634087</td><td>2023-03-08_10-22-40</td><td>True  </td><td>                </td><td>82abb0aa3b3e4cd595a571f6b7e0fff3</td><td>256b117648ba</td><td style=\"text-align: right;\">                         1</td><td>172.28.0.12</td><td style=\"text-align: right;\">31270</td><td style=\"text-align: right;\">           0.0577185</td><td style=\"text-align: right;\">        0.0577185 </td><td style=\"text-align: right;\">     0.0577185</td><td style=\"text-align: right;\"> 1678270960</td><td style=\"text-align: right;\">                        0</td><td>                 </td><td style=\"text-align: right;\">                   1</td><td style=\"text-align: right;\">18094_00002</td><td style=\"text-align: right;\">   0.00805187</td></tr>\n",
              "<tr><td>train_attrition_18094_00003</td><td style=\"text-align: right;\">      0.208299</td><td style=\"text-align: right;\">        0.557248</td><td>2023-03-08_10-22-40</td><td>True  </td><td>                </td><td>82abb0aa3b3e4cd595a571f6b7e0fff3</td><td>256b117648ba</td><td style=\"text-align: right;\">                         1</td><td>172.28.0.12</td><td style=\"text-align: right;\">31270</td><td style=\"text-align: right;\">           0.0784388</td><td style=\"text-align: right;\">        0.0784388 </td><td style=\"text-align: right;\">     0.0784388</td><td style=\"text-align: right;\"> 1678270960</td><td style=\"text-align: right;\">                        0</td><td>                 </td><td style=\"text-align: right;\">                   1</td><td style=\"text-align: right;\">18094_00003</td><td style=\"text-align: right;\">   0.00805187</td></tr>\n",
              "<tr><td>train_attrition_18094_00004</td><td style=\"text-align: right;\">      0.212448</td><td style=\"text-align: right;\">        0.664281</td><td>2023-03-08_10-22-40</td><td>True  </td><td>                </td><td>82abb0aa3b3e4cd595a571f6b7e0fff3</td><td>256b117648ba</td><td style=\"text-align: right;\">                         1</td><td>172.28.0.12</td><td style=\"text-align: right;\">31270</td><td style=\"text-align: right;\">           0.0672958</td><td style=\"text-align: right;\">        0.0672958 </td><td style=\"text-align: right;\">     0.0672958</td><td style=\"text-align: right;\"> 1678270960</td><td style=\"text-align: right;\">                        0</td><td>                 </td><td style=\"text-align: right;\">                   1</td><td style=\"text-align: right;\">18094_00004</td><td style=\"text-align: right;\">   0.00805187</td></tr>\n",
              "<tr><td>train_attrition_18094_00005</td><td style=\"text-align: right;\">      0.304564</td><td style=\"text-align: right;\">        0.686552</td><td>2023-03-08_10-22-40</td><td>True  </td><td>                </td><td>82abb0aa3b3e4cd595a571f6b7e0fff3</td><td>256b117648ba</td><td style=\"text-align: right;\">                         1</td><td>172.28.0.12</td><td style=\"text-align: right;\">31270</td><td style=\"text-align: right;\">           0.0710759</td><td style=\"text-align: right;\">        0.0710759 </td><td style=\"text-align: right;\">     0.0710759</td><td style=\"text-align: right;\"> 1678270960</td><td style=\"text-align: right;\">                        0</td><td>                 </td><td style=\"text-align: right;\">                   1</td><td style=\"text-align: right;\">18094_00005</td><td style=\"text-align: right;\">   0.00805187</td></tr>\n",
              "<tr><td>train_attrition_18094_00006</td><td style=\"text-align: right;\">      0.217427</td><td style=\"text-align: right;\">        0.550696</td><td>2023-03-08_10-22-40</td><td>True  </td><td>                </td><td>82abb0aa3b3e4cd595a571f6b7e0fff3</td><td>256b117648ba</td><td style=\"text-align: right;\">                         1</td><td>172.28.0.12</td><td style=\"text-align: right;\">31270</td><td style=\"text-align: right;\">           0.048347 </td><td style=\"text-align: right;\">        0.048347  </td><td style=\"text-align: right;\">     0.048347 </td><td style=\"text-align: right;\"> 1678270960</td><td style=\"text-align: right;\">                        0</td><td>                 </td><td style=\"text-align: right;\">                   1</td><td style=\"text-align: right;\">18094_00006</td><td style=\"text-align: right;\">   0.00805187</td></tr>\n",
              "<tr><td>train_attrition_18094_00007</td><td style=\"text-align: right;\">      0.231535</td><td style=\"text-align: right;\">        0.682256</td><td>2023-03-08_10-22-40</td><td>True  </td><td>                </td><td>82abb0aa3b3e4cd595a571f6b7e0fff3</td><td>256b117648ba</td><td style=\"text-align: right;\">                         1</td><td>172.28.0.12</td><td style=\"text-align: right;\">31270</td><td style=\"text-align: right;\">           0.0638478</td><td style=\"text-align: right;\">        0.0638478 </td><td style=\"text-align: right;\">     0.0638478</td><td style=\"text-align: right;\"> 1678270960</td><td style=\"text-align: right;\">                        0</td><td>                 </td><td style=\"text-align: right;\">                   1</td><td style=\"text-align: right;\">18094_00007</td><td style=\"text-align: right;\">   0.00805187</td></tr>\n",
              "<tr><td>train_attrition_18094_00008</td><td style=\"text-align: right;\">      0.304564</td><td style=\"text-align: right;\">        0.687283</td><td>2023-03-08_10-22-40</td><td>True  </td><td>                </td><td>82abb0aa3b3e4cd595a571f6b7e0fff3</td><td>256b117648ba</td><td style=\"text-align: right;\">                         1</td><td>172.28.0.12</td><td style=\"text-align: right;\">31270</td><td style=\"text-align: right;\">           0.0581408</td><td style=\"text-align: right;\">        0.0581408 </td><td style=\"text-align: right;\">     0.0581408</td><td style=\"text-align: right;\"> 1678270960</td><td style=\"text-align: right;\">                        0</td><td>                 </td><td style=\"text-align: right;\">                   1</td><td style=\"text-align: right;\">18094_00008</td><td style=\"text-align: right;\">   0.00805187</td></tr>\n",
              "<tr><td>train_attrition_18094_00009</td><td style=\"text-align: right;\">      0.512033</td><td style=\"text-align: right;\">        0.690695</td><td>2023-03-08_10-22-40</td><td>True  </td><td>                </td><td>f26159d23cd14fafb2f07da86d2ec749</td><td>256b117648ba</td><td style=\"text-align: right;\">                         1</td><td>172.28.0.12</td><td style=\"text-align: right;\">31340</td><td style=\"text-align: right;\">           0.0667381</td><td style=\"text-align: right;\">        0.0667381 </td><td style=\"text-align: right;\">     0.0667381</td><td style=\"text-align: right;\"> 1678270960</td><td style=\"text-align: right;\">                        0</td><td>                 </td><td style=\"text-align: right;\">                   1</td><td style=\"text-align: right;\">18094_00009</td><td style=\"text-align: right;\">   0.00463963</td></tr>\n",
              "</tbody>\n",
              "</table>\n",
              "</div>\n",
              "<style>\n",
              ".trialProgress {\n",
              "  display: flex;\n",
              "  flex-direction: column;\n",
              "  color: var(--jp-ui-font-color1);\n",
              "}\n",
              ".trialProgress h3 {\n",
              "  font-weight: bold;\n",
              "}\n",
              ".trialProgress td {\n",
              "  white-space: nowrap;\n",
              "}\n",
              "</style>\n"
            ]
          },
          "metadata": {}
        },
        {
          "output_type": "stream",
          "name": "stderr",
          "text": [
            "\u001b[2m\u001b[36m(train_attrition pid=31340)\u001b[0m /usr/local/lib/python3.8/dist-packages/lightgbm/basic.py:762: UserWarning: categorical_feature in param dict is overridden.\n",
            "\u001b[2m\u001b[36m(train_attrition pid=31340)\u001b[0m   warnings.warn('categorical_feature in param dict is overridden.')\n",
            "2023-03-08 10:22:41,088\tINFO tune.py:798 -- Total run time: 27.30 seconds (22.29 seconds for the tuning loop).\n"
          ]
        }
      ],
      "source": [
        "results = tuner.fit()"
      ],
      "id": "EtJQeo_o2FzI"
    },
    {
      "cell_type": "code",
      "execution_count": null,
      "metadata": {
        "colab": {
          "base_uri": "https://localhost:8080/"
        },
        "id": "_1-TPro52Hja",
        "outputId": "07a862c7-fefa-43af-805d-cdc6c86418a5"
      },
      "outputs": [
        {
          "output_type": "stream",
          "name": "stdout",
          "text": [
            "{'objective': 'binary', 'boosting': 'gbdt', 'metric': ['binary_error', 'binary_logloss'], 'random_state': 100, 'verbosity': -1, 'num_leaves': 41, 'max_depth': 0, 'min_data_in_leaf': 20, 'learning_rate': 0.03023228780231226, 'bagging_freq': 8}\n"
          ]
        }
      ],
      "source": [
        "best = results.get_best_result().config\n",
        "print(best)"
      ],
      "id": "_1-TPro52Hja"
    },
    {
      "cell_type": "code",
      "execution_count": null,
      "metadata": {
        "colab": {
          "base_uri": "https://localhost:8080/"
        },
        "id": "FiHhaInJ4JvP",
        "outputId": "55f17646-0da1-48d0-c85d-93c191282356"
      },
      "outputs": [
        {
          "output_type": "stream",
          "name": "stdout",
          "text": [
            "0.8176470588235294\n"
          ]
        }
      ],
      "source": [
        "rt_clf = LGBMClassifier(bagging_freq=8, learning_rate=0.03023228780231226, max_depth=0, min_data_in_leaf=20, num_leaves=41)\n",
        "\n",
        "rt_clf.fit(X_train_sampled, y_train_sampled)\n",
        "pred = rt_clf.predict(X_test)\n",
        "\n",
        "recall = recall_score(y_test, pred)\n",
        "print(recall)"
      ],
      "id": "FiHhaInJ4JvP"
    },
    {
      "cell_type": "markdown",
      "metadata": {
        "id": "5cb8e073"
      },
      "source": [
        "### Answer the Questions Below"
      ],
      "id": "5cb8e073"
    },
    {
      "cell_type": "markdown",
      "metadata": {
        "id": "85ac4ca2"
      },
      "source": [
        "#### 1. Which model is better? The tuned model, or the default model? Explain why. "
      ],
      "id": "85ac4ca2"
    },
    {
      "cell_type": "markdown",
      "source": [
        "The default model outperforms the tuned model using  RandomizedSearchCV. The tuned model's recall score may be lower because the parameter ranges are too narrow or do not include the default value, a value less than the default value, or a value greater than the default value."
      ],
      "metadata": {
        "id": "GbLpo9HjjWPu"
      },
      "id": "GbLpo9HjjWPu"
    },
    {
      "cell_type": "markdown",
      "metadata": {
        "id": "c4337351"
      },
      "source": [
        "#### 2. Coba cari tahu di internet, apakah ada cara-cara tertentu untuk melakukan Hyperparameter Tuning secara automated sehingga lebih baik daripada cara kita melakukan Randomized Search CV ini? Jika ya, sebutkan cara-cara melakukan Hyperparameter Tuning dengan cara yang lebih baik daripadda Randomized Search CV ini. "
      ],
      "id": "c4337351"
    },
    {
      "cell_type": "markdown",
      "source": [
        "Bayesian Optimization (https://github.com/fmfn/BayesianOptimization), Hyperopt (https://github.com/hyperopt/hyperopt), and Optuna (https://optuna.org/) gave better result than Randomized Search CV."
      ],
      "metadata": {
        "id": "r8BHz2mHkkSF"
      },
      "id": "r8BHz2mHkkSF"
    },
    {
      "cell_type": "markdown",
      "metadata": {
        "id": "7acd867e"
      },
      "source": [
        "#### 3. Jika model underfit mapun overfit. Apakah Hyperparameter Tuning adalah solusi utama untuk menyelesaikan persoalan tersebut?"
      ],
      "id": "7acd867e"
    },
    {
      "cell_type": "markdown",
      "source": [
        "Hyperparameter tuning is one method for dealing with overfitting and underfitting in order to reduce or increase the model's complexity. Other methods for dealing with overfitting and underfitting include adding features and increasing training duration."
      ],
      "metadata": {
        "id": "ida5LapxpZV_"
      },
      "id": "ida5LapxpZV_"
    }
  ],
  "metadata": {
    "colab": {
      "provenance": []
    },
    "kernelspec": {
      "display_name": "Python 3",
      "language": "python",
      "name": "python3"
    },
    "language_info": {
      "codemirror_mode": {
        "name": "ipython",
        "version": 3
      },
      "file_extension": ".py",
      "mimetype": "text/x-python",
      "name": "python",
      "nbconvert_exporter": "python",
      "pygments_lexer": "ipython3",
      "version": "3.7.0"
    }
  },
  "nbformat": 4,
  "nbformat_minor": 5
}
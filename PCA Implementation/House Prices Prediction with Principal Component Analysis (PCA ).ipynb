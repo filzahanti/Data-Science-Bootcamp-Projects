{
 "cells": [
  {
   "cell_type": "markdown",
   "id": "22182fca",
   "metadata": {},
   "source": [
    "# House Prices Prediction with Principal Component Analysis (PCA )\n",
    "Filzahanti Nuha Ramadhani"
   ]
  },
  {
   "cell_type": "markdown",
   "id": "1aff4c59",
   "metadata": {},
   "source": [
    "- There are 14 attributes in the dataset: crim, zn, indus, chas, nox, rm, age, dis, rad, tax, ptratio, black, lstat, and mdev.<br>\n",
    "- Attribute information from the UCI Machine Learning Repository:\n",
    "    1. CRIM (per capita crime rate by town)\n",
    "    2. ZN (proportion of residential land zoned for lots over 25,000 sq.ft.)\n",
    "    3. INDUS (proportion of non-retail business acres per town)\n",
    "    4. CHAS (Charles River dummy variable (= 1 if tract bounds river 0 otherwise)\n",
    "    5. NOX (nitric oxides concentration (parts per 10 million)\n",
    "    6. RM (average number of rooms per dwelling)\n",
    "    7. AGE (proportion of owner-occupied units built prior to 1940)\n",
    "    8. DIS (weighted distances to five Boston employment centres)\n",
    "    9. RAD (index of accessibility to radial highways)\n",
    "    10. TAX (full-value property-tax rate per \\$10,000)\n",
    "    11. PTRATIO (pupil-teacher ratio by town)\n",
    "    12. Black (1000(Bk - 0.63)^2 where Bk is the proportion of blacks by town)\n",
    "    13. LSTAT (\\% lower status of the population)\n",
    "    14. MEDV (Median value of owner-occupied homes in $1000's)"
   ]
  },
  {
   "cell_type": "code",
   "execution_count": 1,
   "id": "b6335dd3",
   "metadata": {},
   "outputs": [],
   "source": [
    "import numpy as np\n",
    "import pandas as pd\n",
    "import matplotlib.pyplot as plt\n",
    "import seaborn as sns\n",
    "from sklearn.datasets import load_boston\n",
    "from sklearn.model_selection import train_test_split\n",
    "from sklearn.preprocessing import StandardScaler\n",
    "from sklearn.linear_model import LinearRegression, Lasso, Ridge\n",
    "from lightgbm import LGBMRegressor\n",
    "from xgboost.sklearn import XGBRegressor\n",
    "from sklearn.model_selection import GridSearchCV\n",
    "from sklearn.metrics import mean_squared_error\n",
    "\n",
    "import warnings\n",
    "warnings.filterwarnings('ignore')"
   ]
  },
  {
   "cell_type": "markdown",
   "id": "ee478059",
   "metadata": {},
   "source": [
    "## Load Dataset"
   ]
  },
  {
   "cell_type": "code",
   "execution_count": 2,
   "id": "06e38747",
   "metadata": {
    "scrolled": false
   },
   "outputs": [
    {
     "data": {
      "text/html": [
       "<div>\n",
       "<style scoped>\n",
       "    .dataframe tbody tr th:only-of-type {\n",
       "        vertical-align: middle;\n",
       "    }\n",
       "\n",
       "    .dataframe tbody tr th {\n",
       "        vertical-align: top;\n",
       "    }\n",
       "\n",
       "    .dataframe thead th {\n",
       "        text-align: right;\n",
       "    }\n",
       "</style>\n",
       "<table border=\"1\" class=\"dataframe\">\n",
       "  <thead>\n",
       "    <tr style=\"text-align: right;\">\n",
       "      <th></th>\n",
       "      <th>CRIM</th>\n",
       "      <th>ZN</th>\n",
       "      <th>INDUS</th>\n",
       "      <th>CHAS</th>\n",
       "      <th>NOX</th>\n",
       "      <th>RM</th>\n",
       "      <th>AGE</th>\n",
       "      <th>DIS</th>\n",
       "      <th>RAD</th>\n",
       "      <th>TAX</th>\n",
       "      <th>PTRATIO</th>\n",
       "      <th>B</th>\n",
       "      <th>LSTAT</th>\n",
       "      <th>MEDV</th>\n",
       "    </tr>\n",
       "  </thead>\n",
       "  <tbody>\n",
       "    <tr>\n",
       "      <th>0</th>\n",
       "      <td>0.00632</td>\n",
       "      <td>18.0</td>\n",
       "      <td>2.31</td>\n",
       "      <td>0.0</td>\n",
       "      <td>0.538</td>\n",
       "      <td>6.575</td>\n",
       "      <td>65.2</td>\n",
       "      <td>4.0900</td>\n",
       "      <td>1.0</td>\n",
       "      <td>296.0</td>\n",
       "      <td>15.3</td>\n",
       "      <td>396.90</td>\n",
       "      <td>4.98</td>\n",
       "      <td>24.0</td>\n",
       "    </tr>\n",
       "    <tr>\n",
       "      <th>1</th>\n",
       "      <td>0.02731</td>\n",
       "      <td>0.0</td>\n",
       "      <td>7.07</td>\n",
       "      <td>0.0</td>\n",
       "      <td>0.469</td>\n",
       "      <td>6.421</td>\n",
       "      <td>78.9</td>\n",
       "      <td>4.9671</td>\n",
       "      <td>2.0</td>\n",
       "      <td>242.0</td>\n",
       "      <td>17.8</td>\n",
       "      <td>396.90</td>\n",
       "      <td>9.14</td>\n",
       "      <td>21.6</td>\n",
       "    </tr>\n",
       "    <tr>\n",
       "      <th>2</th>\n",
       "      <td>0.02729</td>\n",
       "      <td>0.0</td>\n",
       "      <td>7.07</td>\n",
       "      <td>0.0</td>\n",
       "      <td>0.469</td>\n",
       "      <td>7.185</td>\n",
       "      <td>61.1</td>\n",
       "      <td>4.9671</td>\n",
       "      <td>2.0</td>\n",
       "      <td>242.0</td>\n",
       "      <td>17.8</td>\n",
       "      <td>392.83</td>\n",
       "      <td>4.03</td>\n",
       "      <td>34.7</td>\n",
       "    </tr>\n",
       "    <tr>\n",
       "      <th>3</th>\n",
       "      <td>0.03237</td>\n",
       "      <td>0.0</td>\n",
       "      <td>2.18</td>\n",
       "      <td>0.0</td>\n",
       "      <td>0.458</td>\n",
       "      <td>6.998</td>\n",
       "      <td>45.8</td>\n",
       "      <td>6.0622</td>\n",
       "      <td>3.0</td>\n",
       "      <td>222.0</td>\n",
       "      <td>18.7</td>\n",
       "      <td>394.63</td>\n",
       "      <td>2.94</td>\n",
       "      <td>33.4</td>\n",
       "    </tr>\n",
       "    <tr>\n",
       "      <th>4</th>\n",
       "      <td>0.06905</td>\n",
       "      <td>0.0</td>\n",
       "      <td>2.18</td>\n",
       "      <td>0.0</td>\n",
       "      <td>0.458</td>\n",
       "      <td>7.147</td>\n",
       "      <td>54.2</td>\n",
       "      <td>6.0622</td>\n",
       "      <td>3.0</td>\n",
       "      <td>222.0</td>\n",
       "      <td>18.7</td>\n",
       "      <td>396.90</td>\n",
       "      <td>5.33</td>\n",
       "      <td>36.2</td>\n",
       "    </tr>\n",
       "  </tbody>\n",
       "</table>\n",
       "</div>"
      ],
      "text/plain": [
       "      CRIM    ZN  INDUS  CHAS    NOX     RM   AGE     DIS  RAD    TAX  \\\n",
       "0  0.00632  18.0   2.31   0.0  0.538  6.575  65.2  4.0900  1.0  296.0   \n",
       "1  0.02731   0.0   7.07   0.0  0.469  6.421  78.9  4.9671  2.0  242.0   \n",
       "2  0.02729   0.0   7.07   0.0  0.469  7.185  61.1  4.9671  2.0  242.0   \n",
       "3  0.03237   0.0   2.18   0.0  0.458  6.998  45.8  6.0622  3.0  222.0   \n",
       "4  0.06905   0.0   2.18   0.0  0.458  7.147  54.2  6.0622  3.0  222.0   \n",
       "\n",
       "   PTRATIO       B  LSTAT  MEDV  \n",
       "0     15.3  396.90   4.98  24.0  \n",
       "1     17.8  396.90   9.14  21.6  \n",
       "2     17.8  392.83   4.03  34.7  \n",
       "3     18.7  394.63   2.94  33.4  \n",
       "4     18.7  396.90   5.33  36.2  "
      ]
     },
     "execution_count": 2,
     "metadata": {},
     "output_type": "execute_result"
    }
   ],
   "source": [
    "dataset = load_boston()\n",
    "df = pd.DataFrame(dataset.data, columns=dataset.feature_names)\n",
    "df['MEDV'] = dataset.target\n",
    "df.head()"
   ]
  },
  {
   "cell_type": "markdown",
   "id": "c0184783",
   "metadata": {},
   "source": [
    "## Data Preprocessing"
   ]
  },
  {
   "cell_type": "markdown",
   "id": "9be9e7f3",
   "metadata": {},
   "source": [
    "Check each column's type."
   ]
  },
  {
   "cell_type": "code",
   "execution_count": 3,
   "id": "54e9b339",
   "metadata": {
    "scrolled": true
   },
   "outputs": [
    {
     "name": "stdout",
     "output_type": "stream",
     "text": [
      "<class 'pandas.core.frame.DataFrame'>\n",
      "RangeIndex: 506 entries, 0 to 505\n",
      "Data columns (total 14 columns):\n",
      " #   Column   Non-Null Count  Dtype  \n",
      "---  ------   --------------  -----  \n",
      " 0   CRIM     506 non-null    float64\n",
      " 1   ZN       506 non-null    float64\n",
      " 2   INDUS    506 non-null    float64\n",
      " 3   CHAS     506 non-null    float64\n",
      " 4   NOX      506 non-null    float64\n",
      " 5   RM       506 non-null    float64\n",
      " 6   AGE      506 non-null    float64\n",
      " 7   DIS      506 non-null    float64\n",
      " 8   RAD      506 non-null    float64\n",
      " 9   TAX      506 non-null    float64\n",
      " 10  PTRATIO  506 non-null    float64\n",
      " 11  B        506 non-null    float64\n",
      " 12  LSTAT    506 non-null    float64\n",
      " 13  MEDV     506 non-null    float64\n",
      "dtypes: float64(14)\n",
      "memory usage: 55.5 KB\n"
     ]
    }
   ],
   "source": [
    "df.info()"
   ]
  },
  {
   "cell_type": "markdown",
   "id": "4adfe0ae",
   "metadata": {},
   "source": [
    "Check if there are missing values.    "
   ]
  },
  {
   "cell_type": "code",
   "execution_count": 4,
   "id": "80a40dc2",
   "metadata": {
    "scrolled": false
   },
   "outputs": [
    {
     "data": {
      "text/plain": [
       "CRIM       0\n",
       "ZN         0\n",
       "INDUS      0\n",
       "CHAS       0\n",
       "NOX        0\n",
       "RM         0\n",
       "AGE        0\n",
       "DIS        0\n",
       "RAD        0\n",
       "TAX        0\n",
       "PTRATIO    0\n",
       "B          0\n",
       "LSTAT      0\n",
       "MEDV       0\n",
       "dtype: int64"
      ]
     },
     "execution_count": 4,
     "metadata": {},
     "output_type": "execute_result"
    }
   ],
   "source": [
    "df.isnull().sum()"
   ]
  },
  {
   "cell_type": "markdown",
   "id": "59ea943f",
   "metadata": {},
   "source": [
    "Check if there are duplicated rows."
   ]
  },
  {
   "cell_type": "code",
   "execution_count": 5,
   "id": "75af7661",
   "metadata": {
    "scrolled": true
   },
   "outputs": [
    {
     "data": {
      "text/plain": [
       "0"
      ]
     },
     "execution_count": 5,
     "metadata": {},
     "output_type": "execute_result"
    }
   ],
   "source": [
    "df.duplicated().sum()"
   ]
  },
  {
   "cell_type": "markdown",
   "id": "6fe65ba5",
   "metadata": {},
   "source": [
    "Split target variable from other features."
   ]
  },
  {
   "cell_type": "code",
   "execution_count": 6,
   "id": "52a94b43",
   "metadata": {},
   "outputs": [],
   "source": [
    "X = df.drop('MEDV', axis=1)\n",
    "y = df['MEDV']"
   ]
  },
  {
   "cell_type": "markdown",
   "id": "3b84424c",
   "metadata": {},
   "source": [
    "Split train and test sets. <br>\n",
    "We split data into train and test sets before applying PCA to avoid data leakage."
   ]
  },
  {
   "cell_type": "code",
   "execution_count": 7,
   "id": "7c79d1d8",
   "metadata": {},
   "outputs": [],
   "source": [
    "X_train, X_test, y_train, y_test = train_test_split(X, y, test_size=0.25, random_state=100)"
   ]
  },
  {
   "cell_type": "markdown",
   "id": "60857a3e",
   "metadata": {},
   "source": [
    "Standardize the data."
   ]
  },
  {
   "cell_type": "code",
   "execution_count": 8,
   "id": "17c9e78a",
   "metadata": {},
   "outputs": [],
   "source": [
    "scaler = StandardScaler()\n",
    "X_train_std = scaler.fit_transform(X_train)\n",
    "X_test_std = scaler.transform(X_test)"
   ]
  },
  {
   "cell_type": "markdown",
   "id": "39b4c340",
   "metadata": {},
   "source": [
    "## PCA"
   ]
  },
  {
   "cell_type": "markdown",
   "id": "5e44dbc5",
   "metadata": {},
   "source": [
    "### Calculate covariance matrix"
   ]
  },
  {
   "cell_type": "code",
   "execution_count": 9,
   "id": "7f8b2d52",
   "metadata": {},
   "outputs": [],
   "source": [
    "xtrain = X_train_std.copy()"
   ]
  },
  {
   "cell_type": "code",
   "execution_count": 10,
   "id": "6caf8eaa",
   "metadata": {
    "scrolled": false
   },
   "outputs": [
    {
     "data": {
      "text/plain": [
       "array([[ 1.0026455 , -0.20852513,  0.42555506, -0.05723741,  0.45492641,\n",
       "        -0.27599943,  0.37951239, -0.39858735,  0.64929845,  0.60305392,\n",
       "         0.29810061, -0.4026666 ,  0.51139762],\n",
       "       [-0.20852513,  1.0026455 , -0.52543114, -0.02323535, -0.51660473,\n",
       "         0.32099398, -0.58551614,  0.64188401, -0.31314678, -0.31231928,\n",
       "        -0.39990964,  0.17392516, -0.42181263],\n",
       "       [ 0.42555506, -0.52543114,  1.0026455 ,  0.02480732,  0.75698333,\n",
       "        -0.40055913,  0.63469337, -0.69991855,  0.60051395,  0.72946187,\n",
       "         0.41471174, -0.34817513,  0.60584131],\n",
       "       [-0.05723741, -0.02323535,  0.02480732,  1.0026455 ,  0.030768  ,\n",
       "         0.12502719,  0.05545196, -0.06706826,  0.00819382, -0.04566313,\n",
       "        -0.07730413,  0.05189225, -0.07133542],\n",
       "       [ 0.45492641, -0.51660473,  0.75698333,  0.030768  ,  1.0026455 ,\n",
       "        -0.29446177,  0.73710238, -0.7698765 ,  0.63564142,  0.68683196,\n",
       "         0.22192659, -0.37722844,  0.58157539],\n",
       "       [-0.27599943,  0.32099398, -0.40055913,  0.12502719, -0.29446177,\n",
       "         1.0026455 , -0.24835631,  0.20969505, -0.19890905, -0.28364185,\n",
       "        -0.34680393,  0.12056357, -0.63378309],\n",
       "       [ 0.37951239, -0.58551614,  0.63469337,  0.05545196,  0.73710238,\n",
       "        -0.24835631,  1.0026455 , -0.76393621,  0.45474275,  0.49635443,\n",
       "         0.27024902, -0.26818984,  0.59472261],\n",
       "       [-0.39858735,  0.64188401, -0.69991855, -0.06706826, -0.7698765 ,\n",
       "         0.20969505, -0.76393621,  1.0026455 , -0.50092709, -0.53564053,\n",
       "        -0.24225067,  0.29225665, -0.49170135],\n",
       "       [ 0.64929845, -0.31314678,  0.60051395,  0.00819382,  0.63564142,\n",
       "        -0.19890905,  0.45474275, -0.50092709,  1.0026455 ,  0.90965989,\n",
       "         0.45908079, -0.41394523,  0.46862815],\n",
       "       [ 0.60305392, -0.31231928,  0.72946187, -0.04566313,  0.68683196,\n",
       "        -0.28364185,  0.49635443, -0.53564053,  0.90965989,  1.0026455 ,\n",
       "         0.46452372, -0.41269905,  0.51694134],\n",
       "       [ 0.29810061, -0.39990964,  0.41471174, -0.07730413,  0.22192659,\n",
       "        -0.34680393,  0.27024902, -0.24225067,  0.45908079,  0.46452372,\n",
       "         1.0026455 , -0.16022895,  0.36182261],\n",
       "       [-0.4026666 ,  0.17392516, -0.34817513,  0.05189225, -0.37722844,\n",
       "         0.12056357, -0.26818984,  0.29225665, -0.41394523, -0.41269905,\n",
       "        -0.16022895,  1.0026455 , -0.37650013],\n",
       "       [ 0.51139762, -0.42181263,  0.60584131, -0.07133542,  0.58157539,\n",
       "        -0.63378309,  0.59472261, -0.49170135,  0.46862815,  0.51694134,\n",
       "         0.36182261, -0.37650013,  1.0026455 ]])"
      ]
     },
     "execution_count": 10,
     "metadata": {},
     "output_type": "execute_result"
    }
   ],
   "source": [
    "cov_matrix = np.cov(X_train_std.T)\n",
    "cov_matrix"
   ]
  },
  {
   "cell_type": "markdown",
   "id": "61e6f912",
   "metadata": {},
   "source": [
    "### Eigendecomposition of covariance matrix"
   ]
  },
  {
   "cell_type": "code",
   "execution_count": 11,
   "id": "34bcce5e",
   "metadata": {},
   "outputs": [
    {
     "name": "stdout",
     "output_type": "stream",
     "text": [
      "eigenvalues:\n",
      " [6.16953904 1.3654163  1.25692997 0.91966421 0.84639008 0.67655275\n",
      " 0.51650872 0.371627   0.06359242 0.2750049  0.16968284 0.17988884\n",
      " 0.22359446] \n",
      "eigen vectors:\n",
      " [[-0.26399673  0.342026   -0.18868868 -0.02622164 -0.17494252 -0.15856205\n",
      "   0.72983315  0.15962353 -0.05023149 -0.3405648  -0.08778383 -0.18985901\n",
      "   0.02983315]\n",
      " [ 0.25466606  0.36929014 -0.27688177 -0.071288   -0.23787209 -0.36005257\n",
      "  -0.2569814  -0.51545459  0.08123974 -0.29307244 -0.00088565  0.15424761\n",
      "  -0.28772587]\n",
      " [-0.34511225 -0.09519113  0.01668449  0.03895285  0.03551525 -0.09123942\n",
      "  -0.42045585  0.05825007  0.26028701 -0.5819283   0.14820138 -0.26383333\n",
      "   0.42698569]\n",
      " [ 0.00699884 -0.4067504  -0.33818346  0.60311283 -0.58709512  0.09548694\n",
      "   0.00405866  0.00987095 -0.04558834  0.0063964  -0.01122859 -0.00117513\n",
      "  -0.01526358]\n",
      " [-0.34420822 -0.19293241 -0.12766617 -0.18231499  0.01079902 -0.17909471\n",
      "  -0.20606641  0.03724601 -0.03302417  0.08522766 -0.79859934 -0.14833149\n",
      "  -0.22494606]\n",
      " [ 0.1914657  -0.16695673 -0.60993925 -0.05185236  0.43003889  0.1412069\n",
      "   0.1601548  -0.29909804 -0.05312216 -0.01292208 -0.15581732  0.07720429\n",
      "   0.45556697]\n",
      " [-0.31296634 -0.34203719  0.01551473 -0.16055834  0.0424599  -0.04697381\n",
      "   0.19170669 -0.55634289  0.04642157  0.17676908  0.35412009 -0.4363793\n",
      "  -0.24399692]\n",
      " [ 0.31985167  0.36504905  0.06894231  0.14770983 -0.13783526  0.02031623\n",
      "  -0.10618881 -0.08039191  0.03406815  0.31828966 -0.17297289 -0.69640462\n",
      "   0.28869477]\n",
      " [-0.31828859  0.26272613 -0.31019885  0.20592935  0.13715226 -0.14405553\n",
      "  -0.03497694  0.13750001  0.62995144  0.44101691  0.13045807  0.14669993\n",
      "  -0.03833849]\n",
      " [-0.33576148  0.24441986 -0.23453481  0.15084367  0.13510483 -0.20462777\n",
      "  -0.26455326  0.08690367 -0.71721345  0.17961232  0.25286652 -0.02243687\n",
      "   0.03155391]\n",
      " [-0.20788077  0.23881614  0.27164219  0.58493968  0.33502097  0.34544017\n",
      "   0.04425334 -0.36096212 -0.01986436 -0.18794103 -0.2296104   0.06024815\n",
      "  -0.16709687]\n",
      " [ 0.19758455 -0.25161004  0.26608775  0.34951971  0.2568515  -0.76699417\n",
      "   0.17580056 -0.01366151 -0.00102347  0.02115044 -0.05539993  0.03442411\n",
      "   0.12098859]\n",
      " [-0.30758833  0.08764256  0.28973486 -0.12634983 -0.38176262 -0.05395142\n",
      "   0.06548354 -0.37625845 -0.04681377  0.23860149 -0.12685427  0.37462469\n",
      "   0.53640265]]\n"
     ]
    }
   ],
   "source": [
    "eigen_values, eigen_vectors = np.linalg.eig(cov_matrix)\n",
    "print('eigenvalues:\\n', eigen_values, '\\neigen vectors:\\n', eigen_vectors)"
   ]
  },
  {
   "cell_type": "markdown",
   "id": "95d39d2f",
   "metadata": {},
   "source": [
    "### Determine the components"
   ]
  },
  {
   "cell_type": "code",
   "execution_count": 12,
   "id": "7ac0b1ce",
   "metadata": {},
   "outputs": [
    {
     "name": "stdout",
     "output_type": "stream",
     "text": [
      "[47.33277366371466, 10.475489369664638, 9.643181053001355, 7.055674295725346, 6.493514297889661, 5.190520395665764, 3.962660763437747, 2.8511265537932164, 0.4878817429163162, 2.1098406914273173, 1.3018086689202053, 1.3801092620105644, 1.7154192418332208]\n"
     ]
    }
   ],
   "source": [
    "explained_variance = []\n",
    "for i in eigen_values:\n",
    "    explained_variance.append(i/sum(eigen_values)*100)\n",
    "print(explained_variance)"
   ]
  },
  {
   "cell_type": "code",
   "execution_count": 13,
   "id": "2c4204e6",
   "metadata": {},
   "outputs": [
    {
     "data": {
      "image/png": "[encoded data removed]",
      "text/plain": [
       "<Figure size 1080x360 with 1 Axes>"
      ]
     },
     "metadata": {
      "needs_background": "light"
     },
     "output_type": "display_data"
    }
   ],
   "source": [
    "plt.figure(figsize=(15,5))\n",
    "plt.bar(['pc1','pc2','pc3','pc4','pc5','pc6','pc7','pc8','pc9','pc10','pc11','pc12','pc13'], explained_variance, color='skyblue')\n",
    "plt.show()"
   ]
  },
  {
   "cell_type": "code",
   "execution_count": 14,
   "id": "f7747409",
   "metadata": {},
   "outputs": [
    {
     "name": "stdout",
     "output_type": "stream",
     "text": [
      "[ 47.33277366  57.80826303  67.45144409  74.50711838  81.00063268\n",
      "  86.19115308  90.15381384  93.00494039  93.49282214  95.60266283\n",
      "  96.9044715   98.28458076 100.        ]\n"
     ]
    }
   ],
   "source": [
    "cumulative_explained_variance = np.cumsum(explained_variance)\n",
    "print(cumulative_explained_variance)"
   ]
  },
  {
   "cell_type": "code",
   "execution_count": 15,
   "id": "2babc7e7",
   "metadata": {},
   "outputs": [
    {
     "data": {
      "image/png": "[encoded data removed]",
      "text/plain": [
       "<Figure size 1080x360 with 1 Axes>"
      ]
     },
     "metadata": {
      "needs_background": "light"
     },
     "output_type": "display_data"
    }
   ],
   "source": [
    "plt.figure(figsize=(15,5))\n",
    "#visualize the cumulative explained variance\n",
    "ax = sns.lineplot(x=np.arange(1,14,1), y=cumulative_explained_variance, marker='o')\n",
    "ax.set_xticks(np.arange(1,14,1))\n",
    "plt.axhline(y=95, color='red',linestyle='-')\n",
    "plt.text(1, 90, 'threshold of explained variance (95%)')\n",
    "plt.show()"
   ]
  },
  {
   "cell_type": "markdown",
   "id": "318f61a8",
   "metadata": {},
   "source": [
    "Use the first 9 principal components as they captured 95% of variance."
   ]
  },
  {
   "cell_type": "code",
   "execution_count": 16,
   "id": "5567d3bc",
   "metadata": {},
   "outputs": [
    {
     "name": "stdout",
     "output_type": "stream",
     "text": [
      "[[-0.26399673  0.342026   -0.18868868 -0.02622164 -0.17494252 -0.15856205\n",
      "   0.72983315  0.15962353 -0.05023149]\n",
      " [ 0.25466606  0.36929014 -0.27688177 -0.071288   -0.23787209 -0.36005257\n",
      "  -0.2569814  -0.51545459  0.08123974]\n",
      " [-0.34511225 -0.09519113  0.01668449  0.03895285  0.03551525 -0.09123942\n",
      "  -0.42045585  0.05825007  0.26028701]\n",
      " [ 0.00699884 -0.4067504  -0.33818346  0.60311283 -0.58709512  0.09548694\n",
      "   0.00405866  0.00987095 -0.04558834]\n",
      " [-0.34420822 -0.19293241 -0.12766617 -0.18231499  0.01079902 -0.17909471\n",
      "  -0.20606641  0.03724601 -0.03302417]\n",
      " [ 0.1914657  -0.16695673 -0.60993925 -0.05185236  0.43003889  0.1412069\n",
      "   0.1601548  -0.29909804 -0.05312216]\n",
      " [-0.31296634 -0.34203719  0.01551473 -0.16055834  0.0424599  -0.04697381\n",
      "   0.19170669 -0.55634289  0.04642157]\n",
      " [ 0.31985167  0.36504905  0.06894231  0.14770983 -0.13783526  0.02031623\n",
      "  -0.10618881 -0.08039191  0.03406815]\n",
      " [-0.31828859  0.26272613 -0.31019885  0.20592935  0.13715226 -0.14405553\n",
      "  -0.03497694  0.13750001  0.62995144]\n",
      " [-0.33576148  0.24441986 -0.23453481  0.15084367  0.13510483 -0.20462777\n",
      "  -0.26455326  0.08690367 -0.71721345]\n",
      " [-0.20788077  0.23881614  0.27164219  0.58493968  0.33502097  0.34544017\n",
      "   0.04425334 -0.36096212 -0.01986436]\n",
      " [ 0.19758455 -0.25161004  0.26608775  0.34951971  0.2568515  -0.76699417\n",
      "   0.17580056 -0.01366151 -0.00102347]\n",
      " [-0.30758833  0.08764256  0.28973486 -0.12634983 -0.38176262 -0.05395142\n",
      "   0.06548354 -0.37625845 -0.04681377]]\n"
     ]
    }
   ],
   "source": [
    "projection_matrix = (eigen_vectors.T[:][:9]).T\n",
    "print(projection_matrix)"
   ]
  },
  {
   "cell_type": "code",
   "execution_count": 17,
   "id": "836720d4",
   "metadata": {},
   "outputs": [],
   "source": [
    "#Get the product of eigenvectors and standardized X_train\n",
    "X_train_pca = X_train_std.dot(projection_matrix)\n",
    "#Get the product of eigenvectors and standardized X_test\n",
    "X_test_pca = X_test_std.dot(projection_matrix)"
   ]
  },
  {
   "cell_type": "markdown",
   "id": "a7d74ecc",
   "metadata": {},
   "source": [
    "## Modeling"
   ]
  },
  {
   "cell_type": "markdown",
   "id": "824ca72a",
   "metadata": {},
   "source": [
    "### LightGBM without PCA"
   ]
  },
  {
   "cell_type": "code",
   "execution_count": 18,
   "id": "f85e1021",
   "metadata": {},
   "outputs": [
    {
     "data": {
      "text/html": [
       "<style>#sk-container-id-1 {color: black;background-color: white;}#sk-container-id-1 pre{padding: 0;}#sk-container-id-1 div.sk-toggleable {background-color: white;}#sk-container-id-1 label.sk-toggleable__label {cursor: pointer;display: block;width: 100%;margin-bottom: 0;padding: 0.3em;box-sizing: border-box;text-align: center;}#sk-container-id-1 label.sk-toggleable__label-arrow:before {content: \"▸\";float: left;margin-right: 0.25em;color: #696969;}#sk-container-id-1 label.sk-toggleable__label-arrow:hover:before {color: black;}#sk-container-id-1 div.sk-estimator:hover label.sk-toggleable__label-arrow:before {color: black;}#sk-container-id-1 div.sk-toggleable__content {max-height: 0;max-width: 0;overflow: hidden;text-align: left;background-color: #f0f8ff;}#sk-container-id-1 div.sk-toggleable__content pre {margin: 0.2em;color: black;border-radius: 0.25em;background-color: #f0f8ff;}#sk-container-id-1 input.sk-toggleable__control:checked~div.sk-toggleable__content {max-height: 200px;max-width: 100%;overflow: auto;}#sk-container-id-1 input.sk-toggleable__control:checked~label.sk-toggleable__label-arrow:before {content: \"▾\";}#sk-container-id-1 div.sk-estimator input.sk-toggleable__control:checked~label.sk-toggleable__label {background-color: #d4ebff;}#sk-container-id-1 div.sk-label input.sk-toggleable__control:checked~label.sk-toggleable__label {background-color: #d4ebff;}#sk-container-id-1 input.sk-hidden--visually {border: 0;clip: rect(1px 1px 1px 1px);clip: rect(1px, 1px, 1px, 1px);height: 1px;margin: -1px;overflow: hidden;padding: 0;position: absolute;width: 1px;}#sk-container-id-1 div.sk-estimator {font-family: monospace;background-color: #f0f8ff;border: 1px dotted black;border-radius: 0.25em;box-sizing: border-box;margin-bottom: 0.5em;}#sk-container-id-1 div.sk-estimator:hover {background-color: #d4ebff;}#sk-container-id-1 div.sk-parallel-item::after {content: \"\";width: 100%;border-bottom: 1px solid gray;flex-grow: 1;}#sk-container-id-1 div.sk-label:hover label.sk-toggleable__label {background-color: #d4ebff;}#sk-container-id-1 div.sk-serial::before {content: \"\";position: absolute;border-left: 1px solid gray;box-sizing: border-box;top: 0;bottom: 0;left: 50%;z-index: 0;}#sk-container-id-1 div.sk-serial {display: flex;flex-direction: column;align-items: center;background-color: white;padding-right: 0.2em;padding-left: 0.2em;position: relative;}#sk-container-id-1 div.sk-item {position: relative;z-index: 1;}#sk-container-id-1 div.sk-parallel {display: flex;align-items: stretch;justify-content: center;background-color: white;position: relative;}#sk-container-id-1 div.sk-item::before, #sk-container-id-1 div.sk-parallel-item::before {content: \"\";position: absolute;border-left: 1px solid gray;box-sizing: border-box;top: 0;bottom: 0;left: 50%;z-index: -1;}#sk-container-id-1 div.sk-parallel-item {display: flex;flex-direction: column;z-index: 1;position: relative;background-color: white;}#sk-container-id-1 div.sk-parallel-item:first-child::after {align-self: flex-end;width: 50%;}#sk-container-id-1 div.sk-parallel-item:last-child::after {align-self: flex-start;width: 50%;}#sk-container-id-1 div.sk-parallel-item:only-child::after {width: 0;}#sk-container-id-1 div.sk-dashed-wrapped {border: 1px dashed gray;margin: 0 0.4em 0.5em 0.4em;box-sizing: border-box;padding-bottom: 0.4em;background-color: white;}#sk-container-id-1 div.sk-label label {font-family: monospace;font-weight: bold;display: inline-block;line-height: 1.2em;}#sk-container-id-1 div.sk-label-container {text-align: center;}#sk-container-id-1 div.sk-container {/* jupyter's `normalize.less` sets `[hidden] { display: none; }` but bootstrap.min.css set `[hidden] { display: none !important; }` so we also need the `!important` here to be able to override the default hidden behavior on the sphinx rendered scikit-learn.org. See: https://github.com/scikit-learn/scikit-learn/issues/21755 */display: inline-block !important;position: relative;}#sk-container-id-1 div.sk-text-repr-fallback {display: none;}</style><div id=\"sk-container-id-1\" class=\"sk-top-container\"><div class=\"sk-text-repr-fallback\"><pre>GridSearchCV(cv=3, estimator=LGBMRegressor(random_state=100), n_jobs=-1,\n",
       "             param_grid={&#x27;boosting_type&#x27;: [&#x27;gbdt&#x27;, &#x27;dart&#x27;, &#x27;goss&#x27;, &#x27;rf&#x27;],\n",
       "                         &#x27;n_estimators&#x27;: [30, 50, 100, 200]},\n",
       "             scoring=&#x27;neg_root_mean_squared_error&#x27;)</pre><b>In a Jupyter environment, please rerun this cell to show the HTML representation or trust the notebook. <br />On GitHub, the HTML representation is unable to render, please try loading this page with nbviewer.org.</b></div><div class=\"sk-container\" hidden><div class=\"sk-item sk-dashed-wrapped\"><div class=\"sk-label-container\"><div class=\"sk-label sk-toggleable\"><input class=\"sk-toggleable__control sk-hidden--visually\" id=\"sk-estimator-id-1\" type=\"checkbox\" ><label for=\"sk-estimator-id-1\" class=\"sk-toggleable__label sk-toggleable__label-arrow\">GridSearchCV</label><div class=\"sk-toggleable__content\"><pre>GridSearchCV(cv=3, estimator=LGBMRegressor(random_state=100), n_jobs=-1,\n",
       "             param_grid={&#x27;boosting_type&#x27;: [&#x27;gbdt&#x27;, &#x27;dart&#x27;, &#x27;goss&#x27;, &#x27;rf&#x27;],\n",
       "                         &#x27;n_estimators&#x27;: [30, 50, 100, 200]},\n",
       "             scoring=&#x27;neg_root_mean_squared_error&#x27;)</pre></div></div></div><div class=\"sk-parallel\"><div class=\"sk-parallel-item\"><div class=\"sk-item\"><div class=\"sk-label-container\"><div class=\"sk-label sk-toggleable\"><input class=\"sk-toggleable__control sk-hidden--visually\" id=\"sk-estimator-id-2\" type=\"checkbox\" ><label for=\"sk-estimator-id-2\" class=\"sk-toggleable__label sk-toggleable__label-arrow\">estimator: LGBMRegressor</label><div class=\"sk-toggleable__content\"><pre>LGBMRegressor(random_state=100)</pre></div></div></div><div class=\"sk-serial\"><div class=\"sk-item\"><div class=\"sk-estimator sk-toggleable\"><input class=\"sk-toggleable__control sk-hidden--visually\" id=\"sk-estimator-id-3\" type=\"checkbox\" ><label for=\"sk-estimator-id-3\" class=\"sk-toggleable__label sk-toggleable__label-arrow\">LGBMRegressor</label><div class=\"sk-toggleable__content\"><pre>LGBMRegressor(random_state=100)</pre></div></div></div></div></div></div></div></div></div></div>"
      ],
      "text/plain": [
       "GridSearchCV(cv=3, estimator=LGBMRegressor(random_state=100), n_jobs=-1,\n",
       "             param_grid={'boosting_type': ['gbdt', 'dart', 'goss', 'rf'],\n",
       "                         'n_estimators': [30, 50, 100, 200]},\n",
       "             scoring='neg_root_mean_squared_error')"
      ]
     },
     "execution_count": 18,
     "metadata": {},
     "output_type": "execute_result"
    }
   ],
   "source": [
    "lgbm = LGBMRegressor(random_state=100)\n",
    "param_lgbm = {'n_estimators': [30, 50, 100, 200],\n",
    "             'boosting_type':['gbdt','dart','goss','rf']}\n",
    "lgbm_search = GridSearchCV(lgbm, param_grid=param_lgbm, scoring='neg_root_mean_squared_error', cv=3, n_jobs=-1)\n",
    "lgbm_search.fit(X_train, y_train)"
   ]
  },
  {
   "cell_type": "code",
   "execution_count": 19,
   "id": "edd3280e",
   "metadata": {},
   "outputs": [
    {
     "data": {
      "text/plain": [
       "{'boosting_type': 'gbdt', 'n_estimators': 200}"
      ]
     },
     "execution_count": 19,
     "metadata": {},
     "output_type": "execute_result"
    }
   ],
   "source": [
    "lgbm_search.best_params_"
   ]
  },
  {
   "cell_type": "code",
   "execution_count": 20,
   "id": "d831546c",
   "metadata": {},
   "outputs": [],
   "source": [
    "lgbm_pred = lgbm_search.predict(X_test)\n",
    "rmse = np.sqrt(mean_squared_error(y_test, lgbm_pred))"
   ]
  },
  {
   "cell_type": "markdown",
   "id": "f1c8d160",
   "metadata": {},
   "source": [
    "### LightGBM with PCA"
   ]
  },
  {
   "cell_type": "code",
   "execution_count": 21,
   "id": "7e040a95",
   "metadata": {
    "scrolled": true
   },
   "outputs": [
    {
     "data": {
      "text/html": [
       "<style>#sk-container-id-2 {color: black;background-color: white;}#sk-container-id-2 pre{padding: 0;}#sk-container-id-2 div.sk-toggleable {background-color: white;}#sk-container-id-2 label.sk-toggleable__label {cursor: pointer;display: block;width: 100%;margin-bottom: 0;padding: 0.3em;box-sizing: border-box;text-align: center;}#sk-container-id-2 label.sk-toggleable__label-arrow:before {content: \"▸\";float: left;margin-right: 0.25em;color: #696969;}#sk-container-id-2 label.sk-toggleable__label-arrow:hover:before {color: black;}#sk-container-id-2 div.sk-estimator:hover label.sk-toggleable__label-arrow:before {color: black;}#sk-container-id-2 div.sk-toggleable__content {max-height: 0;max-width: 0;overflow: hidden;text-align: left;background-color: #f0f8ff;}#sk-container-id-2 div.sk-toggleable__content pre {margin: 0.2em;color: black;border-radius: 0.25em;background-color: #f0f8ff;}#sk-container-id-2 input.sk-toggleable__control:checked~div.sk-toggleable__content {max-height: 200px;max-width: 100%;overflow: auto;}#sk-container-id-2 input.sk-toggleable__control:checked~label.sk-toggleable__label-arrow:before {content: \"▾\";}#sk-container-id-2 div.sk-estimator input.sk-toggleable__control:checked~label.sk-toggleable__label {background-color: #d4ebff;}#sk-container-id-2 div.sk-label input.sk-toggleable__control:checked~label.sk-toggleable__label {background-color: #d4ebff;}#sk-container-id-2 input.sk-hidden--visually {border: 0;clip: rect(1px 1px 1px 1px);clip: rect(1px, 1px, 1px, 1px);height: 1px;margin: -1px;overflow: hidden;padding: 0;position: absolute;width: 1px;}#sk-container-id-2 div.sk-estimator {font-family: monospace;background-color: #f0f8ff;border: 1px dotted black;border-radius: 0.25em;box-sizing: border-box;margin-bottom: 0.5em;}#sk-container-id-2 div.sk-estimator:hover {background-color: #d4ebff;}#sk-container-id-2 div.sk-parallel-item::after {content: \"\";width: 100%;border-bottom: 1px solid gray;flex-grow: 1;}#sk-container-id-2 div.sk-label:hover label.sk-toggleable__label {background-color: #d4ebff;}#sk-container-id-2 div.sk-serial::before {content: \"\";position: absolute;border-left: 1px solid gray;box-sizing: border-box;top: 0;bottom: 0;left: 50%;z-index: 0;}#sk-container-id-2 div.sk-serial {display: flex;flex-direction: column;align-items: center;background-color: white;padding-right: 0.2em;padding-left: 0.2em;position: relative;}#sk-container-id-2 div.sk-item {position: relative;z-index: 1;}#sk-container-id-2 div.sk-parallel {display: flex;align-items: stretch;justify-content: center;background-color: white;position: relative;}#sk-container-id-2 div.sk-item::before, #sk-container-id-2 div.sk-parallel-item::before {content: \"\";position: absolute;border-left: 1px solid gray;box-sizing: border-box;top: 0;bottom: 0;left: 50%;z-index: -1;}#sk-container-id-2 div.sk-parallel-item {display: flex;flex-direction: column;z-index: 1;position: relative;background-color: white;}#sk-container-id-2 div.sk-parallel-item:first-child::after {align-self: flex-end;width: 50%;}#sk-container-id-2 div.sk-parallel-item:last-child::after {align-self: flex-start;width: 50%;}#sk-container-id-2 div.sk-parallel-item:only-child::after {width: 0;}#sk-container-id-2 div.sk-dashed-wrapped {border: 1px dashed gray;margin: 0 0.4em 0.5em 0.4em;box-sizing: border-box;padding-bottom: 0.4em;background-color: white;}#sk-container-id-2 div.sk-label label {font-family: monospace;font-weight: bold;display: inline-block;line-height: 1.2em;}#sk-container-id-2 div.sk-label-container {text-align: center;}#sk-container-id-2 div.sk-container {/* jupyter's `normalize.less` sets `[hidden] { display: none; }` but bootstrap.min.css set `[hidden] { display: none !important; }` so we also need the `!important` here to be able to override the default hidden behavior on the sphinx rendered scikit-learn.org. See: https://github.com/scikit-learn/scikit-learn/issues/21755 */display: inline-block !important;position: relative;}#sk-container-id-2 div.sk-text-repr-fallback {display: none;}</style><div id=\"sk-container-id-2\" class=\"sk-top-container\"><div class=\"sk-text-repr-fallback\"><pre>GridSearchCV(cv=3, estimator=LGBMRegressor(random_state=100), n_jobs=-1,\n",
       "             param_grid={&#x27;boosting_type&#x27;: [&#x27;gbdt&#x27;, &#x27;dart&#x27;, &#x27;goss&#x27;, &#x27;rf&#x27;],\n",
       "                         &#x27;n_estimators&#x27;: [30, 50, 100, 200]},\n",
       "             scoring=&#x27;neg_root_mean_squared_error&#x27;)</pre><b>In a Jupyter environment, please rerun this cell to show the HTML representation or trust the notebook. <br />On GitHub, the HTML representation is unable to render, please try loading this page with nbviewer.org.</b></div><div class=\"sk-container\" hidden><div class=\"sk-item sk-dashed-wrapped\"><div class=\"sk-label-container\"><div class=\"sk-label sk-toggleable\"><input class=\"sk-toggleable__control sk-hidden--visually\" id=\"sk-estimator-id-4\" type=\"checkbox\" ><label for=\"sk-estimator-id-4\" class=\"sk-toggleable__label sk-toggleable__label-arrow\">GridSearchCV</label><div class=\"sk-toggleable__content\"><pre>GridSearchCV(cv=3, estimator=LGBMRegressor(random_state=100), n_jobs=-1,\n",
       "             param_grid={&#x27;boosting_type&#x27;: [&#x27;gbdt&#x27;, &#x27;dart&#x27;, &#x27;goss&#x27;, &#x27;rf&#x27;],\n",
       "                         &#x27;n_estimators&#x27;: [30, 50, 100, 200]},\n",
       "             scoring=&#x27;neg_root_mean_squared_error&#x27;)</pre></div></div></div><div class=\"sk-parallel\"><div class=\"sk-parallel-item\"><div class=\"sk-item\"><div class=\"sk-label-container\"><div class=\"sk-label sk-toggleable\"><input class=\"sk-toggleable__control sk-hidden--visually\" id=\"sk-estimator-id-5\" type=\"checkbox\" ><label for=\"sk-estimator-id-5\" class=\"sk-toggleable__label sk-toggleable__label-arrow\">estimator: LGBMRegressor</label><div class=\"sk-toggleable__content\"><pre>LGBMRegressor(random_state=100)</pre></div></div></div><div class=\"sk-serial\"><div class=\"sk-item\"><div class=\"sk-estimator sk-toggleable\"><input class=\"sk-toggleable__control sk-hidden--visually\" id=\"sk-estimator-id-6\" type=\"checkbox\" ><label for=\"sk-estimator-id-6\" class=\"sk-toggleable__label sk-toggleable__label-arrow\">LGBMRegressor</label><div class=\"sk-toggleable__content\"><pre>LGBMRegressor(random_state=100)</pre></div></div></div></div></div></div></div></div></div></div>"
      ],
      "text/plain": [
       "GridSearchCV(cv=3, estimator=LGBMRegressor(random_state=100), n_jobs=-1,\n",
       "             param_grid={'boosting_type': ['gbdt', 'dart', 'goss', 'rf'],\n",
       "                         'n_estimators': [30, 50, 100, 200]},\n",
       "             scoring='neg_root_mean_squared_error')"
      ]
     },
     "execution_count": 21,
     "metadata": {},
     "output_type": "execute_result"
    }
   ],
   "source": [
    "lgbm = LGBMRegressor(random_state=100)\n",
    "param_lgbm = {'n_estimators': [30, 50, 100, 200],\n",
    "             'boosting_type':['gbdt','dart','goss','rf']}\n",
    "lgbm_search = GridSearchCV(lgbm, param_grid=param_lgbm, scoring='neg_root_mean_squared_error', cv=3, n_jobs=-1)\n",
    "lgbm_search.fit(X_train_pca, y_train)"
   ]
  },
  {
   "cell_type": "code",
   "execution_count": 22,
   "id": "64dea051",
   "metadata": {},
   "outputs": [
    {
     "data": {
      "text/plain": [
       "{'boosting_type': 'gbdt', 'n_estimators': 200}"
      ]
     },
     "execution_count": 22,
     "metadata": {},
     "output_type": "execute_result"
    }
   ],
   "source": [
    "lgbm_search.best_params_"
   ]
  },
  {
   "cell_type": "code",
   "execution_count": 23,
   "id": "b76f03b7",
   "metadata": {},
   "outputs": [],
   "source": [
    "lgbm_pred_pca = lgbm_search.predict(X_test_pca)\n",
    "rmse_pca = np.sqrt(mean_squared_error(y_test, lgbm_pred_pca))"
   ]
  },
  {
   "cell_type": "markdown",
   "id": "1a38fcf0",
   "metadata": {},
   "source": [
    "### Evaluation"
   ]
  },
  {
   "cell_type": "code",
   "execution_count": 24,
   "id": "edd82197",
   "metadata": {},
   "outputs": [],
   "source": [
    "df_rmse = pd.DataFrame([rmse, rmse_pca], columns=['rmse'], index=['without PCA', 'with PCA'])"
   ]
  },
  {
   "cell_type": "code",
   "execution_count": 26,
   "id": "f2a302b5",
   "metadata": {},
   "outputs": [
    {
     "data": {
      "text/html": [
       "<div>\n",
       "<style scoped>\n",
       "    .dataframe tbody tr th:only-of-type {\n",
       "        vertical-align: middle;\n",
       "    }\n",
       "\n",
       "    .dataframe tbody tr th {\n",
       "        vertical-align: top;\n",
       "    }\n",
       "\n",
       "    .dataframe thead th {\n",
       "        text-align: right;\n",
       "    }\n",
       "</style>\n",
       "<table border=\"1\" class=\"dataframe\">\n",
       "  <thead>\n",
       "    <tr style=\"text-align: right;\">\n",
       "      <th></th>\n",
       "      <th>rmse</th>\n",
       "    </tr>\n",
       "  </thead>\n",
       "  <tbody>\n",
       "    <tr>\n",
       "      <th>without PCA</th>\n",
       "      <td>3.757534</td>\n",
       "    </tr>\n",
       "    <tr>\n",
       "      <th>with PCA</th>\n",
       "      <td>4.680964</td>\n",
       "    </tr>\n",
       "  </tbody>\n",
       "</table>\n",
       "</div>"
      ],
      "text/plain": [
       "                 rmse\n",
       "without PCA  3.757534\n",
       "with PCA     4.680964"
      ]
     },
     "execution_count": 26,
     "metadata": {},
     "output_type": "execute_result"
    }
   ],
   "source": [
    "df_rmse"
   ]
  },
  {
   "cell_type": "code",
   "execution_count": 37,
   "id": "992817ea",
   "metadata": {},
   "outputs": [
    {
     "data": {
      "image/png": "[encoded data removed]",
      "text/plain": [
       "<Figure size 432x288 with 1 Axes>"
      ]
     },
     "metadata": {
      "needs_background": "light"
     },
     "output_type": "display_data"
    }
   ],
   "source": [
    "ax = df_rmse.plot(kind='bar', rot=0, color='salmon')\n",
    "for i in ax.containers:\n",
    "    ax.bar_label(i)"
   ]
  },
  {
   "cell_type": "markdown",
   "id": "1eb96cd3",
   "metadata": {},
   "source": [
    "- LightGBM without PCA gave better result than with PCA because the root mean squared error is smaller at 3.757534 than with PCA at 4.680964."
   ]
  }
 ],
 "metadata": {
  "kernelspec": {
   "display_name": "Python 3 (ipykernel)",
   "language": "python",
   "name": "python3"
  },
  "language_info": {
   "codemirror_mode": {
    "name": "ipython",
    "version": 3
   },
   "file_extension": ".py",
   "mimetype": "text/x-python",
   "name": "python",
   "nbconvert_exporter": "python",
   "pygments_lexer": "ipython3",
   "version": "3.9.12"
  }
 },
 "nbformat": 4,
 "nbformat_minor": 5
}
